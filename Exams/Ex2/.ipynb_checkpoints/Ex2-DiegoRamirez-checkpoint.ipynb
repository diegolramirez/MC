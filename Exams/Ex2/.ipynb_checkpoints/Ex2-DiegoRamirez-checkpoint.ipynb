{
 "cells": [
  {
   "cell_type": "code",
   "execution_count": 13,
   "metadata": {
    "collapsed": false
   },
   "outputs": [],
   "source": [
    "#Importo los paquetes\n",
    "import numpy as np\n",
    "from scipy import interpolate\n",
    "from scipy.io.wavfile import write as ww\n",
    "%matplotlib inline\n",
    "import matplotlib.pyplot as plt"
   ]
  },
  {
   "cell_type": "markdown",
   "metadata": {},
   "source": [
    "##Punto 1"
   ]
  },
  {
   "cell_type": "code",
   "execution_count": 14,
   "metadata": {
    "collapsed": false
   },
   "outputs": [],
   "source": [
    "#Importo el archivo\n",
    "ring = np.genfromtxt(\"ring.dft\",dtype='complex_')"
   ]
  },
  {
   "cell_type": "code",
   "execution_count": 15,
   "metadata": {
    "collapsed": false
   },
   "outputs": [],
   "source": [
    "#Hago la transformada inversa\n",
    "iring = (np.fft.ifft(ring))"
   ]
  },
  {
   "cell_type": "code",
   "execution_count": 16,
   "metadata": {
    "collapsed": false
   },
   "outputs": [],
   "source": [
    "#Convierto los datos a int16\n",
    "bits = np.real(iring).astype(np.int16)"
   ]
  },
  {
   "cell_type": "code",
   "execution_count": 17,
   "metadata": {
    "collapsed": false
   },
   "outputs": [],
   "source": [
    "#Creo la canción\n",
    "cancion = ww('cancioncita',22050,bits)"
   ]
  },
  {
   "cell_type": "code",
   "execution_count": 18,
   "metadata": {
    "collapsed": true
   },
   "outputs": [],
   "source": [
    "#Creo un array de tiempo que muestra la parte x y con dos veces la duración\n",
    "tiempo = np.linspace(0,5,len(bits))\n",
    "tiempo2 = np.linspace(0,5,len(bits)*2)"
   ]
  },
  {
   "cell_type": "markdown",
   "metadata": {},
   "source": [
    "##Punto 2 (a)"
   ]
  },
  {
   "cell_type": "code",
   "execution_count": 19,
   "metadata": {
    "collapsed": false
   },
   "outputs": [],
   "source": [
    "#Defino la interpolación\n",
    "interpol = interpolate.interp1d(tiempo,bits,kind='nearest')\n",
    "#Tomo los nuevos bits con el doble de puntos\n",
    "datosInterpoladosDobleTiempo = interpol(tiempo2)"
   ]
  },
  {
   "cell_type": "code",
   "execution_count": 20,
   "metadata": {
    "collapsed": true
   },
   "outputs": [],
   "source": [
    "#Convierto estos nuevos bits a int16\n",
    "bitsDoble = datosInterpoladosDobleTiempo.astype(np.int16)"
   ]
  },
  {
   "cell_type": "code",
   "execution_count": 21,
   "metadata": {
    "collapsed": true
   },
   "outputs": [],
   "source": [
    "#Creo la nueva canción\n",
    "cancionDoble = ww('cancioncita2',22050,bitsDoble)"
   ]
  },
  {
   "cell_type": "markdown",
   "metadata": {},
   "source": [
    "##Punto 2 (b)"
   ]
  },
  {
   "cell_type": "code",
   "execution_count": 22,
   "metadata": {
    "collapsed": false
   },
   "outputs": [],
   "source": [
    "#Creo el modulador de volumen\n",
    "modulador = np.linspace(1,0,len(datosInterpoladosDobleTiempo))\n",
    "#Le bajo el volumen a la canción\n",
    "bitsDobleVol = (datosInterpoladosDobleTiempo*modulador).astype(np.int16)"
   ]
  },
  {
   "cell_type": "code",
   "execution_count": 23,
   "metadata": {
    "collapsed": true
   },
   "outputs": [],
   "source": [
    "#Creo la nueva canción con menos volumen\n",
    "cancionDoble = ww('cancioncita2LowVol',22050,bitsDobleVol)"
   ]
  }
 ],
 "metadata": {
  "kernelspec": {
   "display_name": "Python 3",
   "language": "python",
   "name": "python3"
  },
  "language_info": {
   "codemirror_mode": {
    "name": "ipython",
    "version": 3
   },
   "file_extension": ".py",
   "mimetype": "text/x-python",
   "name": "python",
   "nbconvert_exporter": "python",
   "pygments_lexer": "ipython3",
   "version": "3.4.0"
  }
 },
 "nbformat": 4,
 "nbformat_minor": 0
}
