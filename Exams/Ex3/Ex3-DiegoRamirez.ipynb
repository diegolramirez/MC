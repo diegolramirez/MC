{
 "cells": [
  {
   "cell_type": "code",
   "execution_count": 1,
   "metadata": {
    "collapsed": false
   },
   "outputs": [],
   "source": [
    "import numpy as np\n",
    "import matplotlib.pyplot as plt\n",
    "%matplotlib inline"
   ]
  },
  {
   "cell_type": "markdown",
   "metadata": {},
   "source": [
    "##Punto 1"
   ]
  },
  {
   "cell_type": "code",
   "execution_count": 2,
   "metadata": {
    "collapsed": false
   },
   "outputs": [],
   "source": [
    "def puntos(N):\n",
    "    return(np.resize(np.random.uniform(0,1.00000000001,size=N*2),(N,2)))"
   ]
  },
  {
   "cell_type": "code",
   "execution_count": 3,
   "metadata": {
    "collapsed": false
   },
   "outputs": [
    {
     "data": {
      "text/plain": [
       "array([[ 0.39910411,  0.89114465],\n",
       "       [ 0.85361914,  0.97545118],\n",
       "       [ 0.60686761,  0.61988728],\n",
       "       [ 0.20557224,  0.51878461],\n",
       "       [ 0.30328269,  0.86499257],\n",
       "       [ 0.91730064,  0.06078319],\n",
       "       [ 0.78777874,  0.30857235],\n",
       "       [ 0.94518393,  0.28822743],\n",
       "       [ 0.98645524,  0.84114395],\n",
       "       [ 0.08526617,  0.46578772]])"
      ]
     },
     "execution_count": 3,
     "metadata": {},
     "output_type": "execute_result"
    }
   ],
   "source": [
    "puntos(10)"
   ]
  },
  {
   "cell_type": "markdown",
   "metadata": {},
   "source": [
    "##Punto 2"
   ]
  },
  {
   "cell_type": "code",
   "execution_count": 4,
   "metadata": {
    "collapsed": false
   },
   "outputs": [],
   "source": [
    "def distancias_puntos(puntos):\n",
    "    distancias = []\n",
    "    for i in range(len(puntos)):\n",
    "        for j in range(len(puntos)):\n",
    "            if (j>i):\n",
    "                distancia = np.sqrt((puntos[i][0] - puntos[j][0])**2 + (puntos[i][1] - puntos[j][1])**2)\n",
    "                distancias.append(distancia)\n",
    "    return(np.array(distancias))"
   ]
  },
  {
   "cell_type": "code",
   "execution_count": 5,
   "metadata": {
    "collapsed": false
   },
   "outputs": [
    {
     "data": {
      "text/plain": [
       "array([ 0.25885375,  0.08905792,  0.48614796,  0.33396193,  0.31886157,\n",
       "        0.0227773 ,  0.83604047,  0.32113536,  0.57928885,  0.17854687,\n",
       "        0.66803376,  0.41281196,  0.57373216,  0.23612847,  0.99103977,\n",
       "        0.57763239,  0.83753771,  0.56185286,  0.37161654,  0.40733709,\n",
       "        0.06901327,  0.90691046,  0.39988754,  0.6652598 ,  0.29925614,\n",
       "        0.32727936,  0.49822965,  0.35367248,  0.45981934,  0.46374846,\n",
       "        0.41609062,  0.33219847,  0.58341073,  0.51305472,  0.65838595,\n",
       "        0.34068282,  0.6584878 ,  0.13270805,  0.26869392,  0.84636732,\n",
       "        0.34376759,  0.6018304 ,  0.7888043 ,  0.69529043,  0.28195685])"
      ]
     },
     "execution_count": 5,
     "metadata": {},
     "output_type": "execute_result"
    }
   ],
   "source": [
    "distancias_puntos(puntos(10))"
   ]
  },
  {
   "cell_type": "code",
   "execution_count": 6,
   "metadata": {
    "collapsed": false
   },
   "outputs": [
    {
     "data": {
      "text/plain": [
       "45"
      ]
     },
     "execution_count": 6,
     "metadata": {},
     "output_type": "execute_result"
    }
   ],
   "source": [
    "len(distancias_puntos(puntos(10)))"
   ]
  },
  {
   "cell_type": "markdown",
   "metadata": {},
   "source": [
    "##Punto 3"
   ]
  },
  {
   "cell_type": "markdown",
   "metadata": {},
   "source": [
    "1. Se generan duplas de puntos de manera aleatoria en el intervalo [0,1).\n",
    "2. Luego se sacan todas las distancias no repetidas de estos puntos.\n",
    "3. De estas distancias se toma el mínimo.\n",
    "4. Ahora se repite este paso múltiples veces y se toma un promedio de los mínimos.\n",
    "5. Se repite ahora estos últimos dos pasos para varios números de puntos.\n",
    "6. Por último se grafica la distancia mínima promedio contra el número de puntos.\n",
    "7. OJO: se debe ejecutar con mínimo 2 puntos, no tiene sentido encontrar distancias para 0 o 1 puntos."
   ]
  },
  {
   "cell_type": "markdown",
   "metadata": {},
   "source": [
    "##Punto 4"
   ]
  },
  {
   "cell_type": "code",
   "execution_count": 43,
   "metadata": {
    "collapsed": true
   },
   "outputs": [],
   "source": [
    "def promedio_minimos(numExps,N):\n",
    "    minimos = []\n",
    "    for __ in range(numExps):\n",
    "        minimos.append(np.amin(distancias_puntos(puntos(N))))\n",
    "    return(np.mean(minimos))"
   ]
  },
  {
   "cell_type": "code",
   "execution_count": 44,
   "metadata": {
    "collapsed": false
   },
   "outputs": [
    {
     "data": {
      "text/plain": [
       "0.075154143075604279"
      ]
     },
     "execution_count": 44,
     "metadata": {},
     "output_type": "execute_result"
    }
   ],
   "source": [
    "promedio_minimos(10,10)"
   ]
  },
  {
   "cell_type": "code",
   "execution_count": 45,
   "metadata": {
    "collapsed": false
   },
   "outputs": [],
   "source": [
    "#Utilizo solo 50 en el número de experimentos para que no demore tanto corriendo.\n",
    "def experimento(numExps=50,N=1000,*args):\n",
    "    puntitos = np.logspace(np.log10(2),np.log10(N),7)\n",
    "    dists = []\n",
    "    for i in puntitos:\n",
    "        dists.append(promedio_minimos(numExps,np.around(i)))\n",
    "        print('va por %d puntos'%i)\n",
    "    return(puntitos,np.array(dists))"
   ]
  },
  {
   "cell_type": "code",
   "execution_count": 46,
   "metadata": {
    "collapsed": false
   },
   "outputs": [
    {
     "name": "stdout",
     "output_type": "stream",
     "text": [
      "va por 2 puntos\n",
      "va por 6 puntos\n",
      "va por 20 puntos\n",
      "va por 63 puntos\n",
      "va por 200 puntos\n",
      "va por 632 puntos\n",
      "va por 2000 puntos\n"
     ]
    }
   ],
   "source": [
    "a,b=experimento(N=2000)"
   ]
  },
  {
   "cell_type": "code",
   "execution_count": 47,
   "metadata": {
    "collapsed": false
   },
   "outputs": [],
   "source": [
    "def graficador(x,y):\n",
    "    fig = plt.figure(figsize=(10,6))\n",
    "    plt.loglog(x,y,'bo')\n",
    "    plt.xlabel('N',fontsize=25)\n",
    "    plt.ylabel(r'$\\bar{d_{m}}$',fontsize=30)\n",
    "    plt.title('Distancias mínimas promedio')\n",
    "    plt.grid()\n",
    "    plt.xlim(0,x[-1]*1.2)"
   ]
  },
  {
   "cell_type": "code",
   "execution_count": 48,
   "metadata": {
    "collapsed": false
   },
   "outputs": [
    {
     "data": {
      "image/png": "[encoded data removed]",
      "text/plain": [
       "<matplotlib.figure.Figure at 0x7fc59a313940>"
      ]
     },
     "metadata": {},
     "output_type": "display_data"
    }
   ],
   "source": [
    "graficador(a,b)"
   ]
  }
 ],
 "metadata": {
  "kernelspec": {
   "display_name": "Python 3",
   "language": "python",
   "name": "python3"
  },
  "language_info": {
   "codemirror_mode": {
    "name": "ipython",
    "version": 3
   },
   "file_extension": ".py",
   "mimetype": "text/x-python",
   "name": "python",
   "nbconvert_exporter": "python",
   "pygments_lexer": "ipython3",
   "version": "3.4.0"
  }
 },
 "nbformat": 4,
 "nbformat_minor": 0
}
