{
 "cells": [
  {
   "cell_type": "code",
   "execution_count": 1,
   "metadata": {
    "collapsed": true
   },
   "outputs": [],
   "source": [
    "import numpy as np\n",
    "import os\n",
    "import matplotlib.pyplot as plt\n",
    "%matplotlib inline"
   ]
  },
  {
   "cell_type": "markdown",
   "metadata": {},
   "source": [
    "##Procese el archivo para dejarlo en un formato fácil de importar a Python."
   ]
  },
  {
   "cell_type": "code",
   "execution_count": 2,
   "metadata": {
    "collapsed": false
   },
   "outputs": [
    {
     "data": {
      "text/plain": [
       "0"
      ]
     },
     "execution_count": 2,
     "metadata": {},
     "output_type": "execute_result"
    }
   ],
   "source": [
    "#Descargo y limpio el archivo\n",
    "os.system(\"bash limpiador.sh\")"
   ]
  },
  {
   "cell_type": "code",
   "execution_count": 3,
   "metadata": {
    "collapsed": false
   },
   "outputs": [],
   "source": [
    "#Importo los datos\n",
    "correr = np.genfromtxt(\"datoscorrer.csv\",delimiter=\",\",names=True)\n",
    "\n",
    "#Convierto el tiempo a horas\n",
    "tiempo = correr['hour'] + correr['min']/60 + correr['sec']/60"
   ]
  },
  {
   "cell_type": "markdown",
   "metadata": {},
   "source": [
    "##Haciendo los cambios de unidades pertinentes y teniendo en cuenta las características del [sistema de coordenadas esférico](http://mathworld.wolfram.com/SphericalCoordinates.html), calcular las coordenadas cartesianas de cada una de las posiciones registradas."
   ]
  },
  {
   "cell_type": "code",
   "execution_count": 4,
   "metadata": {
    "collapsed": false
   },
   "outputs": [],
   "source": [
    "r = 6371#Km\n",
    "x = r*np.sin(np.deg2rad(90 - correr['lat']))*np.cos(np.deg2rad(correr['lon']))\n",
    "y = r*np.sin(np.deg2rad(90 - correr['lat']))*np.sin(np.deg2rad(correr['lon']))\n",
    "z = r*np.cos(np.deg2rad(correr['lon']))"
   ]
  },
  {
   "cell_type": "markdown",
   "metadata": {},
   "source": [
    "##Después calcular los vectores de desplazamiento espacio-temporal tomando como referencia la primera posición registrada. Desprecie la altura."
   ]
  },
  {
   "cell_type": "code",
   "execution_count": 5,
   "metadata": {
    "collapsed": false
   },
   "outputs": [],
   "source": [
    "deltax = x - x[0]\n",
    "deltay = y - y[0]\n",
    "deltaz = z - z[0]\n",
    "\n",
    "deltar = []\n",
    "for i in range(len(deltax)):\n",
    "    deltar.append([deltax[i],deltay[i],deltaz[i]])\n",
    "deltar = np.array(deltar)"
   ]
  },
  {
   "cell_type": "markdown",
   "metadata": {},
   "source": [
    "##Usando vectores unitarios en dirección norte y oriente, calcule las coordenadas de los vectores de desplazamiento en ese sistema de coordenadas local. Tome como coordenadas de referencia: latitud 4.5981, longitud -74.0758. Haga una gráfica con la trayectoria. Si quiere que aparezca junto con un mapa busque información sobre **smopy**."
   ]
  },
  {
   "cell_type": "code",
   "execution_count": 12,
   "metadata": {
    "collapsed": false
   },
   "outputs": [
    {
     "data": {
      "text/plain": [
       "[<matplotlib.lines.Line2D at 0x7fb52d04d160>]"
      ]
     },
     "execution_count": 12,
     "metadata": {},
     "output_type": "execute_result"
    },
    {
     "data": {
      "image/png": "[encoded data removed]",
      "text/plain": [
       "<matplotlib.figure.Figure at 0x7fb52cfa5cc0>"
      ]
     },
     "metadata": {},
     "output_type": "display_data"
    }
   ],
   "source": [
    "latB = 4.5981\n",
    "lonB = -74.0758\n",
    "\n",
    "teta = np.deg2rad(lonB)\n",
    "fi = np.deg2rad(90 - latB)\n",
    "\n",
    "unitEast = np.array([-np.sin(teta),np.cos(teta),0])\n",
    "unitNorth = np.array([np.cos(teta)*np.cos(fi),np.sin(teta)*np.cos(fi),-np.sin(fi)])\n",
    "\n",
    "deltaxb = np.dot(deltar,unitNorth)\n",
    "deltayb = np.dot(deltar,unitEast)\n",
    "\n",
    "plt.plot(deltaxb,deltayb)"
   ]
  },
  {
   "cell_type": "markdown",
   "metadata": {},
   "source": [
    "##Ahora calcule la distancia recorrida en función del tiempo estimando numéricamente la integral."
   ]
  },
  {
   "cell_type": "code",
   "execution_count": null,
   "metadata": {
    "collapsed": true
   },
   "outputs": [],
   "source": []
  },
  {
   "cell_type": "markdown",
   "metadata": {},
   "source": [
    "##Estime el tiempo requerido para terminar de recorrer 1, 2 .. 9 km y la posición (en latitud y longitud) en esos instantes."
   ]
  },
  {
   "cell_type": "code",
   "execution_count": null,
   "metadata": {
    "collapsed": true
   },
   "outputs": [],
   "source": []
  },
  {
   "cell_type": "code",
   "execution_count": null,
   "metadata": {
    "collapsed": true
   },
   "outputs": [],
   "source": []
  }
 ],
 "metadata": {
  "kernelspec": {
   "display_name": "Python 3",
   "language": "python",
   "name": "python3"
  },
  "language_info": {
   "codemirror_mode": {
    "name": "ipython",
    "version": 3
   },
   "file_extension": ".py",
   "mimetype": "text/x-python",
   "name": "python",
   "nbconvert_exporter": "python",
   "pygments_lexer": "ipython3",
   "version": "3.4.0"
  }
 },
 "nbformat": 4,
 "nbformat_minor": 0
}
