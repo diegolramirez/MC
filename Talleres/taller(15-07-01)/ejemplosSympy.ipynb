{
 "cells": [
  {
   "cell_type": "code",
   "execution_count": 1,
   "metadata": {
    "collapsed": false
   },
   "outputs": [],
   "source": [
    "import sympy as sp\n",
    "sp.init_printing(use_unicode = True)"
   ]
  },
  {
   "cell_type": "markdown",
   "metadata": {},
   "source": [
    "###Demuestre las ecuaciones utilizadas para los métodos de Adams-Bashforth de orden 2, 3 y 4 (ver Scherer eq. 11.72). Utilice  [Sympy](http://docs.sympy.org/dev/modules/integrals/integrals.html) como ayuda en los cálculos simbólicos. **log**"
   ]
  },
  {
   "cell_type": "code",
   "execution_count": 26,
   "metadata": {
    "collapsed": true
   },
   "outputs": [],
   "source": [
    "#Defino símbolos\n",
    "h,t,t0,t1,t2,t3,t4,f0,f1,f2,f3,f4 = sp.symbols('h t t0 t1 t2 t3 t4 f0 f1 f2 f3 f4')"
   ]
  },
  {
   "cell_type": "markdown",
   "metadata": {},
   "source": [
    "###Orden 1"
   ]
  },
  {
   "cell_type": "code",
   "execution_count": 27,
   "metadata": {
    "collapsed": false
   },
   "outputs": [
    {
     "data": {
      "image/png": "[encoded data removed]",
      "text/latex": [
       "$$\\frac{f_{0} \\left(t - t_{1}\\right)}{t_{0} - t_{1}} + \\frac{fn_{1} \\left(t - t_{0}\\right)}{- t_{0} + t_{1}}$$"
      ],
      "text/plain": [
       "f₀⋅(t - t₁)   fn₁⋅(t - t₀)\n",
       "─────────── + ────────────\n",
       "  t₀ - t₁       -t₀ + t₁  "
      ]
     },
     "execution_count": 27,
     "metadata": {},
     "output_type": "execute_result"
    }
   ],
   "source": [
    "#Defino el polinomio\n",
    "(f0*((t-t1)/(t0-t1)) +\n",
    " fn1*((t-t0)/(t1-t0)))"
   ]
  },
  {
   "cell_type": "code",
   "execution_count": 28,
   "metadata": {
    "collapsed": false
   },
   "outputs": [
    {
     "data": {
      "image/png": "[encoded data removed]",
      "text/latex": [
       "$$\\frac{f_{0}}{h} \\left(h + t - t_{0}\\right) - \\frac{f_{1}}{h} \\left(t - t_{0}\\right)$$"
      ],
      "text/plain": [
       "f₀⋅(h + t - t₀)   f₁⋅(t - t₀)\n",
       "─────────────── - ───────────\n",
       "       h               h     "
      ]
     },
     "execution_count": 28,
     "metadata": {},
     "output_type": "execute_result"
    }
   ],
   "source": [
    "t1 = t0 - 1*h\n",
    "(f0*((t-t1)/(t0-t1)) +\n",
    " f1*((t-t0)/(t1-t0)))"
   ]
  },
  {
   "cell_type": "code",
   "execution_count": 29,
   "metadata": {
    "collapsed": false
   },
   "outputs": [
    {
     "data": {
      "image/png": "[encoded data removed]",
      "text/latex": [
       "$$\\frac{h}{2} \\left(3 f_{0} - f_{1}\\right)$$"
      ],
      "text/plain": [
       "h⋅(3⋅f₀ - f₁)\n",
       "─────────────\n",
       "      2      "
      ]
     },
     "execution_count": 29,
     "metadata": {},
     "output_type": "execute_result"
    }
   ],
   "source": [
    "#Defino tn e integro y simplifico el polinomio\n",
    "sp.simplify(sp.integrate(f1*(t-t0)/(t1-t0) + \n",
    "                         f0*(t-t1)/(t0-t1),\n",
    "                         (t,t0,t0+h)))"
   ]
  },
  {
   "cell_type": "markdown",
   "metadata": {},
   "source": [
    "###Orden 2"
   ]
  },
  {
   "cell_type": "code",
   "execution_count": 24,
   "metadata": {
    "collapsed": false
   },
   "outputs": [
    {
     "data": {
      "image/png": "[encoded data removed]",
      "text/latex": [
       "$$\\frac{f_{0}}{2 h^{2}} \\left(h + t - t_{0}\\right) \\left(2 h + t - t_{0}\\right) - \\frac{f_{1}}{h^{2}} \\left(t - t_{0}\\right) \\left(2 h + t - t_{0}\\right) + \\frac{f_{2}}{2 h^{2}} \\left(t - t_{0}\\right) \\left(h + t - t_{0}\\right)$$"
      ],
      "text/plain": [
       "f₀⋅(h + t - t₀)⋅(2⋅h + t - t₀)   f₁⋅(t - t₀)⋅(2⋅h + t - t₀)   f₂⋅(t - t₀)⋅(h +\n",
       "────────────────────────────── - ────────────────────────── + ────────────────\n",
       "                2                             2                            2  \n",
       "             2⋅h                             h                          2⋅h   \n",
       "\n",
       " t - t₀)\n",
       "────────\n",
       "        \n",
       "        "
      ]
     },
     "execution_count": 24,
     "metadata": {},
     "output_type": "execute_result"
    }
   ],
   "source": [
    "#Defino el polinomio\n",
    "(f0*(((t-t1)*(t-t2))/((t0-t1)*(t0-t2))) + \n",
    "f1*(((t-t0)*(t-t2))/((t1-t0)*(t1-t2))) + \n",
    "f2*(((t-t0)*(t-t1))/((t2-t0)*(t2-t1))) )"
   ]
  },
  {
   "cell_type": "code",
   "execution_count": 25,
   "metadata": {
    "collapsed": false
   },
   "outputs": [
    {
     "data": {
      "image/png": "[encoded data removed]",
      "text/latex": [
       "$$\\frac{f_{0}}{2 h^{2}} \\left(h + t - t_{0}\\right) \\left(2 h + t - t_{0}\\right) - \\frac{f_{1}}{h^{2}} \\left(t - t_{0}\\right) \\left(2 h + t - t_{0}\\right) + \\frac{f_{2}}{2 h^{2}} \\left(t - t_{0}\\right) \\left(h + t - t_{0}\\right)$$"
      ],
      "text/plain": [
       "f₀⋅(h + t - t₀)⋅(2⋅h + t - t₀)   f₁⋅(t - t₀)⋅(2⋅h + t - t₀)   f₂⋅(t - t₀)⋅(h +\n",
       "────────────────────────────── - ────────────────────────── + ────────────────\n",
       "                2                             2                            2  \n",
       "             2⋅h                             h                          2⋅h   \n",
       "\n",
       " t - t₀)\n",
       "────────\n",
       "        \n",
       "        "
      ]
     },
     "execution_count": 25,
     "metadata": {},
     "output_type": "execute_result"
    }
   ],
   "source": [
    "t2 = t0 - 2*h\n",
    "(f0*(((t-t1)*(t-t2))/((t0-t1)*(t0-t2))) + \n",
    "f1*(((t-t0)*(t-t2))/((t1-t0)*(t1-t2))) + \n",
    "f2*(((t-t0)*(t-t1))/((t2-t0)*(t2-t1))) )"
   ]
  },
  {
   "cell_type": "code",
   "execution_count": 22,
   "metadata": {
    "collapsed": false
   },
   "outputs": [
    {
     "data": {
      "image/png": "[encoded data removed]",
      "text/latex": [
       "$$\\frac{h}{12} \\left(23 f_{0} - 16 f_{1} + 5 f_{2}\\right)$$"
      ],
      "text/plain": [
       "h⋅(23⋅f₀ - 16⋅f₁ + 5⋅f₂)\n",
       "────────────────────────\n",
       "           12           "
      ]
     },
     "execution_count": 22,
     "metadata": {},
     "output_type": "execute_result"
    }
   ],
   "source": [
    "#Defino tn e integro y simplifico el polinomio\n",
    "sp.simplify(sp.integrate((f0*(((t-t1)*(t-t2))/((t0-t1)*(t0-t2))) + \n",
    "f1*(((t-t0)*(t-t2))/((t1-t0)*(t1-t2))) + \n",
    "f2*(((t-t0)*(t-t1))/((t2-t0)*(t2-t1))) ),\n",
    "                            (t,t0,t0+h)))"
   ]
  },
  {
   "cell_type": "markdown",
   "metadata": {},
   "source": [
    "###Orden 3"
   ]
  },
  {
   "cell_type": "code",
   "execution_count": 12,
   "metadata": {
    "collapsed": false
   },
   "outputs": [
    {
     "data": {
      "image/png": "[encoded data removed]",
      "text/latex": [
       "$$\\frac{fn \\left(t - tn_{1}\\right) \\left(t - tn_{2}\\right) \\left(t - tn_{3}\\right)}{\\left(tn - tn_{1}\\right) \\left(tn - tn_{2}\\right) \\left(tn - tn_{3}\\right)} + \\frac{fn_{1} \\left(t - tn\\right) \\left(t - tn_{2}\\right) \\left(t - tn_{3}\\right)}{\\left(- tn + tn_{1}\\right) \\left(tn_{1} - tn_{2}\\right) \\left(tn_{1} - tn_{3}\\right)} + \\frac{fn_{2} \\left(t - tn\\right) \\left(t - tn_{1}\\right) \\left(t - tn_{3}\\right)}{\\left(- tn + tn_{2}\\right) \\left(- tn_{1} + tn_{2}\\right) \\left(tn_{2} - tn_{3}\\right)} + \\frac{fn_{3} \\left(t - tn\\right) \\left(t - tn_{1}\\right) \\left(t - tn_{2}\\right)}{\\left(- tn + tn_{3}\\right) \\left(- tn_{1} + tn_{3}\\right) \\left(- tn_{2} + tn_{3}\\right)}$$"
      ],
      "text/plain": [
       "fn⋅(t - tn₁)⋅(t - tn₂)⋅(t - tn₃)     fn₁⋅(t - tn)⋅(t - tn₂)⋅(t - tn₃)      fn₂\n",
       "──────────────────────────────── + ─────────────────────────────────── + ─────\n",
       "(tn - tn₁)⋅(tn - tn₂)⋅(tn - tn₃)   (-tn + tn₁)⋅(tn₁ - tn₂)⋅(tn₁ - tn₃)   (-tn \n",
       "\n",
       "⋅(t - tn)⋅(t - tn₁)⋅(t - tn₃)        fn₃⋅(t - tn)⋅(t - tn₁)⋅(t - tn₂)  \n",
       "─────────────────────────────── + ─────────────────────────────────────\n",
       "+ tn₂)⋅(-tn₁ + tn₂)⋅(tn₂ - tn₃)   (-tn + tn₃)⋅(-tn₁ + tn₃)⋅(-tn₂ + tn₃)"
      ]
     },
     "execution_count": 12,
     "metadata": {},
     "output_type": "execute_result"
    }
   ],
   "source": [
    "#Defino el polinomio\n",
    "(fn*(((t-tn1)*(t-tn2)*(t-tn3))/((tn-tn1)*(tn-tn2)*(tn-tn3))) + \n",
    "fn1*(((t-tn)*(t-tn2)*(t-tn3))/((tn1-tn)*(tn1-tn2)*(tn1-tn3))) + \n",
    "fn2*(((t-tn)*(t-tn1)*(t-tn3))/((tn2-tn)*(tn2-tn1)*(tn2-tn3))) +\n",
    "fn3*(((t-tn)*(t-tn1)*(t-tn2))/((tn3-tn)*(tn3-tn1)*(tn3-tn2))))"
   ]
  },
  {
   "cell_type": "code",
   "execution_count": null,
   "metadata": {
    "collapsed": true
   },
   "outputs": [],
   "source": [
    "#Defino tn e integro y simplifico el polinomio\n",
    "tn3 = tn - 3*h\n",
    "sp.simplify(sp.integrate((fn*(((t-tn1)*(t-tn2)*(t-tn3))/((tn-tn1)*(tn-tn2)*(tn-tn3))) + \n",
    "                                fn1*(((t-tn)*(t-tn2)*(t-tn3))/((tn1-tn)*(tn1-tn2)*(tn1-tn3))) + \n",
    "                                fn2*(((t-tn)*(t-tn1)*(t-tn3))/((tn2-tn)*(tn2-tn1)*(tn2-tn3))) +\n",
    "                                fn3*(((t-tn)*(t-tn1)*(t-tn2))/((tn3-tn)*(tn3-tn1)*(tn3-tn2)))),\n",
    "                                (t,tn,tn+h)))"
   ]
  },
  {
   "cell_type": "markdown",
   "metadata": {},
   "source": [
    "###Orden 4"
   ]
  },
  {
   "cell_type": "code",
   "execution_count": 13,
   "metadata": {
    "collapsed": false
   },
   "outputs": [
    {
     "data": {
      "image/png": "[encoded data removed]",
      "text/latex": [
       "$$\\frac{fn \\left(t - tn_{1}\\right) \\left(t - tn_{2}\\right) \\left(t - tn_{3}\\right) \\left(t - tn_{4}\\right)}{\\left(tn - tn_{1}\\right) \\left(tn - tn_{2}\\right) \\left(tn - tn_{3}\\right) \\left(tn - tn_{4}\\right)} + \\frac{fn_{1} \\left(t - tn\\right) \\left(t - tn_{2}\\right) \\left(t - tn_{3}\\right) \\left(t - tn_{4}\\right)}{\\left(- tn + tn_{1}\\right) \\left(tn_{1} - tn_{2}\\right) \\left(tn_{1} - tn_{3}\\right) \\left(tn_{1} - tn_{4}\\right)} + \\frac{fn_{2} \\left(t - tn\\right) \\left(t - tn_{1}\\right) \\left(t - tn_{3}\\right) \\left(t - tn_{4}\\right)}{\\left(- tn + tn_{2}\\right) \\left(- tn_{1} + tn_{2}\\right) \\left(tn_{2} - tn_{3}\\right) \\left(tn_{2} - tn_{4}\\right)} + \\frac{fn_{3} \\left(t - tn\\right) \\left(t - tn_{1}\\right) \\left(t - tn_{2}\\right) \\left(t - tn_{4}\\right)}{\\left(- tn + tn_{3}\\right) \\left(- tn_{1} + tn_{3}\\right) \\left(- tn_{2} + tn_{3}\\right) \\left(tn_{3} - tn_{4}\\right)} + \\frac{fn_{4} \\left(t - tn\\right) \\left(t - tn_{1}\\right) \\left(t - tn_{2}\\right) \\left(t - tn_{3}\\right)}{\\left(- tn + tn_{4}\\right) \\left(- tn_{1} + tn_{4}\\right) \\left(- tn_{2} + tn_{4}\\right) \\left(- tn_{3} + tn_{4}\\right)}$$"
      ],
      "text/plain": [
       " fn⋅(t - tn₁)⋅(t - tn₂)⋅(t - tn₃)⋅(t - tn₄)      fn₁⋅(t - tn)⋅(t - tn₂)⋅(t - t\n",
       "─────────────────────────────────────────── + ────────────────────────────────\n",
       "(tn - tn₁)⋅(tn - tn₂)⋅(tn - tn₃)⋅(tn - tn₄)   (-tn + tn₁)⋅(tn₁ - tn₂)⋅(tn₁ - t\n",
       "\n",
       "n₃)⋅(t - tn₄)        fn₂⋅(t - tn)⋅(t - tn₁)⋅(t - tn₃)⋅(t - tn₄)          fn₃⋅(\n",
       "─────────────── + ──────────────────────────────────────────────── + ─────────\n",
       "n₃)⋅(tn₁ - tn₄)   (-tn + tn₂)⋅(-tn₁ + tn₂)⋅(tn₂ - tn₃)⋅(tn₂ - tn₄)   (-tn + tn\n",
       "\n",
       "t - tn)⋅(t - tn₁)⋅(t - tn₂)⋅(t - tn₄)          fn₄⋅(t - tn)⋅(t - tn₁)⋅(t - tn₂\n",
       "──────────────────────────────────────── + ───────────────────────────────────\n",
       "₃)⋅(-tn₁ + tn₃)⋅(-tn₂ + tn₃)⋅(tn₃ - tn₄)   (-tn + tn₄)⋅(-tn₁ + tn₄)⋅(-tn₂ + tn\n",
       "\n",
       ")⋅(t - tn₃)    \n",
       "───────────────\n",
       "₄)⋅(-tn₃ + tn₄)"
      ]
     },
     "execution_count": 13,
     "metadata": {},
     "output_type": "execute_result"
    }
   ],
   "source": [
    "#Defino el polinomio\n",
    "(fn*(((t-tn1)*(t-tn2)*(t-tn3)*(t-tn4))/((tn-tn1)*(tn-tn2)*(tn-tn3)*(tn-tn4))) + \n",
    "fn1*(((t-tn)*(t-tn2)*(t-tn3)*(t-tn4))/((tn1-tn)*(tn1-tn2)*(tn1-tn3)*(tn1-tn4))) + \n",
    "fn2*(((t-tn)*(t-tn1)*(t-tn3)*(t-tn4))/((tn2-tn)*(tn2-tn1)*(tn2-tn3)*(tn2-tn4))) +\n",
    "fn3*(((t-tn)*(t-tn1)*(t-tn2)*(t-tn4))/((tn3-tn)*(tn3-tn1)*(tn3-tn2)*(tn3-tn4))) +\n",
    "fn4*(((t-tn)*(t-tn1)*(t-tn2)*(t-tn3))/((tn4-tn)*(tn4-tn1)*(tn4-tn2)*(tn4-tn3))))"
   ]
  },
  {
   "cell_type": "code",
   "execution_count": null,
   "metadata": {
    "collapsed": true
   },
   "outputs": [],
   "source": [
    "#Defino tn e integro y simplifico el polinomio\n",
    "tn4 = tn - 4*h\n",
    "sp.simplify(sp.integrate(fn1*(t-tn)/(tn1-tn) + fn*(t-tn1)/(tn-tn1),(t,tn,tn+h)))"
   ]
  },
  {
   "cell_type": "code",
   "execution_count": null,
   "metadata": {
    "collapsed": true
   },
   "outputs": [],
   "source": []
  },
  {
   "cell_type": "code",
   "execution_count": null,
   "metadata": {
    "collapsed": true
   },
   "outputs": [],
   "source": []
  }
 ],
 "metadata": {
  "kernelspec": {
   "display_name": "Python 3",
   "language": "python",
   "name": "python3"
  },
  "language_info": {
   "codemirror_mode": {
    "name": "ipython",
    "version": 3
   },
   "file_extension": ".py",
   "mimetype": "text/x-python",
   "name": "python",
   "nbconvert_exporter": "python",
   "pygments_lexer": "ipython3",
   "version": "3.4.0"
  }
 },
 "nbformat": 4,
 "nbformat_minor": 0
}
