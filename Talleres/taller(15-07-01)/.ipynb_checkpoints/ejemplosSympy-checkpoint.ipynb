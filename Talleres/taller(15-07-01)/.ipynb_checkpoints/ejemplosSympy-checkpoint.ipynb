{
 "cells": [
  {
   "cell_type": "code",
   "execution_count": 1,
   "metadata": {
    "collapsed": false
   },
   "outputs": [],
   "source": [
    "import sympy as sp\n",
    "sp.init_printing(use_unicode = True)"
   ]
  },
  {
   "cell_type": "markdown",
   "metadata": {},
   "source": [
    "###Demuestre las ecuaciones utilizadas para los métodos de Adams-Bashforth de orden 2, 3 y 4 (ver Scherer eq. 11.72). Utilice  [Sympy](http://docs.sympy.org/dev/modules/integrals/integrals.html) como ayuda en los cálculos simbólicos. **log**"
   ]
  },
  {
   "cell_type": "code",
   "execution_count": 2,
   "metadata": {
    "collapsed": true
   },
   "outputs": [],
   "source": [
    "#Defino símbolos\n",
    "h,t,tn,tn1,tn2,tn3,tn4,fn,fn1,fn2,fn3,fn4 = sp.symbols('h t tn tn1 tn2 tn3 tn4 fn fn1 fn2 fn3 fn4')"
   ]
  },
  {
   "cell_type": "markdown",
   "metadata": {},
   "source": [
    "###Orden 1"
   ]
  },
  {
   "cell_type": "code",
   "execution_count": 6,
   "metadata": {
    "collapsed": false
   },
   "outputs": [
    {
     "data": {
      "image/png": "[encoded data removed]",
      "text/latex": [
       "$$\\frac{fn \\left(t - tn_{1}\\right)}{tn - tn_{1}} + \\frac{fn_{1} \\left(t - tn\\right)}{- tn + tn_{1}}$$"
      ],
      "text/plain": [
       "fn⋅(t - tn₁)   fn₁⋅(t - tn)\n",
       "──────────── + ────────────\n",
       "  tn - tn₁      -tn + tn₁  "
      ]
     },
     "execution_count": 6,
     "metadata": {},
     "output_type": "execute_result"
    }
   ],
   "source": [
    "#Defino el polinomio\n",
    "(fn*((t-tn1)/(tn-tn1)) +\n",
    " fn1*((t-tn)/(tn1-tn)))"
   ]
  },
  {
   "cell_type": "code",
   "execution_count": 8,
   "metadata": {
    "collapsed": false
   },
   "outputs": [
    {
     "data": {
      "image/png": "[encoded data removed]",
      "text/latex": [
       "$$\\frac{h}{2} \\left(3 fn - fn_{1}\\right)$$"
      ],
      "text/plain": [
       "h⋅(3⋅fn - fn₁)\n",
       "──────────────\n",
       "      2       "
      ]
     },
     "execution_count": 8,
     "metadata": {},
     "output_type": "execute_result"
    }
   ],
   "source": [
    "#Defino tn e integro y simplifico el polinomio\n",
    "tn1 = tn - 1*h\n",
    "sp.simplify(sp.integrate(fn1*(t-tn)/(tn1-tn) + \n",
    "                         fn*(t-tn1)/(tn-tn1),\n",
    "                         (t,tn,tn+h)))"
   ]
  },
  {
   "cell_type": "markdown",
   "metadata": {},
   "source": [
    "###Orden 2"
   ]
  },
  {
   "cell_type": "code",
   "execution_count": 11,
   "metadata": {
    "collapsed": false
   },
   "outputs": [
    {
     "data": {
      "image/png": "[encoded data removed]",
      "text/latex": [
       "$$\\frac{fn \\left(t - tn_{1}\\right) \\left(t - tn_{2}\\right)}{\\left(tn - tn_{1}\\right) \\left(tn - tn_{2}\\right)} + \\frac{fn_{1} \\left(t - tn\\right) \\left(t - tn_{2}\\right)}{\\left(- tn + tn_{1}\\right) \\left(tn_{1} - tn_{2}\\right)} + \\frac{fn_{2} \\left(t - tn\\right) \\left(t - tn_{1}\\right)}{\\left(- tn + tn_{2}\\right) \\left(- tn_{1} + tn_{2}\\right)}$$"
      ],
      "text/plain": [
       "fn⋅(t - tn₁)⋅(t - tn₂)    fn₁⋅(t - tn)⋅(t - tn₂)    fn₂⋅(t - tn)⋅(t - tn₁) \n",
       "────────────────────── + ─────────────────────── + ────────────────────────\n",
       "(tn - tn₁)⋅(tn - tn₂)    (-tn + tn₁)⋅(tn₁ - tn₂)   (-tn + tn₂)⋅(-tn₁ + tn₂)"
      ]
     },
     "execution_count": 11,
     "metadata": {},
     "output_type": "execute_result"
    }
   ],
   "source": [
    "#Defino el polinomio\n",
    "(fn*(((t-tn1)*(t-tn2))/((tn-tn1)*(tn-tn2))) + \n",
    "fn1*(((t-tn)*(t-tn2))/((tn1-tn)*(tn1-tn2))) + \n",
    "fn2*(((t-tn)*(t-tn1))/((tn2-tn)*(tn2-tn1))) )"
   ]
  },
  {
   "cell_type": "code",
   "execution_count": null,
   "metadata": {
    "collapsed": true
   },
   "outputs": [],
   "source": [
    "#Defino tn e integro y simplifico el polinomio\n",
    "tn2 = tn - 2*h\n",
    "sp.simplify(sp.integrate((fn*(((t-tn1)*(t-tn2))/((tn-tn1)*(tn-tn2))) + \n",
    "                            fn1*(((t-tn)*(t-tn2))/((tn1-tn)*(tn2-tn))) + \n",
    "                            fn2*(((t-tn)*(t-tn1))/((tn1-tn)*(tn2-tn))) ),\n",
    "                            (t,tn,tn+h)))"
   ]
  },
  {
   "cell_type": "markdown",
   "metadata": {},
   "source": [
    "###Orden 3"
   ]
  },
  {
   "cell_type": "code",
   "execution_count": 12,
   "metadata": {
    "collapsed": false
   },
   "outputs": [
    {
     "data": {
      "image/png": "[encoded data removed]",
      "text/latex": [
       "$$\\frac{fn \\left(t - tn_{1}\\right) \\left(t - tn_{2}\\right) \\left(t - tn_{3}\\right)}{\\left(tn - tn_{1}\\right) \\left(tn - tn_{2}\\right) \\left(tn - tn_{3}\\right)} + \\frac{fn_{1} \\left(t - tn\\right) \\left(t - tn_{2}\\right) \\left(t - tn_{3}\\right)}{\\left(- tn + tn_{1}\\right) \\left(tn_{1} - tn_{2}\\right) \\left(tn_{1} - tn_{3}\\right)} + \\frac{fn_{2} \\left(t - tn\\right) \\left(t - tn_{1}\\right) \\left(t - tn_{3}\\right)}{\\left(- tn + tn_{2}\\right) \\left(- tn_{1} + tn_{2}\\right) \\left(tn_{2} - tn_{3}\\right)} + \\frac{fn_{3} \\left(t - tn\\right) \\left(t - tn_{1}\\right) \\left(t - tn_{2}\\right)}{\\left(- tn + tn_{3}\\right) \\left(- tn_{1} + tn_{3}\\right) \\left(- tn_{2} + tn_{3}\\right)}$$"
      ],
      "text/plain": [
       "fn⋅(t - tn₁)⋅(t - tn₂)⋅(t - tn₃)     fn₁⋅(t - tn)⋅(t - tn₂)⋅(t - tn₃)      fn₂\n",
       "──────────────────────────────── + ─────────────────────────────────── + ─────\n",
       "(tn - tn₁)⋅(tn - tn₂)⋅(tn - tn₃)   (-tn + tn₁)⋅(tn₁ - tn₂)⋅(tn₁ - tn₃)   (-tn \n",
       "\n",
       "⋅(t - tn)⋅(t - tn₁)⋅(t - tn₃)        fn₃⋅(t - tn)⋅(t - tn₁)⋅(t - tn₂)  \n",
       "─────────────────────────────── + ─────────────────────────────────────\n",
       "+ tn₂)⋅(-tn₁ + tn₂)⋅(tn₂ - tn₃)   (-tn + tn₃)⋅(-tn₁ + tn₃)⋅(-tn₂ + tn₃)"
      ]
     },
     "execution_count": 12,
     "metadata": {},
     "output_type": "execute_result"
    }
   ],
   "source": [
    "#Defino el polinomio\n",
    "(fn*(((t-tn1)*(t-tn2)*(t-tn3))/((tn-tn1)*(tn-tn2)*(tn-tn3))) + \n",
    "fn1*(((t-tn)*(t-tn2)*(t-tn3))/((tn1-tn)*(tn1-tn2)*(tn1-tn3))) + \n",
    "fn2*(((t-tn)*(t-tn1)*(t-tn3))/((tn2-tn)*(tn2-tn1)*(tn2-tn3))) +\n",
    "fn3*(((t-tn)*(t-tn1)*(t-tn2))/((tn3-tn)*(tn3-tn1)*(tn3-tn2))))"
   ]
  },
  {
   "cell_type": "code",
   "execution_count": null,
   "metadata": {
    "collapsed": true
   },
   "outputs": [],
   "source": [
    "#Defino tn e integro y simplifico el polinomio\n",
    "tn3 = tn - 3*h\n",
    "sp.simplify(sp.integrate((fn*(((t-tn1)*(t-tn2)*(t-tn3))/((tn-tn1)*(tn-tn2)*(tn-tn3))) + \n",
    "                                fn1*(((t-tn)*(t-tn2)*(t-tn3))/((tn1-tn)*(tn1-tn2)*(tn1-tn3))) + \n",
    "                                fn2*(((t-tn)*(t-tn1)*(t-tn3))/((tn2-tn)*(tn2-tn1)*(tn2-tn3))) +\n",
    "                                fn3*(((t-tn)*(t-tn1)*(t-tn2))/((tn3-tn)*(tn3-tn1)*(tn3-tn2)))),\n",
    "                                (t,tn,tn+h)))"
   ]
  },
  {
   "cell_type": "markdown",
   "metadata": {},
   "source": [
    "###Orden 4"
   ]
  },
  {
   "cell_type": "code",
   "execution_count": 13,
   "metadata": {
    "collapsed": false
   },
   "outputs": [
    {
     "data": {
      "image/png": "[encoded data removed]",
      "text/latex": [
       "$$\\frac{fn \\left(t - tn_{1}\\right) \\left(t - tn_{2}\\right) \\left(t - tn_{3}\\right) \\left(t - tn_{4}\\right)}{\\left(tn - tn_{1}\\right) \\left(tn - tn_{2}\\right) \\left(tn - tn_{3}\\right) \\left(tn - tn_{4}\\right)} + \\frac{fn_{1} \\left(t - tn\\right) \\left(t - tn_{2}\\right) \\left(t - tn_{3}\\right) \\left(t - tn_{4}\\right)}{\\left(- tn + tn_{1}\\right) \\left(tn_{1} - tn_{2}\\right) \\left(tn_{1} - tn_{3}\\right) \\left(tn_{1} - tn_{4}\\right)} + \\frac{fn_{2} \\left(t - tn\\right) \\left(t - tn_{1}\\right) \\left(t - tn_{3}\\right) \\left(t - tn_{4}\\right)}{\\left(- tn + tn_{2}\\right) \\left(- tn_{1} + tn_{2}\\right) \\left(tn_{2} - tn_{3}\\right) \\left(tn_{2} - tn_{4}\\right)} + \\frac{fn_{3} \\left(t - tn\\right) \\left(t - tn_{1}\\right) \\left(t - tn_{2}\\right) \\left(t - tn_{4}\\right)}{\\left(- tn + tn_{3}\\right) \\left(- tn_{1} + tn_{3}\\right) \\left(- tn_{2} + tn_{3}\\right) \\left(tn_{3} - tn_{4}\\right)} + \\frac{fn_{4} \\left(t - tn\\right) \\left(t - tn_{1}\\right) \\left(t - tn_{2}\\right) \\left(t - tn_{3}\\right)}{\\left(- tn + tn_{4}\\right) \\left(- tn_{1} + tn_{4}\\right) \\left(- tn_{2} + tn_{4}\\right) \\left(- tn_{3} + tn_{4}\\right)}$$"
      ],
      "text/plain": [
       " fn⋅(t - tn₁)⋅(t - tn₂)⋅(t - tn₃)⋅(t - tn₄)      fn₁⋅(t - tn)⋅(t - tn₂)⋅(t - t\n",
       "─────────────────────────────────────────── + ────────────────────────────────\n",
       "(tn - tn₁)⋅(tn - tn₂)⋅(tn - tn₃)⋅(tn - tn₄)   (-tn + tn₁)⋅(tn₁ - tn₂)⋅(tn₁ - t\n",
       "\n",
       "n₃)⋅(t - tn₄)        fn₂⋅(t - tn)⋅(t - tn₁)⋅(t - tn₃)⋅(t - tn₄)          fn₃⋅(\n",
       "─────────────── + ──────────────────────────────────────────────── + ─────────\n",
       "n₃)⋅(tn₁ - tn₄)   (-tn + tn₂)⋅(-tn₁ + tn₂)⋅(tn₂ - tn₃)⋅(tn₂ - tn₄)   (-tn + tn\n",
       "\n",
       "t - tn)⋅(t - tn₁)⋅(t - tn₂)⋅(t - tn₄)          fn₄⋅(t - tn)⋅(t - tn₁)⋅(t - tn₂\n",
       "──────────────────────────────────────── + ───────────────────────────────────\n",
       "₃)⋅(-tn₁ + tn₃)⋅(-tn₂ + tn₃)⋅(tn₃ - tn₄)   (-tn + tn₄)⋅(-tn₁ + tn₄)⋅(-tn₂ + tn\n",
       "\n",
       ")⋅(t - tn₃)    \n",
       "───────────────\n",
       "₄)⋅(-tn₃ + tn₄)"
      ]
     },
     "execution_count": 13,
     "metadata": {},
     "output_type": "execute_result"
    }
   ],
   "source": [
    "#Defino el polinomio\n",
    "(fn*(((t-tn1)*(t-tn2)*(t-tn3)*(t-tn4))/((tn-tn1)*(tn-tn2)*(tn-tn3)*(tn-tn4))) + \n",
    "fn1*(((t-tn)*(t-tn2)*(t-tn3)*(t-tn4))/((tn1-tn)*(tn1-tn2)*(tn1-tn3)*(tn1-tn4))) + \n",
    "fn2*(((t-tn)*(t-tn1)*(t-tn3)*(t-tn4))/((tn2-tn)*(tn2-tn1)*(tn2-tn3)*(tn2-tn4))) +\n",
    "fn3*(((t-tn)*(t-tn1)*(t-tn2)*(t-tn4))/((tn3-tn)*(tn3-tn1)*(tn3-tn2)*(tn3-tn4))) +\n",
    "fn4*(((t-tn)*(t-tn1)*(t-tn2)*(t-tn3))/((tn4-tn)*(tn4-tn1)*(tn4-tn2)*(tn4-tn3))))"
   ]
  },
  {
   "cell_type": "code",
   "execution_count": null,
   "metadata": {
    "collapsed": true
   },
   "outputs": [],
   "source": [
    "#Defino tn e integro y simplifico el polinomio\n",
    "tn4 = tn - 4*h\n",
    "sp.simplify(sp.integrate(fn1*(t-tn)/(tn1-tn) + fn*(t-tn1)/(tn-tn1),(t,tn,tn+h)))"
   ]
  },
  {
   "cell_type": "code",
   "execution_count": null,
   "metadata": {
    "collapsed": true
   },
   "outputs": [],
   "source": []
  },
  {
   "cell_type": "code",
   "execution_count": null,
   "metadata": {
    "collapsed": true
   },
   "outputs": [],
   "source": []
  }
 ],
 "metadata": {
  "kernelspec": {
   "display_name": "Python 3",
   "language": "python",
   "name": "python3"
  },
  "language_info": {
   "codemirror_mode": {
    "name": "ipython",
    "version": 3
   },
   "file_extension": ".py",
   "mimetype": "text/x-python",
   "name": "python",
   "nbconvert_exporter": "python",
   "pygments_lexer": "ipython3",
   "version": "3.4.0"
  }
 },
 "nbformat": 4,
 "nbformat_minor": 0
}
