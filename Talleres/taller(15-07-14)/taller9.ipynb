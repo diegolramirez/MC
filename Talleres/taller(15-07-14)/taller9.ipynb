{
 "cells": [
  {
   "cell_type": "code",
   "execution_count": 67,
   "metadata": {
    "collapsed": false
   },
   "outputs": [],
   "source": [
    "#Importación de paquetes\n",
    "import numpy as np\n",
    "%matplotlib inline\n",
    "import matplotlib.pyplot as plt\n",
    "import os\n",
    "from matplotlib import animation\n",
    "#from matplotlib import animation\n",
    "#import time"
   ]
  },
  {
   "cell_type": "markdown",
   "metadata": {},
   "source": [
    "#Taller 9 - Ecuaciones en Derivadas Parciales\n",
    "*Métodos Computacionales - Laboratorio*\n",
    "\n",
    "14-Jul-2015 & 15-Jul-2015\n",
    "\n",
    "## Ecuación de Onda con Amortiguamiento 8 ✵\n",
    "\n",
    "1) ✵✵✵ Modifique la solución de la ecuación de onda 2D por diferencias finitas para incluir efectos de amortiguamiento. Determine la ecuación de evolución modificada y escriba el desarrollo algebraico correspondiente.\n",
    "\n",
    "$$\\frac{\\partial^2 \\psi}{\\partial{x}^2} + 2\\eta \\frac{\\partial\\psi}{\\partial{t}} = \\frac{1}{v^2}\\frac{\\partial^2 \\psi}{\\partial{t}^2}$$\n",
    "    \n",
    "2) ✵ Programe lo anterior y haga una animación de lo que le acontece a una deformación inicial similar a la que hemos utilizado en anteriores ocasiones. Considere una membrana con extremos fijos.\n",
    "\n",
    "3) ✵✵✵✵ Ahora haga una animación que simule gotas sobre la superficie de una piscina de agua. Extremos fijos. [Aquí](https://github.com/ComputoCienciasUniandes/MetodosComputacionalesLaboratorio/raw/master/2015-V/actividades/talleres/Taller9/pool.mp4) se muestra un ejemplo del resultado esperado donde se usaron los siguientes parámetros:\n",
    "\n",
    "    # unidades arbitrarias\n",
    "    xmin=-0.5\n",
    "    xmax=0.5\n",
    "    ymin=-0.5\n",
    "    ymax=0.5\n",
    "    dt=1.5e-5\n",
    "    dx=1.0e-2\n",
    "    v=400.\n",
    "    eta=1000.\n",
    "    r=v*dt/dx\n",
    "    Nt = 900\n",
    "\n",
    "  **Al terminar la clase del miércoles ejecute `lottery.sh` para saber si su taller va a ser revisado.**\n"
   ]
  },
  {
   "cell_type": "code",
   "execution_count": 34,
   "metadata": {
    "collapsed": true
   },
   "outputs": [],
   "source": [
    "#Defino condiciones del cubo\n",
    "Nt=900\n",
    "Nl=100\n",
    "L=1. # Lado del cubo\n",
    "\n",
    "tmin=0\n",
    "tmax=0.0135\n",
    "\n",
    "xmin=-L/2\n",
    "xmax=L/2\n",
    "\n",
    "ymin=-L/2\n",
    "ymax=L/2\n",
    "\n",
    "dt=(tmax-tmin)/Nt\n",
    "dx=(xmax-xmin)/Nl\n",
    "dy=(ymax-ymin)/Nl\n",
    "\n",
    "v=400. # m/s\n",
    "r=v*dt/dx\n",
    "eta=0.00625\n",
    "\n",
    "stdev=0.05"
   ]
  },
  {
   "cell_type": "code",
   "execution_count": 35,
   "metadata": {
    "collapsed": false
   },
   "outputs": [],
   "source": [
    "#Defino cuadrados a utilizar\n",
    "xcoords=np.linspace(xmin,xmax,Nl)\n",
    "ycoords=np.linspace(xmin,xmax,Nl)\n",
    "tcoords=np.linspace(tmin,tmax,Nt)\n",
    "\n",
    "xmesh,ymesh=np.meshgrid(xcoords,ycoords)\n",
    "\n",
    "#Cara de prueba de nueva función amortiguada\n",
    "prueba = np.zeros((Nt,Nl,Nl))\n",
    "\n",
    "#Cara de la piscina\n",
    "piscina = np.zeros((Nt,Nl,Nl))"
   ]
  },
  {
   "cell_type": "code",
   "execution_count": 62,
   "metadata": {
    "collapsed": false
   },
   "outputs": [],
   "source": [
    "#Defino condición inicial para cara de prueba\n",
    "#cara1\n",
    "x = 0.5/np.random.randint(-9,10)\n",
    "y = 0.5/np.random.randint(-9,10)\n",
    "\n",
    "prueba[0] = np.exp(-xmesh**2/(2*stdev**2))*np.exp(-ymesh**2/(2*stdev**2))\n",
    "prueba[1] = prueba[0]+r**2/2.*(np.roll(prueba[0],1,axis=0)+\n",
    "                               np.roll(prueba[0],-1,axis=0)+\n",
    "                               np.roll(prueba[0],1,axis=1)+\n",
    "                               np.roll(prueba[0],-1,axis=1)-\n",
    "                               4*prueba[0])\n",
    "prueba[1,0]=0\n",
    "prueba[1,-1]=0\n",
    "prueba[1,:,0]=0\n",
    "prueba[1,:,-1]=0\n",
    "\n",
    "prueba[2] = np.exp(-(xmesh - x)**2/(2*stdev**2))*np.exp(-(ymesh - y)**2/(2*stdev**2))"
   ]
  },
  {
   "cell_type": "code",
   "execution_count": 63,
   "metadata": {
    "collapsed": false
   },
   "outputs": [
    {
     "data": {
      "text/plain": [
       "(-0.48999999999999999,\n",
       " 0.48999999999999999,\n",
       " -0.48999999999999999,\n",
       " 0.48999999999999999)"
      ]
     },
     "execution_count": 63,
     "metadata": {},
     "output_type": "execute_result"
    },
    {
     "data": {
      "image/png": "[encoded data removed]",
      "text/plain": [
       "<matplotlib.figure.Figure at 0x7f8b8c918dd8>"
      ]
     },
     "metadata": {},
     "output_type": "display_data"
    }
   ],
   "source": [
    "fig = plt.figure(figsize=(5,14))\n",
    "plt.subplots_adjust(hspace=0.10, wspace=0.00)\n",
    "\n",
    "plt.subplot(3,1,1)\n",
    "plt.pcolor(xcoords,ycoords,prueba[0],cmap='gist_heat',vmin=0.,vmax=1.)\n",
    "plt.xlim(xmin+dx,xmax-dx)\n",
    "plt.ylim(ymin+dy,ymax-dy)\n",
    "plt.axis('off')\n",
    "\n",
    "plt.subplot(3,1,2)\n",
    "plt.pcolor(xcoords,ycoords,prueba[1],cmap='gist_heat',vmin=0.,vmax=1.)\n",
    "plt.xlim(xmin+dx,xmax-dx)\n",
    "plt.ylim(ymin+dy,ymax-dy)\n",
    "plt.axis('off')\n",
    "\n",
    "plt.subplot(3,1,3)\n",
    "plt.pcolor(xcoords,ycoords,prueba[2],cmap='gist_heat',vmin=0.,vmax=1.)\n",
    "plt.xlim(xmin+dx,xmax-dx)\n",
    "plt.ylim(ymin+dy,ymax-dy)\n",
    "plt.axis('off')\n",
    "\n",
    "#plt.show()"
   ]
  },
  {
   "cell_type": "code",
   "execution_count": 5,
   "metadata": {
    "collapsed": true
   },
   "outputs": [],
   "source": [
    "#Los arrays tienen 2 espacios más que el tamaño de cada cara, esto es para guardar la información de la frontera de las\n",
    "#caras vecinas. Con esta función actualizo la información de las fronteras.\n",
    "def actualizar_bordes():\n",
    "    global pcara1\n",
    "    global ppcara1\n",
    "    \n",
    "    global pcara2\n",
    "    global ppcara2\n",
    "    \n",
    "    \n",
    "    \n",
    "    \n",
    "    \n",
    "    \n",
    "    \n",
    "    \n",
    "    \n",
    "    \n",
    "    \n",
    "    \n",
    "    \n",
    "    \n",
    "    +++++++++++++\n",
    "    global pcara3\n",
    "    global ppcara3\n",
    "    \n",
    "    global pcara4\n",
    "    global ppcara4\n",
    "    \n",
    "    global pcara5\n",
    "    global ppcara5\n",
    "    \n",
    "    global pcara6\n",
    "    global ppcara6\n",
    "    \n",
    "    ##cara1 tiempo -1\n",
    "    #arriba\n",
    "    pcara1[0,1:-1] = pcara3[-2,1:-1]\n",
    "    #abajo\n",
    "    pcara1[-1,1:-1] = pcara4[1,1:-1]\n",
    "    #izquierda\n",
    "    pcara1[1:-1,0] = pcara5[1:-1,-2]\n",
    "    #derecha\n",
    "    pcara1[1:-1,-1] = pcara2[1:-1,1]\n",
    "    \n",
    "    ##cara1 tiempo -2\n",
    "    #arriba\n",
    "    ppcara1[0,1:-1] = ppcara3[-2,1:-1]\n",
    "    #abajo\n",
    "    ppcara1[-1,1:-1] = ppcara4[1,1:-1]\n",
    "    #izquierda\n",
    "    ppcara1[1:-1,0] = ppcara5[1:-1,-2]\n",
    "    #derecha\n",
    "    ppcara1[1:-1,-1] = ppcara2[1:-1,1]\n",
    "    \n",
    "    \n",
    "    ##cara2 tiempo -1\n",
    "    #arriba\n",
    "    pcara2[0,1:-1] = pcara3[1:-1,-2]\n",
    "    #abajo\n",
    "    pcara2[-1,1:-1] = pcara4[1:-1,-2]\n",
    "    #izquierda\n",
    "    pcara2[1:-1,0] = pcara1[1:-1,-2]\n",
    "    #derecha\n",
    "    pcara2[1:-1,-1] = pcara6[1:-1,1]\n",
    "    \n",
    "    ##cara2 tiempo -2\n",
    "    #arriba\n",
    "    ppcara2[0,1:-1] = pcara3[1:-1,-2]\n",
    "    #abajo\n",
    "    ppcara2[-1,1:-1] = ppcara4[1:-1,-2]\n",
    "    #izquierda\n",
    "    ppcara2[1:-1,0] = ppcara1[1:-1,-2]\n",
    "    #derecha\n",
    "    ppcara2[1:-1,-1] = ppcara6[1:-1,1]\n",
    "    \n",
    "    \n",
    "    ##cara3 tiempo -1\n",
    "    #arriba\n",
    "    pcara3[0,1:-1] = pcara6[1,1:-1]\n",
    "    #abajo\n",
    "    pcara3[-1,1:-1] = pcara1[1,1:-1]\n",
    "    #izquierda\n",
    "    pcara3[1:-1,0] = pcara5[1,1:-1]\n",
    "    #derecha\n",
    "    pcara3[1:-1,-1] = pcara2[1,1:-1]\n",
    "    \n",
    "    ##cara3 tiempo -2\n",
    "    #arriba\n",
    "    ppcara3[0,1:-1] = ppcara6[1,1:-1]\n",
    "    #abajo\n",
    "    ppcara3[-1,1:-1] = ppcara1[1,1:-1]\n",
    "    #izquierda\n",
    "    ppcara3[1:-1,0] = ppcara5[1,1:-1]\n",
    "    #derecha\n",
    "    ppcara3[1:-1,-1] = ppcara2[1,1:-1]\n",
    "    \n",
    "    \n",
    "    ##cara4 tiempo -1\n",
    "    #arriba\n",
    "    pcara4[0,1:-1] = pcara1[-2,1:-1]\n",
    "    #abajo\n",
    "    pcara4[-1,1:-1] = pcara6[-2,1:-1]\n",
    "    #izquierda\n",
    "    pcara4[1:-1,0] = pcara5[-2,1:-1]\n",
    "    #derecha\n",
    "    pcara4[1:-1,-1] = pcara2[-2,1:-1]\n",
    "    \n",
    "    ##cara4 tiempo -2\n",
    "    #arriba\n",
    "    ppcara4[0,1:-1] = ppcara1[-2,1:-1]\n",
    "    #abajo\n",
    "    ppcara4[-1,1:-1] = ppcara6[-2,1:-1]\n",
    "    #izquierda\n",
    "    ppcara4[1:-1,0] = ppcara5[-2,1:-1]\n",
    "    #derecha\n",
    "    ppcara4[1:-1,-1] = ppcara2[-2,1:-1]\n",
    "    \n",
    "    \n",
    "    ##cara5 tiempo -1\n",
    "    #arriba\n",
    "    pcara5[0,1:-1] = pcara3[1:-1,1]\n",
    "    #abajo\n",
    "    pcara5[-1,1:-1] = pcara4[1:-1,1]\n",
    "    #izquierda\n",
    "    pcara5[1:-1,0] = pcara6[1:-1,-2]\n",
    "    #derecha\n",
    "    pcara5[1:-1,-1] = pcara1[1:-1,1]\n",
    "    \n",
    "    ##cara5 tiempo -2\n",
    "    #arriba\n",
    "    ppcara5[0,1:-1] = ppcara3[1:-1,1]\n",
    "    #abajo\n",
    "    ppcara5[-1,1:-1] = ppcara4[1:-1,1]\n",
    "    #izquierda\n",
    "    ppcara5[1:-1,0] = ppcara6[1:-1,-2]\n",
    "    #derecha\n",
    "    ppcara5[1:-1,-1] = ppcara1[1:-1,1]\n",
    "    \n",
    "    \n",
    "    ##cara6 tiempo -1\n",
    "    #arriba\n",
    "    pcara6[0,1:-1] = pcara3[1,1:-1]\n",
    "    #abajo\n",
    "    pcara6[-1,1:-1] = pcara4[-2,1:-1]\n",
    "    #izquierda\n",
    "    pcara6[1:-1,0] = pcara2[1:-1,-2]\n",
    "    #derecha\n",
    "    pcara6[1:-1,-1] = pcara1[1:-1,1]\n",
    "    \n",
    "    ##cara6 tiempo -2\n",
    "    #arriba\n",
    "    ppcara6[0,1:-1] = ppcara3[1,1:-1]\n",
    "    #abajo\n",
    "    ppcara6[-1,1:-1] = ppcara4[-2,1:-1]\n",
    "    #izquierda\n",
    "    ppcara6[1:-1,0] = ppcara2[1:-1,-2]\n",
    "    #derecha\n",
    "    ppcara6[1:-1,-1] = ppcara1[1:-1,1]"
   ]
  },
  {
   "cell_type": "code",
   "execution_count": 6,
   "metadata": {
    "collapsed": true
   },
   "outputs": [],
   "source": [
    "def actualizar_caras(i):\n",
    "    global cara1\n",
    "    global pcara1\n",
    "    global ppcara1\n",
    "    \n",
    "    global cara2\n",
    "    global pcara2\n",
    "    global ppcara2\n",
    "    \n",
    "    global cara3\n",
    "    global pcara3\n",
    "    global ppcara3\n",
    "    \n",
    "    global cara4\n",
    "    global pcara4\n",
    "    global ppcara4\n",
    "    \n",
    "    global cara5\n",
    "    global pcara5\n",
    "    global ppcara5\n",
    "    \n",
    "    global cara6\n",
    "    global pcara6\n",
    "    global ppcara6\n",
    "    \n",
    "    #cara1\n",
    "    cara1[i] = 2*(1.-2.*r**2)*pcara1 - ppcara1 + r**2*(np.roll(pcara1,1,axis=1)+\n",
    "                                                    np.roll(pcara1,-1,axis=1)+\n",
    "                                                    np.roll(pcara1,1,axis=0)+\n",
    "                                                    np.roll(pcara1,-1,axis=0))\n",
    "    \n",
    "    #cara2\n",
    "    cara2[i] = 2*(1.-2.*r**2)*pcara2 - ppcara2 + r**2*(np.roll(pcara2,1,axis=1)+\n",
    "                                                    np.roll(pcara2,-1,axis=1)+\n",
    "                                                    np.roll(pcara2,1,axis=0)+\n",
    "                                                    np.roll(pcara2,-1,axis=0))\n",
    "    \n",
    "    #cara3\n",
    "    cara3[i] = 2*(1.-2.*r**2)*pcara3 - ppcara3 + r**2*(np.roll(pcara3,1,axis=1)+\n",
    "                                                    np.roll(pcara3,-1,axis=1)+\n",
    "                                                    np.roll(pcara3,1,axis=0)+\n",
    "                                                    np.roll(pcara3,-1,axis=0))\n",
    "    \n",
    "    #cara4\n",
    "    cara4[i] = 2*(1.-2.*r**2)*pcara4 - ppcara4 + r**2*(np.roll(pcara4,1,axis=1)+\n",
    "                                                    np.roll(pcara4,-1,axis=1)+\n",
    "                                                    np.roll(pcara4,1,axis=0)+\n",
    "                                                    np.roll(pcara4,-1,axis=0))\n",
    "    \n",
    "    #cara5\n",
    "    cara5[i] = 2*(1.-2.*r**2)*pcara5 - ppcara5 + r**2*(np.roll(pcara5,1,axis=1)+\n",
    "                                                    np.roll(pcara5,-1,axis=1)+\n",
    "                                                    np.roll(pcara5,1,axis=0)+\n",
    "                                                    np.roll(pcara5,-1,axis=0))\n",
    "    \n",
    "    #cara1\n",
    "    cara6[i] = 2*(1.-2.*r**2)*pcara6 - ppcara6 + r**2*(np.roll(pcara6,1,axis=1)+\n",
    "                                                    np.roll(pcara6,-1,axis=1)+\n",
    "                                                    np.roll(pcara6,1,axis=0)+\n",
    "                                                    np.roll(pcara6,-1,axis=0))"
   ]
  },
  {
   "cell_type": "code",
   "execution_count": 7,
   "metadata": {
    "collapsed": false
   },
   "outputs": [],
   "source": [
    "#Simulación\n",
    "for i in range(2,Nt):\n",
    "    #Instantes anteriores cara1\n",
    "    pcara1 = cara1[i-1]\n",
    "    ppcara1 = cara1[i-2]\n",
    "    \n",
    "    #Instantes anteriores cara2\n",
    "    pcara2 = cara2[i-1]\n",
    "    ppcara2 = cara2[i-2]\n",
    "    \n",
    "    #Instantes anteriores cara3\n",
    "    pcara3 = cara3[i-1]\n",
    "    ppcara3 = cara3[i-2]\n",
    "    \n",
    "    #Instantes anteriores cara4\n",
    "    pcara4 = cara4[i-1]\n",
    "    ppcara4 = cara4[i-2]\n",
    "    \n",
    "    #Instantes anteriores cara5\n",
    "    pcara5 = cara5[i-1]\n",
    "    ppcara5 = cara5[i-2]\n",
    "    \n",
    "    #Instantes anteriores cara6\n",
    "    pcara6 = cara6[i-1]\n",
    "    ppcara6 = cara6[i-2]\n",
    "    \n",
    "    actualizar_bordes()\n",
    "    actualizar_caras(i)"
   ]
  },
  {
   "cell_type": "code",
   "execution_count": 8,
   "metadata": {
    "collapsed": false
   },
   "outputs": [],
   "source": [
    "def grafica(instante):\n",
    "    fig = plt.figure(figsize=(12,9))\n",
    "    plt.subplots_adjust(hspace=0.00, wspace=0.00)\n",
    "\n",
    "    plt.subplot(3,4,1)\n",
    "    plt.pcolor(xcoords,ycoords,cara4[0,1:-1,1:-1],cmap='gist_heat',vmin=0.,vmax=1.)\n",
    "    plt.xlim(xmin+dx,xmax-dx)\n",
    "    plt.ylim(ymin+dy,ymax-dy)\n",
    "    plt.axis('off')\n",
    "    \n",
    "    plt.subplot(3,4,2)\n",
    "    plt.pcolor(xcoords,ycoords,cara3[instante,1:-1,1:-1],cmap='gist_heat',vmin=0.,vmax=1.)\n",
    "    plt.xlim(xmin+dx,xmax-dx)\n",
    "    plt.ylim(ymin+dy,ymax-dy)\n",
    "    plt.axis('off')\n",
    "    \n",
    "    plt.subplot(3,4,3)\n",
    "    plt.pcolor(xcoords,ycoords,cara4[0,1:-1,1:-1],cmap='gist_heat',vmin=0.,vmax=1.)\n",
    "    plt.xlim(xmin+dx,xmax-dx)\n",
    "    plt.ylim(ymin+dy,ymax-dy)\n",
    "    plt.axis('off')\n",
    "    \n",
    "    plt.subplot(3,4,4)\n",
    "    plt.pcolor(xcoords,ycoords,cara4[0,1:-1,1:-1],cmap='gist_heat',vmin=0.,vmax=1.)\n",
    "    plt.xlim(xmin+dx,xmax-dx)\n",
    "    plt.ylim(ymin+dy,ymax-dy)\n",
    "    plt.axis('off')\n",
    "\n",
    "    plt.subplot(3,4,5)\n",
    "    plt.pcolor(xcoords,ycoords,cara5[instante,1:-1,1:-1],cmap='gist_heat',vmin=0.,vmax=1.)\n",
    "    plt.xlim(xmin+dx,xmax-dx)\n",
    "    plt.ylim(ymin+dy,ymax-dy)\n",
    "    plt.axis('off')\n",
    "\n",
    "    plt.subplot(3,4,6)\n",
    "    plt.pcolor(xcoords,ycoords,cara1[instante,1:-1,1:-1],cmap='gist_heat',vmin=0.,vmax=1.)\n",
    "    plt.xlim(xmin+dx,xmax-dx)\n",
    "    plt.ylim(ymin+dy,ymax-dy)\n",
    "    plt.axis('off')\n",
    "\n",
    "    plt.subplot(3,4,7)\n",
    "    plt.pcolor(xcoords,ycoords,cara2[instante,1:-1,1:-1],cmap='gist_heat',vmin=0.,vmax=1.)\n",
    "    plt.xlim(xmin+dx,xmax-dx)\n",
    "    plt.ylim(ymin+dy,ymax-dy)\n",
    "    plt.axis('off')\n",
    "\n",
    "    plt.subplot(3,4,8)\n",
    "    plt.pcolor(xcoords,ycoords,cara6[instante,1:-1,1:-1],cmap='gist_heat',vmin=0.,vmax=1.)\n",
    "    plt.xlim(xmin+dx,xmax-dx)\n",
    "    plt.ylim(ymin+dy,ymax-dy)\n",
    "    plt.axis('off')\n",
    "    \n",
    "    plt.subplot(3,4,9)\n",
    "    plt.pcolor(xcoords,ycoords,cara4[0,1:-1,1:-1],cmap='gist_heat',vmin=0.,vmax=1.)\n",
    "    plt.xlim(xmin+dx,xmax-dx)\n",
    "    plt.ylim(ymin+dy,ymax-dy)\n",
    "    plt.axis('off')\n",
    "\n",
    "    plt.subplot(3,4,10)\n",
    "    plt.pcolor(xcoords,ycoords,cara4[instante,1:-1,1:-1],cmap='gist_heat',vmin=0.,vmax=1.)\n",
    "    plt.xlim(xmin+dx,xmax-dx)\n",
    "    plt.ylim(ymin+dy,ymax-dy)\n",
    "    plt.axis('off')\n",
    "    \n",
    "    plt.subplot(3,4,11)\n",
    "    plt.pcolor(xcoords,ycoords,cara4[0,1:-1,1:-1],cmap='gist_heat',vmin=0.,vmax=1.)\n",
    "    plt.xlim(xmin+dx,xmax-dx)\n",
    "    plt.ylim(ymin+dy,ymax-dy)\n",
    "    plt.axis('off')\n",
    "    \n",
    "    plt.subplot(3,4,12)\n",
    "    plt.pcolor(xcoords,ycoords,cara4[0,1:-1,1:-1],cmap='gist_heat',vmin=0.,vmax=1.)\n",
    "    plt.xlim(xmin+dx,xmax-dx)\n",
    "    plt.ylim(ymin+dy,ymax-dy)\n",
    "    plt.axis('off')\n",
    "    \n",
    "    plt.savefig('anim%d.png'%instante)#Guarda las gráficas realizadas\n",
    "    plt.cla()\n",
    "    plt.close()"
   ]
  },
  {
   "cell_type": "code",
   "execution_count": 9,
   "metadata": {
    "collapsed": false
   },
   "outputs": [],
   "source": [
    "def animador(numfotos=100,duracion=22,*args):\n",
    "    delay = np.around((duracion/numfotos)*110)\n",
    "    instantes = np.linspace(0,len(cara1)-1,numfotos,dtype=int)\n",
    "    for instante in instantes:\n",
    "        grafica(instante)\n",
    "        if (instante%20 == 0):\n",
    "            print (instante)\n",
    "    #os.system(\"convert -delay %d -loop 0 $(ls anim*.png | sort -V) onda.gif\"%delay)\n",
    "    #os.system(\"rm anim*.png\")#Toma las gráficas, las convierte en un .gif y las elimina"
   ]
  },
  {
   "cell_type": "code",
   "execution_count": 10,
   "metadata": {
    "collapsed": false
   },
   "outputs": [
    {
     "name": "stdout",
     "output_type": "stream",
     "text": [
      "1700\n",
      "1720\n",
      "1740\n",
      "1760\n",
      "1780\n",
      "1800\n",
      "1820\n",
      "1840\n",
      "1860\n",
      "1880\n",
      "1900\n",
      "1920\n",
      "1940\n",
      "1960\n",
      "1980\n",
      "--- 487.52781772613525 seconds ---\n"
     ]
    }
   ],
   "source": [
    "start_time = time.time()\n",
    "animador()\n",
    "print(\"--- %s seconds ---\" % (time.time() - start_time))"
   ]
  },
  {
   "cell_type": "markdown",
   "metadata": {},
   "source": [
    "##Hacer un .gif es bastante ineficiente, toca mirar otra alternativa para hacer la animación"
   ]
  },
  {
   "cell_type": "code",
   "execution_count": null,
   "metadata": {
    "collapsed": true
   },
   "outputs": [],
   "source": [
    "#Hago un video .mp4 cutilizanod ffmpeg\n",
    "os.system(\"ffmpeg -framerate 100 -start_number 0 -i anim%d.png -c:v libx264 -pix_fmt yuv420p ondascubo.mp4\n",
    "\")"
   ]
  },
  {
   "cell_type": "code",
   "execution_count": null,
   "metadata": {
    "collapsed": true
   },
   "outputs": [],
   "source": [
    "plt.rcParams['animation.ffmpeg_path'] = '/usr/bin/ffmpeg'"
   ]
  },
  {
   "cell_type": "code",
   "execution_count": 70,
   "metadata": {
    "collapsed": false
   },
   "outputs": [
    {
     "ename": "AttributeError",
     "evalue": "'function' object has no attribute 'canvas'",
     "output_type": "error",
     "traceback": [
      "\u001b[1;31m---------------------------------------------------------------------------\u001b[0m",
      "\u001b[1;31mAttributeError\u001b[0m                            Traceback (most recent call last)",
      "\u001b[1;32m<ipython-input-70-d3fbe514842a>\u001b[0m in \u001b[0;36m<module>\u001b[1;34m()\u001b[0m\n\u001b[0;32m      6\u001b[0m     \u001b[0mplt\u001b[0m\u001b[1;33m.\u001b[0m\u001b[0mlegend\u001b[0m\u001b[1;33m(\u001b[0m\u001b[0mloc\u001b[0m\u001b[1;33m=\u001b[0m\u001b[1;36m0\u001b[0m\u001b[1;33m)\u001b[0m\u001b[1;33m\u001b[0m\u001b[0m\n\u001b[0;32m      7\u001b[0m \u001b[1;33m\u001b[0m\u001b[0m\n\u001b[1;32m----> 8\u001b[1;33m \u001b[0mtrayectorias\u001b[0m \u001b[1;33m=\u001b[0m \u001b[0manimation\u001b[0m\u001b[1;33m.\u001b[0m\u001b[0mFuncAnimation\u001b[0m\u001b[1;33m(\u001b[0m\u001b[0manimate\u001b[0m\u001b[1;33m,\u001b[0m \u001b[0mnp\u001b[0m\u001b[1;33m.\u001b[0m\u001b[0marange\u001b[0m\u001b[1;33m(\u001b[0m\u001b[1;36m1\u001b[0m\u001b[1;33m,\u001b[0m\u001b[1;36m10\u001b[0m\u001b[1;33m)\u001b[0m\u001b[1;33m,\u001b[0m\u001b[0minterval\u001b[0m\u001b[1;33m=\u001b[0m\u001b[1;36m10\u001b[0m\u001b[1;33m,\u001b[0m \u001b[0mblit\u001b[0m\u001b[1;33m=\u001b[0m\u001b[1;32mFalse\u001b[0m\u001b[1;33m)\u001b[0m\u001b[1;33m\u001b[0m\u001b[0m\n\u001b[0m\u001b[0;32m      9\u001b[0m \u001b[0mFFwriter\u001b[0m \u001b[1;33m=\u001b[0m \u001b[0manimation\u001b[0m\u001b[1;33m.\u001b[0m\u001b[0mFFMpegWriter\u001b[0m\u001b[1;33m(\u001b[0m\u001b[1;33m)\u001b[0m\u001b[1;33m\u001b[0m\u001b[0m\n\u001b[0;32m     10\u001b[0m \u001b[0mtrayectorias\u001b[0m\u001b[1;33m.\u001b[0m\u001b[0msave\u001b[0m\u001b[1;33m(\u001b[0m\u001b[1;34m\"gravitacion4.mp4\"\u001b[0m\u001b[1;33m,\u001b[0m \u001b[0mwriter\u001b[0m \u001b[1;33m=\u001b[0m \u001b[0mFFwriter\u001b[0m\u001b[1;33m,\u001b[0m \u001b[0mfps\u001b[0m\u001b[1;33m=\u001b[0m\u001b[1;36m15\u001b[0m\u001b[1;33m,\u001b[0m \u001b[0mextra_args\u001b[0m\u001b[1;33m=\u001b[0m\u001b[1;33m[\u001b[0m\u001b[1;34m'-vcodec'\u001b[0m\u001b[1;33m,\u001b[0m \u001b[1;34m'libx264'\u001b[0m\u001b[1;33m]\u001b[0m\u001b[1;33m)\u001b[0m\u001b[1;33m\u001b[0m\u001b[0m\n",
      "\u001b[1;32m/usr/local/lib/python3.4/dist-packages/matplotlib/animation.py\u001b[0m in \u001b[0;36m__init__\u001b[1;34m(self, fig, func, frames, init_func, fargs, save_count, **kwargs)\u001b[0m\n\u001b[0;32m   1065\u001b[0m         \u001b[0mself\u001b[0m\u001b[1;33m.\u001b[0m\u001b[0m_save_seq\u001b[0m \u001b[1;33m=\u001b[0m \u001b[1;33m[\u001b[0m\u001b[1;33m]\u001b[0m\u001b[1;33m\u001b[0m\u001b[0m\n\u001b[0;32m   1066\u001b[0m \u001b[1;33m\u001b[0m\u001b[0m\n\u001b[1;32m-> 1067\u001b[1;33m         \u001b[0mTimedAnimation\u001b[0m\u001b[1;33m.\u001b[0m\u001b[0m__init__\u001b[0m\u001b[1;33m(\u001b[0m\u001b[0mself\u001b[0m\u001b[1;33m,\u001b[0m \u001b[0mfig\u001b[0m\u001b[1;33m,\u001b[0m \u001b[1;33m**\u001b[0m\u001b[0mkwargs\u001b[0m\u001b[1;33m)\u001b[0m\u001b[1;33m\u001b[0m\u001b[0m\n\u001b[0m\u001b[0;32m   1068\u001b[0m \u001b[1;33m\u001b[0m\u001b[0m\n\u001b[0;32m   1069\u001b[0m         \u001b[1;31m# Need to reset the saved seq, since right now it will contain data\u001b[0m\u001b[1;33m\u001b[0m\u001b[1;33m\u001b[0m\u001b[0m\n",
      "\u001b[1;32m/usr/local/lib/python3.4/dist-packages/matplotlib/animation.py\u001b[0m in \u001b[0;36m__init__\u001b[1;34m(self, fig, interval, repeat_delay, repeat, event_source, *args, **kwargs)\u001b[0m\n\u001b[0;32m    907\u001b[0m         \u001b[1;31m# sharing timers between animation objects for syncing animations.\u001b[0m\u001b[1;33m\u001b[0m\u001b[1;33m\u001b[0m\u001b[0m\n\u001b[0;32m    908\u001b[0m         \u001b[1;32mif\u001b[0m \u001b[0mevent_source\u001b[0m \u001b[1;32mis\u001b[0m \u001b[1;32mNone\u001b[0m\u001b[1;33m:\u001b[0m\u001b[1;33m\u001b[0m\u001b[0m\n\u001b[1;32m--> 909\u001b[1;33m             \u001b[0mevent_source\u001b[0m \u001b[1;33m=\u001b[0m \u001b[0mfig\u001b[0m\u001b[1;33m.\u001b[0m\u001b[0mcanvas\u001b[0m\u001b[1;33m.\u001b[0m\u001b[0mnew_timer\u001b[0m\u001b[1;33m(\u001b[0m\u001b[1;33m)\u001b[0m\u001b[1;33m\u001b[0m\u001b[0m\n\u001b[0m\u001b[0;32m    910\u001b[0m             \u001b[0mevent_source\u001b[0m\u001b[1;33m.\u001b[0m\u001b[0minterval\u001b[0m \u001b[1;33m=\u001b[0m \u001b[0mself\u001b[0m\u001b[1;33m.\u001b[0m\u001b[0m_interval\u001b[0m\u001b[1;33m\u001b[0m\u001b[0m\n\u001b[0;32m    911\u001b[0m \u001b[1;33m\u001b[0m\u001b[0m\n",
      "\u001b[1;31mAttributeError\u001b[0m: 'function' object has no attribute 'canvas'"
     ]
    },
    {
     "data": {
      "text/plain": [
       "<matplotlib.figure.Figure at 0x7f8b87ae4898>"
      ]
     },
     "metadata": {},
     "output_type": "display_data"
    }
   ],
   "source": [
    "fig=plt.figure(figsize=(10,10))\n",
    "x = np.linspace(0,10)\n",
    "def animate(i):\n",
    "    y = i*x\n",
    "    plt.plot(x,y,label='pendiente = %d'%i)\n",
    "    plt.legend(loc=0)\n",
    "    \n",
    "trayectorias = animation.FuncAnimation(fig, animate, np.arange(1,10),interval=10, blit=False)\n",
    "FFwriter = animation.FFMpegWriter()\n",
    "trayectorias.save(\"gravitacion4.mp4\", writer = FFwriter, fps=15, extra_args=['-vcodec', 'libx264'])"
   ]
  },
  {
   "cell_type": "code",
   "execution_count": 71,
   "metadata": {
    "collapsed": false
   },
   "outputs": [
    {
     "data": {
      "text/plain": [
       "array([0, 1, 2, 3, 4, 5, 6, 7, 8, 9])"
      ]
     },
     "execution_count": 71,
     "metadata": {},
     "output_type": "execute_result"
    }
   ],
   "source": [
    "np.arange(0,10)"
   ]
  },
  {
   "cell_type": "code",
   "execution_count": null,
   "metadata": {
    "collapsed": true
   },
   "outputs": [],
   "source": []
  }
 ],
 "metadata": {
  "kernelspec": {
   "display_name": "Python 3",
   "language": "python",
   "name": "python3"
  },
  "language_info": {
   "codemirror_mode": {
    "name": "ipython",
    "version": 3
   },
   "file_extension": ".py",
   "mimetype": "text/x-python",
   "name": "python",
   "nbconvert_exporter": "python",
   "pygments_lexer": "ipython3",
   "version": "3.4.0"
  }
 },
 "nbformat": 4,
 "nbformat_minor": 0
}
