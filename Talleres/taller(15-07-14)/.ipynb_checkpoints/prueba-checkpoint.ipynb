{
 "cells": [
  {
   "cell_type": "code",
   "execution_count": 1,
   "metadata": {
    "collapsed": false
   },
   "outputs": [],
   "source": [
    "#Importación de paquetes\n",
    "import numpy as np\n",
    "%matplotlib inline\n",
    "import matplotlib.pyplot as plt\n",
    "import os\n",
    "from matplotlib import animation\n",
    "import time"
   ]
  },
  {
   "cell_type": "markdown",
   "metadata": {},
   "source": [
    "###Fallé intentando hacer la simulación con rectángulos entonces procedo de la manera de aumentar los bordes para continuar las fronteras.\n",
    "\n",
    "###Las caras del cubo estarán numeradas según un dado regular como el de esta imagen\n",
    "![](https://scottspanish.files.wordpress.com/2011/11/4764316.jpg? raw=true =100x)\n",
    "\n",
    "###Los bordes de cada cara tienen la información del borde de la cara contigua"
   ]
  },
  {
   "cell_type": "code",
   "execution_count": 2,
   "metadata": {
    "collapsed": false
   },
   "outputs": [],
   "source": [
    "#Defino condiciones del cubo\n",
    "Nt=2000\n",
    "Nl=50\n",
    "L=10. # Lado del cubo\n",
    "\n",
    "tmin=0\n",
    "tmax=.3\n",
    "\n",
    "xmin=-L/2\n",
    "xmax=L/2\n",
    "\n",
    "ymin=-L/2\n",
    "ymax=L/2\n",
    "\n",
    "dt=(tmax-tmin)/Nt\n",
    "dx=(xmax-xmin)/Nl\n",
    "dy=(ymax-ymin)/Nl\n",
    "\n",
    "v=425. # m/s\n",
    "r=v*dt/dx\n",
    "\n",
    "stdev=1"
   ]
  },
  {
   "cell_type": "code",
   "execution_count": 3,
   "metadata": {
    "collapsed": false
   },
   "outputs": [],
   "source": [
    "#Defino caras del cubo\n",
    "xcoords=np.linspace(xmin,xmax,Nl)\n",
    "ycoords=np.linspace(xmin,xmax,Nl)\n",
    "tcoords=np.linspace(tmin,tmax,Nt)\n",
    "\n",
    "xmesh,ymesh=np.meshgrid(xcoords,ycoords)\n",
    "\n",
    "#Cara 1\n",
    "cara1 = np.zeros((Nt,Nl+2,Nl+2))\n",
    "\n",
    "#Cara 2\n",
    "cara2 = np.zeros((Nt,Nl+2,Nl+2))\n",
    "\n",
    "#Cara 3\n",
    "cara3 = np.zeros((Nt,Nl+2,Nl+2))\n",
    "\n",
    "#Cara 4\n",
    "cara4 = np.zeros((Nt,Nl+2,Nl+2))\n",
    "\n",
    "#Cara 5\n",
    "cara5 = np.zeros((Nt,Nl+2,Nl+2))\n",
    "\n",
    "#Cara 6\n",
    "cara6 = np.zeros((Nt,Nl+2,Nl+2))"
   ]
  },
  {
   "cell_type": "code",
   "execution_count": 4,
   "metadata": {
    "collapsed": false
   },
   "outputs": [],
   "source": [
    "#Defino condiciones iniciales para cara1 y cara6\n",
    "#cara1\n",
    "cara1[0,1:-1,1:-1] = np.exp(-xmesh**2/(2*stdev**2))*np.exp(-ymesh**2/(2*stdev**2))\n",
    "cara1[1,1:-1,1:-1] = cara1[0,1:-1,1:-1]+r**2/2.*(np.roll(cara1[0,1:-1,1:-1],1,axis=0)+\n",
    "                                                 np.roll(cara1[0,1:-1,1:-1],-1,axis=0)+\n",
    "                                                 np.roll(cara1[0,1:-1,1:-1],1,axis=1)+\n",
    "                                                 np.roll(cara1[0,1:-1,1:-1],-1,axis=1)-\n",
    "                                                 4*cara1[0,1:-1,1:-1])\n",
    "\n",
    "#cara6\n",
    "cara6[0,1:-1,1:-1] = np.exp(-xmesh**2/(2*stdev**2))*np.exp(-ymesh**2/(2*stdev**2))\n",
    "cara6[1,1:-1,1:-1] = cara6[0,1:-1,1:-1]+r**2/2.*(np.roll(cara6[0,1:-1,1:-1],1,axis=0)+\n",
    "                                                 np.roll(cara6[0,1:-1,1:-1],-1,axis=0)+\n",
    "                                                 np.roll(cara6[0,1:-1,1:-1],1,axis=1)+\n",
    "                                                 np.roll(cara6[0,1:-1,1:-1],-1,axis=1)-\n",
    "                                                 4*cara6[0,1:-1,1:-1])"
   ]
  },
  {
   "cell_type": "code",
   "execution_count": 5,
   "metadata": {
    "collapsed": true
   },
   "outputs": [],
   "source": [
    "#Los arrays tienen 2 espacios más que el tamaño de cada cara, esto es para guardar la información de la frontera de las\n",
    "#caras vecinas. Con esta función actualizo la información de las fronteras.\n",
    "def actualizar_bordes():\n",
    "    global pcara1\n",
    "    global ppcara1\n",
    "    \n",
    "    global pcara2\n",
    "    global ppcara2\n",
    "    \n",
    "    global pcara3\n",
    "    global ppcara3\n",
    "    \n",
    "    global pcara4\n",
    "    global ppcara4\n",
    "    \n",
    "    global pcara5\n",
    "    global ppcara5\n",
    "    \n",
    "    global pcara6\n",
    "    global ppcara6\n",
    "    \n",
    "    ##cara1 tiempo -1\n",
    "    #arriba\n",
    "    pcara1[0,1:-1] = pcara3[-2,1:-1]\n",
    "    #abajo\n",
    "    pcara1[-1,1:-1] = pcara4[1,1:-1]\n",
    "    #izquierda\n",
    "    pcara1[1:-1,0] = pcara5[1:-1,-2]\n",
    "    #derecha\n",
    "    pcara1[1:-1,-1] = pcara2[1:-1,1]\n",
    "    \n",
    "    ##cara1 tiempo -2\n",
    "    #arriba\n",
    "    ppcara1[0,1:-1] = ppcara3[-2,1:-1]\n",
    "    #abajo\n",
    "    ppcara1[-1,1:-1] = ppcara4[1,1:-1]\n",
    "    #izquierda\n",
    "    ppcara1[1:-1,0] = ppcara5[1:-1,-2]\n",
    "    #derecha\n",
    "    ppcara1[1:-1,-1] = ppcara2[1:-1,1]\n",
    "    \n",
    "    \n",
    "    ##cara2 tiempo -1\n",
    "    #arriba\n",
    "    pcara2[0,1:-1] = pcara3[1:-1,-2]\n",
    "    #abajo\n",
    "    pcara2[-1,1:-1] = pcara4[1:-1,-2]\n",
    "    #izquierda\n",
    "    pcara2[1:-1,0] = pcara1[1:-1,-2]\n",
    "    #derecha\n",
    "    pcara2[1:-1,-1] = pcara6[1:-1,1]\n",
    "    \n",
    "    ##cara2 tiempo -2\n",
    "    #arriba\n",
    "    ppcara2[0,1:-1] = pcara3[1:-1,-2]\n",
    "    #abajo\n",
    "    ppcara2[-1,1:-1] = ppcara4[1:-1,-2]\n",
    "    #izquierda\n",
    "    ppcara2[1:-1,0] = ppcara1[1:-1,-2]\n",
    "    #derecha\n",
    "    ppcara2[1:-1,-1] = ppcara6[1:-1,1]\n",
    "    \n",
    "    \n",
    "    ##cara3 tiempo -1\n",
    "    #arriba\n",
    "    pcara3[0,1:-1] = pcara6[1,1:-1]\n",
    "    #abajo\n",
    "    pcara3[-1,1:-1] = pcara1[1,1:-1]\n",
    "    #izquierda\n",
    "    pcara3[1:-1,0] = pcara5[1,1:-1]\n",
    "    #derecha\n",
    "    pcara3[1:-1,-1] = pcara2[1,1:-1]\n",
    "    \n",
    "    ##cara3 tiempo -2\n",
    "    #arriba\n",
    "    ppcara3[0,1:-1] = ppcara6[1,1:-1]\n",
    "    #abajo\n",
    "    ppcara3[-1,1:-1] = ppcara1[1,1:-1]\n",
    "    #izquierda\n",
    "    ppcara3[1:-1,0] = ppcara5[1,1:-1]\n",
    "    #derecha\n",
    "    ppcara3[1:-1,-1] = ppcara2[1,1:-1]\n",
    "    \n",
    "    \n",
    "    ##cara4 tiempo -1\n",
    "    #arriba\n",
    "    pcara4[0,1:-1] = pcara1[-2,1:-1]\n",
    "    #abajo\n",
    "    pcara4[-1,1:-1] = pcara6[-2,1:-1]\n",
    "    #izquierda\n",
    "    pcara4[1:-1,0] = pcara5[-2,1:-1]\n",
    "    #derecha\n",
    "    pcara4[1:-1,-1] = pcara2[-2,1:-1]\n",
    "    \n",
    "    ##cara4 tiempo -2\n",
    "    #arriba\n",
    "    ppcara4[0,1:-1] = ppcara1[-2,1:-1]\n",
    "    #abajo\n",
    "    ppcara4[-1,1:-1] = ppcara6[-2,1:-1]\n",
    "    #izquierda\n",
    "    ppcara4[1:-1,0] = ppcara5[-2,1:-1]\n",
    "    #derecha\n",
    "    ppcara4[1:-1,-1] = ppcara2[-2,1:-1]\n",
    "    \n",
    "    \n",
    "    ##cara5 tiempo -1\n",
    "    #arriba\n",
    "    pcara5[0,1:-1] = pcara3[1:-1,1]\n",
    "    #abajo\n",
    "    pcara5[-1,1:-1] = pcara4[1:-1,1]\n",
    "    #izquierda\n",
    "    pcara5[1:-1,0] = pcara6[1:-1,-2]\n",
    "    #derecha\n",
    "    pcara5[1:-1,-1] = pcara1[1:-1,1]\n",
    "    \n",
    "    ##cara5 tiempo -2\n",
    "    #arriba\n",
    "    ppcara5[0,1:-1] = ppcara3[1:-1,1]\n",
    "    #abajo\n",
    "    ppcara5[-1,1:-1] = ppcara4[1:-1,1]\n",
    "    #izquierda\n",
    "    ppcara5[1:-1,0] = ppcara6[1:-1,-2]\n",
    "    #derecha\n",
    "    ppcara5[1:-1,-1] = ppcara1[1:-1,1]\n",
    "    \n",
    "    \n",
    "    ##cara6 tiempo -1\n",
    "    #arriba\n",
    "    pcara6[0,1:-1] = pcara3[1,1:-1]\n",
    "    #abajo\n",
    "    pcara6[-1,1:-1] = pcara4[-2,1:-1]\n",
    "    #izquierda\n",
    "    pcara6[1:-1,0] = pcara2[1:-1,-2]\n",
    "    #derecha\n",
    "    pcara6[1:-1,-1] = pcara1[1:-1,1]\n",
    "    \n",
    "    ##cara6 tiempo -2\n",
    "    #arriba\n",
    "    ppcara6[0,1:-1] = ppcara3[1,1:-1]\n",
    "    #abajo\n",
    "    ppcara6[-1,1:-1] = ppcara4[-2,1:-1]\n",
    "    #izquierda\n",
    "    ppcara6[1:-1,0] = ppcara2[1:-1,-2]\n",
    "    #derecha\n",
    "    ppcara6[1:-1,-1] = ppcara1[1:-1,1]"
   ]
  },
  {
   "cell_type": "code",
   "execution_count": 6,
   "metadata": {
    "collapsed": true
   },
   "outputs": [],
   "source": [
    "def actualizar_caras(i):\n",
    "    global cara1\n",
    "    global pcara1\n",
    "    global ppcara1\n",
    "    \n",
    "    global cara2\n",
    "    global pcara2\n",
    "    global ppcara2\n",
    "    \n",
    "    global cara3\n",
    "    global pcara3\n",
    "    global ppcara3\n",
    "    \n",
    "    global cara4\n",
    "    global pcara4\n",
    "    global ppcara4\n",
    "    \n",
    "    global cara5\n",
    "    global pcara5\n",
    "    global ppcara5\n",
    "    \n",
    "    global cara6\n",
    "    global pcara6\n",
    "    global ppcara6\n",
    "    \n",
    "    #cara1\n",
    "    cara1[i] = 2*(1.-2.*r**2)*pcara1 - ppcara1 + r**2*(np.roll(pcara1,1,axis=1)+\n",
    "                                                    np.roll(pcara1,-1,axis=1)+\n",
    "                                                    np.roll(pcara1,1,axis=0)+\n",
    "                                                    np.roll(pcara1,-1,axis=0))\n",
    "    \n",
    "    #cara2\n",
    "    cara2[i] = 2*(1.-2.*r**2)*pcara2 - ppcara2 + r**2*(np.roll(pcara2,1,axis=1)+\n",
    "                                                    np.roll(pcara2,-1,axis=1)+\n",
    "                                                    np.roll(pcara2,1,axis=0)+\n",
    "                                                    np.roll(pcara2,-1,axis=0))\n",
    "    \n",
    "    #cara3\n",
    "    cara3[i] = 2*(1.-2.*r**2)*pcara3 - ppcara3 + r**2*(np.roll(pcara3,1,axis=1)+\n",
    "                                                    np.roll(pcara3,-1,axis=1)+\n",
    "                                                    np.roll(pcara3,1,axis=0)+\n",
    "                                                    np.roll(pcara3,-1,axis=0))\n",
    "    \n",
    "    #cara4\n",
    "    cara4[i] = 2*(1.-2.*r**2)*pcara4 - ppcara4 + r**2*(np.roll(pcara4,1,axis=1)+\n",
    "                                                    np.roll(pcara4,-1,axis=1)+\n",
    "                                                    np.roll(pcara4,1,axis=0)+\n",
    "                                                    np.roll(pcara4,-1,axis=0))\n",
    "    \n",
    "    #cara5\n",
    "    cara5[i] = 2*(1.-2.*r**2)*pcara5 - ppcara5 + r**2*(np.roll(pcara5,1,axis=1)+\n",
    "                                                    np.roll(pcara5,-1,axis=1)+\n",
    "                                                    np.roll(pcara5,1,axis=0)+\n",
    "                                                    np.roll(pcara5,-1,axis=0))\n",
    "    \n",
    "    #cara1\n",
    "    cara6[i] = 2*(1.-2.*r**2)*pcara6 - ppcara6 + r**2*(np.roll(pcara6,1,axis=1)+\n",
    "                                                    np.roll(pcara6,-1,axis=1)+\n",
    "                                                    np.roll(pcara6,1,axis=0)+\n",
    "                                                    np.roll(pcara6,-1,axis=0))"
   ]
  },
  {
   "cell_type": "code",
   "execution_count": 7,
   "metadata": {
    "collapsed": false
   },
   "outputs": [],
   "source": [
    "#Simulación\n",
    "for i in range(2,Nt):\n",
    "    #Instantes anteriores cara1\n",
    "    pcara1 = cara1[i-1]\n",
    "    ppcara1 = cara1[i-2]\n",
    "    \n",
    "    #Instantes anteriores cara2\n",
    "    pcara2 = cara2[i-1]\n",
    "    ppcara2 = cara2[i-2]\n",
    "    \n",
    "    #Instantes anteriores cara3\n",
    "    pcara3 = cara3[i-1]\n",
    "    ppcara3 = cara3[i-2]\n",
    "    \n",
    "    #Instantes anteriores cara4\n",
    "    pcara4 = cara4[i-1]\n",
    "    ppcara4 = cara4[i-2]\n",
    "    \n",
    "    #Instantes anteriores cara5\n",
    "    pcara5 = cara5[i-1]\n",
    "    ppcara5 = cara5[i-2]\n",
    "    \n",
    "    #Instantes anteriores cara6\n",
    "    pcara6 = cara6[i-1]\n",
    "    ppcara6 = cara6[i-2]\n",
    "    \n",
    "    actualizar_bordes()\n",
    "    actualizar_caras(i)"
   ]
  },
  {
   "cell_type": "code",
   "execution_count": 8,
   "metadata": {
    "collapsed": false
   },
   "outputs": [],
   "source": [
    "def grafica(instante):\n",
    "    fig = plt.figure(figsize=(12,9))\n",
    "    plt.subplots_adjust(hspace=0.00, wspace=0.00)\n",
    "\n",
    "    plt.subplot(3,4,1)\n",
    "    plt.pcolor(xcoords,ycoords,cara4[0,1:-1,1:-1],cmap='gist_heat',vmin=0.,vmax=1.)\n",
    "    plt.xlim(xmin+dx,xmax-dx)\n",
    "    plt.ylim(ymin+dy,ymax-dy)\n",
    "    plt.axis('off')\n",
    "    \n",
    "    plt.subplot(3,4,2)\n",
    "    plt.pcolor(xcoords,ycoords,cara3[instante,1:-1,1:-1],cmap='gist_heat',vmin=0.,vmax=1.)\n",
    "    plt.xlim(xmin+dx,xmax-dx)\n",
    "    plt.ylim(ymin+dy,ymax-dy)\n",
    "    plt.axis('off')\n",
    "    \n",
    "    plt.subplot(3,4,3)\n",
    "    plt.pcolor(xcoords,ycoords,cara4[0,1:-1,1:-1],cmap='gist_heat',vmin=0.,vmax=1.)\n",
    "    plt.xlim(xmin+dx,xmax-dx)\n",
    "    plt.ylim(ymin+dy,ymax-dy)\n",
    "    plt.axis('off')\n",
    "    \n",
    "    plt.subplot(3,4,4)\n",
    "    plt.pcolor(xcoords,ycoords,cara4[0,1:-1,1:-1],cmap='gist_heat',vmin=0.,vmax=1.)\n",
    "    plt.xlim(xmin+dx,xmax-dx)\n",
    "    plt.ylim(ymin+dy,ymax-dy)\n",
    "    plt.axis('off')\n",
    "\n",
    "    plt.subplot(3,4,5)\n",
    "    plt.pcolor(xcoords,ycoords,cara5[instante,1:-1,1:-1],cmap='gist_heat',vmin=0.,vmax=1.)\n",
    "    plt.xlim(xmin+dx,xmax-dx)\n",
    "    plt.ylim(ymin+dy,ymax-dy)\n",
    "    plt.axis('off')\n",
    "\n",
    "    plt.subplot(3,4,6)\n",
    "    plt.pcolor(xcoords,ycoords,cara1[instante,1:-1,1:-1],cmap='gist_heat',vmin=0.,vmax=1.)\n",
    "    plt.xlim(xmin+dx,xmax-dx)\n",
    "    plt.ylim(ymin+dy,ymax-dy)\n",
    "    plt.axis('off')\n",
    "\n",
    "    plt.subplot(3,4,7)\n",
    "    plt.pcolor(xcoords,ycoords,cara2[instante,1:-1,1:-1],cmap='gist_heat',vmin=0.,vmax=1.)\n",
    "    plt.xlim(xmin+dx,xmax-dx)\n",
    "    plt.ylim(ymin+dy,ymax-dy)\n",
    "    plt.axis('off')\n",
    "\n",
    "    plt.subplot(3,4,8)\n",
    "    plt.pcolor(xcoords,ycoords,cara6[instante,1:-1,1:-1],cmap='gist_heat',vmin=0.,vmax=1.)\n",
    "    plt.xlim(xmin+dx,xmax-dx)\n",
    "    plt.ylim(ymin+dy,ymax-dy)\n",
    "    plt.axis('off')\n",
    "    \n",
    "    plt.subplot(3,4,9)\n",
    "    plt.pcolor(xcoords,ycoords,cara4[0,1:-1,1:-1],cmap='gist_heat',vmin=0.,vmax=1.)\n",
    "    plt.xlim(xmin+dx,xmax-dx)\n",
    "    plt.ylim(ymin+dy,ymax-dy)\n",
    "    #plt.axis('off')\n",
    "\n",
    "    plt.subplot(3,4,10)\n",
    "    plt.pcolor(xcoords,ycoords,cara4[instante,1:-1,1:-1],cmap='gist_heat',vmin=0.,vmax=1.)\n",
    "    plt.xlim(xmin+dx,xmax-dx)\n",
    "    plt.ylim(ymin+dy,ymax-dy)\n",
    "    plt.axis('off')\n",
    "    \n",
    "    plt.subplot(3,4,11)\n",
    "    plt.pcolor(xcoords,ycoords,cara4[0,1:-1,1:-1],cmap='gist_heat',vmin=0.,vmax=1.)\n",
    "    plt.xlim(xmin+dx,xmax-dx)\n",
    "    plt.ylim(ymin+dy,ymax-dy)\n",
    "    plt.axis('off')\n",
    "    \n",
    "    plt.subplot(3,4,12)\n",
    "    plt.pcolor(xcoords,ycoords,cara4[0,1:-1,1:-1],cmap='gist_heat',vmin=0.,vmax=1.)\n",
    "    plt.xlim(xmin+dx,xmax-dx)\n",
    "    plt.ylim(ymin+dy,ymax-dy)\n",
    "    plt.axis('off')\n",
    "    \n",
    "    #plt.savefig('anim%d.png'%instante)#Guarda las gráficas realizadas\n",
    "    #plt.cla()\n",
    "    #plt.close()\n",
    "    #if (instante%20 == 0):\n",
    "        #print (instante)"
   ]
  },
  {
   "cell_type": "code",
   "execution_count": 22,
   "metadata": {
    "collapsed": true
   },
   "outputs": [],
   "source": [
    "def otra_grafica(instante):\n",
    "    pantalla = np.zeros((Nl*3,Nl*4))\n",
    "    \n",
    "    #Fila 1\n",
    "    pantalla[0:Nl,0:Nl] = cara2[0,1:-1,1:-1]\n",
    "    pantalla[0:Nl,Nl:2*Nl] = cara3[instante,1:-1,1:-1]\n",
    "    pantalla[0:Nl,2*Nl:3*Nl] = cara2[0,1:-1,1:-1]\n",
    "    pantalla[0:Nl,3*Nl:4*Nl] = cara2[0,1:-1,1:-1]\n",
    "    \n",
    "    #Fila 2\n",
    "    pantalla[Nl:2*Nl,0:Nl] = cara5[instante,1:-1,1:-1]\n",
    "    pantalla[Nl:2*Nl,Nl:2*Nl] = cara1[instante,1:-1,1:-1]\n",
    "    pantalla[Nl:2*Nl,2*Nl:3*Nl] = cara2[instante,1:-1,1:-1]\n",
    "    pantalla[Nl:2*Nl,3*Nl:4*Nl] = cara6[instante,1:-1,1:-1]\n",
    "    \n",
    "    #Fila 3\n",
    "    pantalla[2*Nl:3*Nl,0:Nl] = cara2[0,1:-1,1:-1]\n",
    "    pantalla[2*Nl:3*Nl,Nl:2*Nl] = cara4[instante,1:-1,1:-1]\n",
    "    pantalla[2*Nl:3*Nl,2*Nl:3*Nl] = cara2[0,1:-1,1:-1]\n",
    "    pantalla[2*Nl:3*Nl,3*Nl:4*Nl] = cara2[0,1:-1,1:-1]\n",
    "    \n",
    "    #New xmesh\n",
    "    #newxmesh = np.concatenate((xmesh,xmesh,xmesh,xmesh),axis=1)\n",
    "    #newxmesh = np.concatenate((newxmesh,newxmesh,newxmesh),axis=0)\n",
    "    \n",
    "    #New ymesh\n",
    "    #newymesh = np.concatenate((ymesh,ymesh,ymesh,ymesh),axis=1)\n",
    "    #newymesh = np.concatenate((newymesh,newymesh,newymesh),axis=0)\n",
    "    \n",
    "    #New xcoords\n",
    "    #newxcoords = np.concatenate((xcoords,xcoords,xcoords,xcoords))\n",
    "    \n",
    "    #New ycoords\n",
    "    #newycoords = np.concatenate((ycoords,ycoords,ycoords))\n",
    "    \n",
    "    #Graphic\n",
    "    fig = plt.figure(figsize=(12,9))\n",
    "    #plt.pcolor(newxcoords,newycoords,pantalla,cmap='gist_heat',vmin=0.,vmax=1.)\n",
    "    plt.pcolor(pantalla,cmap='gist_heat',vmin=0.,vmax=1.)\n",
    "    plt.xlim(0,200)\n",
    "    plt.ylim(0,150)\n",
    "    plt.axis('off')\n",
    "    plt.savefig('fotos/anim%d.png'%instante,bbox_inches='tight',pad_inches = 0)#Guarda las gráficas realizadas\n",
    "    plt.cla()\n",
    "    plt.close()\n",
    "    if (instante%30 == 0):\n",
    "        print (instante)"
   ]
  },
  {
   "cell_type": "code",
   "execution_count": 23,
   "metadata": {
    "collapsed": false
   },
   "outputs": [],
   "source": [
    "otra_grafica(10)"
   ]
  },
  {
   "cell_type": "code",
   "execution_count": 25,
   "metadata": {
    "collapsed": false
   },
   "outputs": [
    {
     "name": "stdout",
     "output_type": "stream",
     "text": [
      "0\n"
     ]
    },
    {
     "data": {
      "image/png": "[encoded data removed]",
      "text/plain": [
       "<matplotlib.figure.Figure at 0x7fb8453a33c8>"
      ]
     },
     "metadata": {},
     "output_type": "display_data"
    }
   ],
   "source": [
    "fig = plt.figure(figsize=(12,9))\n",
    "animacion = animation.FuncAnimation(fig, otra_grafica, np.arange(0,len(cara1),100),interval=10, blit=False)\n",
    "FFwriter = animation.FFMpegWriter()"
   ]
  },
  {
   "cell_type": "code",
   "execution_count": 26,
   "metadata": {
    "collapsed": false
   },
   "outputs": [
    {
     "data": {
      "image/png": "[encoded data removed]",
      "text/plain": [
       "<matplotlib.figure.Figure at 0x7fb8453b1828>"
      ]
     },
     "metadata": {},
     "output_type": "display_data"
    }
   ],
   "source": [
    "otra_grafica(10)"
   ]
  },
  {
   "cell_type": "code",
   "execution_count": 10,
   "metadata": {
    "collapsed": false
   },
   "outputs": [
    {
     "ename": "NameError",
     "evalue": "name 'animacion' is not defined",
     "output_type": "error",
     "traceback": [
      "\u001b[1;31m---------------------------------------------------------------------------\u001b[0m",
      "\u001b[1;31mNameError\u001b[0m                                 Traceback (most recent call last)",
      "\u001b[1;32m<ipython-input-10-a6d16323a303>\u001b[0m in \u001b[0;36m<module>\u001b[1;34m()\u001b[0m\n\u001b[0;32m      1\u001b[0m \u001b[0mstart_time\u001b[0m \u001b[1;33m=\u001b[0m \u001b[0mtime\u001b[0m\u001b[1;33m.\u001b[0m\u001b[0mtime\u001b[0m\u001b[1;33m(\u001b[0m\u001b[1;33m)\u001b[0m\u001b[1;33m\u001b[0m\u001b[0m\n\u001b[1;32m----> 2\u001b[1;33m \u001b[0manimacion\u001b[0m\u001b[1;33m.\u001b[0m\u001b[0msave\u001b[0m\u001b[1;33m(\u001b[0m\u001b[1;34m\"lala.mp4\"\u001b[0m\u001b[1;33m,\u001b[0m \u001b[0mwriter\u001b[0m \u001b[1;33m=\u001b[0m \u001b[0mFFwriter\u001b[0m\u001b[1;33m,\u001b[0m \u001b[0mfps\u001b[0m\u001b[1;33m=\u001b[0m\u001b[1;36m100\u001b[0m\u001b[1;33m,\u001b[0m \u001b[0mextra_args\u001b[0m\u001b[1;33m=\u001b[0m\u001b[1;33m[\u001b[0m\u001b[1;34m'-vcodec'\u001b[0m\u001b[1;33m,\u001b[0m \u001b[1;34m'libx264'\u001b[0m\u001b[1;33m]\u001b[0m\u001b[1;33m)\u001b[0m\u001b[1;33m\u001b[0m\u001b[0m\n\u001b[0m\u001b[0;32m      3\u001b[0m \u001b[0mprint\u001b[0m\u001b[1;33m(\u001b[0m\u001b[1;34m\"--- %s seconds ---\"\u001b[0m \u001b[1;33m%\u001b[0m \u001b[1;33m(\u001b[0m\u001b[0mtime\u001b[0m\u001b[1;33m.\u001b[0m\u001b[0mtime\u001b[0m\u001b[1;33m(\u001b[0m\u001b[1;33m)\u001b[0m \u001b[1;33m-\u001b[0m \u001b[0mstart_time\u001b[0m\u001b[1;33m)\u001b[0m\u001b[1;33m)\u001b[0m\u001b[1;33m\u001b[0m\u001b[0m\n",
      "\u001b[1;31mNameError\u001b[0m: name 'animacion' is not defined"
     ]
    }
   ],
   "source": [
    "start_time = time.time()\n",
    "animacion.save(\"lala.mp4\", writer = FFwriter, fps=100, extra_args=['-vcodec', 'libx264'])\n",
    "print(\"--- %s seconds ---\" % (time.time() - start_time))"
   ]
  },
  {
   "cell_type": "code",
   "execution_count": 11,
   "metadata": {
    "collapsed": false
   },
   "outputs": [
    {
     "name": "stdout",
     "output_type": "stream",
     "text": [
      "0\n",
      "300\n",
      "600\n",
      "900\n",
      "1200\n",
      "1500\n",
      "1800\n",
      "--- 22.147930145263672 seconds ---\n"
     ]
    }
   ],
   "source": [
    "start_time = time.time()\n",
    "for i in np.arange(0,len(cara1),100):\n",
    "    otra_grafica(i)\n",
    "print(\"--- %s seconds ---\" % (time.time() - start_time))"
   ]
  },
  {
   "cell_type": "code",
   "execution_count": 20,
   "metadata": {
    "collapsed": false
   },
   "outputs": [
    {
     "data": {
      "text/plain": [
       "array([   0,  100,  200,  300,  400,  500,  600,  700,  800,  900, 1000,\n",
       "       1100, 1200, 1300, 1400, 1500, 1600, 1700, 1800, 1900])"
      ]
     },
     "execution_count": 20,
     "metadata": {},
     "output_type": "execute_result"
    }
   ],
   "source": [
    "np.arange(0,len(cara1),100)"
   ]
  },
  {
   "cell_type": "code",
   "execution_count": null,
   "metadata": {
    "collapsed": true
   },
   "outputs": [],
   "source": [
    "instante = 10\n",
    "plt.pcolor(xcoords,ycoords,cara6[instante,1:-1,1:-1],cmap='gist_heat',vmin=0.,vmax=1.)\n",
    "plt.xlim(xmin+dx,xmax-dx)\n",
    "plt.ylim(ymin+dy,ymax-dy)\n",
    "plt.axis('off')"
   ]
  },
  {
   "cell_type": "code",
   "execution_count": 9,
   "metadata": {
    "collapsed": false
   },
   "outputs": [],
   "source": [
    "def animador(numfotos=100,duracion=22,*args):\n",
    "    delay = np.around((duracion/numfotos)*110)\n",
    "    instantes = np.linspace(0,len(cara1)-1,numfotos,dtype=int)\n",
    "    for instante in instantes:\n",
    "        grafica(instante)\n",
    "        if (instante%20 == 0):\n",
    "            print (instante)\n",
    "    #os.system(\"convert -delay %d -loop 0 $(ls anim*.png | sort -V) onda.gif\"%delay)\n",
    "    #os.system(\"rm anim*.png\")#Toma las gráficas, las convierte en un .gif y las elimina"
   ]
  },
  {
   "cell_type": "code",
   "execution_count": 10,
   "metadata": {
    "collapsed": false
   },
   "outputs": [
    {
     "name": "stdout",
     "output_type": "stream",
     "text": [
      "1700\n",
      "1720\n",
      "1740\n",
      "1760\n",
      "1780\n",
      "1800\n",
      "1820\n",
      "1840\n",
      "1860\n",
      "1880\n",
      "1900\n",
      "1920\n",
      "1940\n",
      "1960\n",
      "1980\n",
      "--- 487.52781772613525 seconds ---\n"
     ]
    }
   ],
   "source": [
    "start_time = time.time()\n",
    "animador()\n",
    "print(\"--- %s seconds ---\" % (time.time() - start_time))"
   ]
  },
  {
   "cell_type": "markdown",
   "metadata": {},
   "source": [
    "##Hacer un .gif es bastante ineficiente, toca mirar otra alternativa para hacer la animación"
   ]
  },
  {
   "cell_type": "code",
   "execution_count": null,
   "metadata": {
    "collapsed": true
   },
   "outputs": [],
   "source": [
    "#Hago un video .mp4 cutilizanod ffmpeg\n",
    "os.system(\"ffmpeg -framerate 100 -start_number 0 -i anim%d.png -c:v libx264 -pix_fmt yuv420p ondascubo.mp4\n",
    "\")"
   ]
  },
  {
   "cell_type": "code",
   "execution_count": 31,
   "metadata": {
    "collapsed": false
   },
   "outputs": [],
   "source": [
    "tt = 3\n",
    "a = np.zeros((3*tt,4*tt))"
   ]
  },
  {
   "cell_type": "code",
   "execution_count": 32,
   "metadata": {
    "collapsed": false
   },
   "outputs": [
    {
     "data": {
      "text/plain": [
       "array([[ 0.,  0.,  0.,  0.,  0.,  0.,  0.,  0.,  0.,  0.,  0.,  0.],\n",
       "       [ 0.,  0.,  0.,  0.,  0.,  0.,  0.,  0.,  0.,  0.,  0.,  0.],\n",
       "       [ 0.,  0.,  0.,  0.,  0.,  0.,  0.,  0.,  0.,  0.,  0.,  0.],\n",
       "       [ 0.,  0.,  0.,  0.,  0.,  0.,  0.,  0.,  0.,  0.,  0.,  0.],\n",
       "       [ 0.,  0.,  0.,  0.,  0.,  0.,  0.,  0.,  0.,  0.,  0.,  0.],\n",
       "       [ 0.,  0.,  0.,  0.,  0.,  0.,  0.,  0.,  0.,  0.,  0.,  0.],\n",
       "       [ 0.,  0.,  0.,  0.,  0.,  0.,  0.,  0.,  0.,  0.,  0.,  0.],\n",
       "       [ 0.,  0.,  0.,  0.,  0.,  0.,  0.,  0.,  0.,  0.,  0.,  0.],\n",
       "       [ 0.,  0.,  0.,  0.,  0.,  0.,  0.,  0.,  0.,  0.,  0.,  0.]])"
      ]
     },
     "execution_count": 32,
     "metadata": {},
     "output_type": "execute_result"
    }
   ],
   "source": [
    "a"
   ]
  },
  {
   "cell_type": "code",
   "execution_count": 33,
   "metadata": {
    "collapsed": false
   },
   "outputs": [],
   "source": [
    "a[0:tt,0:tt]=1"
   ]
  },
  {
   "cell_type": "code",
   "execution_count": 34,
   "metadata": {
    "collapsed": false
   },
   "outputs": [
    {
     "data": {
      "text/plain": [
       "array([[ 1.,  1.,  1.,  0.,  0.,  0.,  0.,  0.,  0.,  0.,  0.,  0.],\n",
       "       [ 1.,  1.,  1.,  0.,  0.,  0.,  0.,  0.,  0.,  0.,  0.,  0.],\n",
       "       [ 1.,  1.,  1.,  0.,  0.,  0.,  0.,  0.,  0.,  0.,  0.,  0.],\n",
       "       [ 0.,  0.,  0.,  0.,  0.,  0.,  0.,  0.,  0.,  0.,  0.,  0.],\n",
       "       [ 0.,  0.,  0.,  0.,  0.,  0.,  0.,  0.,  0.,  0.,  0.,  0.],\n",
       "       [ 0.,  0.,  0.,  0.,  0.,  0.,  0.,  0.,  0.,  0.,  0.,  0.],\n",
       "       [ 0.,  0.,  0.,  0.,  0.,  0.,  0.,  0.,  0.,  0.,  0.,  0.],\n",
       "       [ 0.,  0.,  0.,  0.,  0.,  0.,  0.,  0.,  0.,  0.,  0.,  0.],\n",
       "       [ 0.,  0.,  0.,  0.,  0.,  0.,  0.,  0.,  0.,  0.,  0.,  0.]])"
      ]
     },
     "execution_count": 34,
     "metadata": {},
     "output_type": "execute_result"
    }
   ],
   "source": [
    "a"
   ]
  },
  {
   "cell_type": "code",
   "execution_count": 35,
   "metadata": {
    "collapsed": true
   },
   "outputs": [],
   "source": [
    "a[0:tt,tt:2*tt]=2"
   ]
  },
  {
   "cell_type": "code",
   "execution_count": 36,
   "metadata": {
    "collapsed": false
   },
   "outputs": [
    {
     "data": {
      "text/plain": [
       "array([[ 1.,  1.,  1.,  2.,  2.,  2.,  0.,  0.,  0.,  0.,  0.,  0.],\n",
       "       [ 1.,  1.,  1.,  2.,  2.,  2.,  0.,  0.,  0.,  0.,  0.,  0.],\n",
       "       [ 1.,  1.,  1.,  2.,  2.,  2.,  0.,  0.,  0.,  0.,  0.,  0.],\n",
       "       [ 0.,  0.,  0.,  0.,  0.,  0.,  0.,  0.,  0.,  0.,  0.,  0.],\n",
       "       [ 0.,  0.,  0.,  0.,  0.,  0.,  0.,  0.,  0.,  0.,  0.,  0.],\n",
       "       [ 0.,  0.,  0.,  0.,  0.,  0.,  0.,  0.,  0.,  0.,  0.,  0.],\n",
       "       [ 0.,  0.,  0.,  0.,  0.,  0.,  0.,  0.,  0.,  0.,  0.,  0.],\n",
       "       [ 0.,  0.,  0.,  0.,  0.,  0.,  0.,  0.,  0.,  0.,  0.,  0.],\n",
       "       [ 0.,  0.,  0.,  0.,  0.,  0.,  0.,  0.,  0.,  0.,  0.,  0.]])"
      ]
     },
     "execution_count": 36,
     "metadata": {},
     "output_type": "execute_result"
    }
   ],
   "source": [
    "a"
   ]
  },
  {
   "cell_type": "code",
   "execution_count": 46,
   "metadata": {
    "collapsed": true
   },
   "outputs": [],
   "source": [
    "a = np.zeros((2,2))\n",
    "b = np.zeros((2,2))\n",
    "b[0:2,0:2] = 1"
   ]
  },
  {
   "cell_type": "code",
   "execution_count": 47,
   "metadata": {
    "collapsed": false
   },
   "outputs": [
    {
     "data": {
      "text/plain": [
       "array([[ 0.,  0.],\n",
       "       [ 0.,  0.]])"
      ]
     },
     "execution_count": 47,
     "metadata": {},
     "output_type": "execute_result"
    }
   ],
   "source": [
    "a"
   ]
  },
  {
   "cell_type": "code",
   "execution_count": 48,
   "metadata": {
    "collapsed": false
   },
   "outputs": [
    {
     "data": {
      "text/plain": [
       "array([[ 1.,  1.],\n",
       "       [ 1.,  1.]])"
      ]
     },
     "execution_count": 48,
     "metadata": {},
     "output_type": "execute_result"
    }
   ],
   "source": [
    "b"
   ]
  },
  {
   "cell_type": "code",
   "execution_count": 52,
   "metadata": {
    "collapsed": false
   },
   "outputs": [],
   "source": [
    "lol = np.concatenate((a,b,a),axis=1)\n",
    "lol = np.concatenate((lol,lol),axis=0)"
   ]
  },
  {
   "cell_type": "code",
   "execution_count": 53,
   "metadata": {
    "collapsed": false
   },
   "outputs": [
    {
     "data": {
      "text/plain": [
       "array([[ 0.,  0.,  1.,  1.,  0.,  0.],\n",
       "       [ 0.,  0.,  1.,  1.,  0.,  0.],\n",
       "       [ 0.,  0.,  1.,  1.,  0.,  0.],\n",
       "       [ 0.,  0.,  1.,  1.,  0.,  0.]])"
      ]
     },
     "execution_count": 53,
     "metadata": {},
     "output_type": "execute_result"
    }
   ],
   "source": [
    "lol"
   ]
  },
  {
   "cell_type": "code",
   "execution_count": null,
   "metadata": {
    "collapsed": true
   },
   "outputs": [],
   "source": []
  }
 ],
 "metadata": {
  "kernelspec": {
   "display_name": "Python 3",
   "language": "python",
   "name": "python3"
  },
  "language_info": {
   "codemirror_mode": {
    "name": "ipython",
    "version": 3
   },
   "file_extension": ".py",
   "mimetype": "text/x-python",
   "name": "python",
   "nbconvert_exporter": "python",
   "pygments_lexer": "ipython3",
   "version": "3.4.0"
  }
 },
 "nbformat": 4,
 "nbformat_minor": 0
}
