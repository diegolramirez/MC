{
 "cells": [
  {
   "cell_type": "code",
   "execution_count": 2,
   "metadata": {
    "collapsed": false
   },
   "outputs": [],
   "source": [
    "import numpy as np\n",
    "import matplotlib.pyplot as plt\n",
    "from scipy import interpolate\n",
    "from scipy.optimize import curve_fit"
   ]
  },
  {
   "cell_type": "code",
   "execution_count": 3,
   "metadata": {
    "collapsed": false,
    "scrolled": true
   },
   "outputs": [],
   "source": [
    "#Primer punto\n",
    "datos = np.genfromtxt('polyunkown.csv',delimiter=',')"
   ]
  },
  {
   "cell_type": "code",
   "execution_count": 4,
   "metadata": {
    "collapsed": true
   },
   "outputs": [],
   "source": [
    "x = datos[:,0]\n",
    "y = datos[:,1]"
   ]
  },
  {
   "cell_type": "code",
   "execution_count": 5,
   "metadata": {
    "collapsed": true
   },
   "outputs": [],
   "source": [
    "def regresion(x,coeficientes):\n",
    "    grado = len(coeficientes)-1\n",
    "    y = np.zeros(len(x))\n",
    "    for i in range (0,len(coeficientes),1):\n",
    "        a = np.array(x**(grado-i))*coeficientes[i]\n",
    "        y+=a\n",
    "    return y"
   ]
  },
  {
   "cell_type": "code",
   "execution_count": 6,
   "metadata": {
    "collapsed": true
   },
   "outputs": [],
   "source": [
    "def R2(xexp, xteo):\n",
    "    EE = sum((xteo-xexp)**2)\n",
    "    mean = sum(xexp)/(len(xexp))\n",
    "    variance = sum((mean-xexp)**2)\n",
    "    R2 = 1 - EE/variance\n",
    "    return R2"
   ]
  },
  {
   "cell_type": "code",
   "execution_count": 7,
   "metadata": {
    "collapsed": true
   },
   "outputs": [],
   "source": [
    "def grafica(grado,r2):\n",
    "    plt.scatter(x,y,color='red', label='real')\n",
    "    plt.plot(x,regresion(x,fit),color='blue', label='fit')\n",
    "    plt.legend()\n",
    "    plt.title(\"Ajuste con polinomio de grado: %d\"%grado)\n",
    "    plt.text(-5.5,1.8e+09,\"Coeficiente de correlacion: %.20f\"%r2)\n",
    "    plt.show()"
   ]
  },
  {
   "cell_type": "code",
   "execution_count": 8,
   "metadata": {
    "collapsed": false,
    "scrolled": true
   },
   "outputs": [
    {
     "name": "stdout",
     "output_type": "stream",
     "text": [
      "Los datos se ajustan a un polinomio de grado: 13\n"
     ]
    }
   ],
   "source": [
    "for i in range(1,len(x )):\n",
    "    fit = np.polyfit(x,y,i)\n",
    "    #r_actual=R2(y,regresion(x,fit))\n",
    "    r_actual=np.mean(np.corrcoef(y,regresion(x,fit)))\n",
    "    grafica(i,r_actual)\n",
    "    if (r_actual == 1):\n",
    "        print \"Los datos se ajustan a un polinomio de grado: %d\"%i\n",
    "        break"
   ]
  },
  {
   "cell_type": "code",
   "execution_count": 9,
   "metadata": {
    "collapsed": true
   },
   "outputs": [],
   "source": [
    "#Tercer punto"
   ]
  },
  {
   "cell_type": "markdown",
   "metadata": {},
   "source": [
    "###Ecuación de campo magnético. \n",
    "$|B|=\\frac{\\mu_{0}}{4\\pi} \\left( \\frac{3r(m\\cdot r)}{r^5} - \\frac{m}{r^3} \\right) \\approx \\frac{\\mu_{0}}{2\\pi} \\left( \\frac{m}{r^3} \\right)$\n",
    "Donde *m* se refiere al momento magnético dipolar, el cual queremos hallar utilizando el ajuste por mínimo cuadrados."
   ]
  },
  {
   "cell_type": "code",
   "execution_count": 10,
   "metadata": {
    "collapsed": false
   },
   "outputs": [],
   "source": [
    "xr = np.array([2.3,2.8,3.2,3.7,4.3])\n",
    "B = np.array([34745,19689,12594,7982,5822])"
   ]
  },
  {
   "cell_type": "code",
   "execution_count": 11,
   "metadata": {
    "collapsed": false
   },
   "outputs": [],
   "source": [
    "def magnetico(r,m):\n",
    "    return (m/r**3)"
   ]
  },
  {
   "cell_type": "code",
   "execution_count": 12,
   "metadata": {
    "collapsed": false
   },
   "outputs": [],
   "source": [
    "fitpars,covmat = curve_fit(magnetico,xr,B)"
   ]
  },
  {
   "cell_type": "code",
   "execution_count": 13,
   "metadata": {
    "collapsed": false
   },
   "outputs": [],
   "source": [
    "xr100 = np.linspace(2.3,4.3,100)\n",
    "B100 = magnetico(xr100,fitpars)"
   ]
  },
  {
   "cell_type": "code",
   "execution_count": 14,
   "metadata": {
    "collapsed": false,
    "scrolled": true
   },
   "outputs": [
    {
     "name": "stdout",
     "output_type": "stream",
     "text": [
      "|     x/cm     |     B/uT     |\n",
      "|--------------|--------------|\n",
      "|   2.300000   | 34820.333098 |\n",
      "|   2.320202   | 33918.686635 |\n",
      "|   2.340404   | 33047.903347 |\n",
      "|   2.360606   | 32206.673903 |\n",
      "|   2.380808   | 31393.755068 |\n",
      "|   2.401010   | 30607.965841 |\n",
      "|   2.421212   | 29848.183851 |\n",
      "|   2.441414   | 29113.341988 |\n",
      "|   2.461616   | 28402.425257 |\n",
      "|   2.481818   | 27714.467831 |\n",
      "|   2.502020   | 27048.550294 |\n",
      "|   2.522222   | 26403.797062 |\n",
      "|   2.542424   | 25779.373962 |\n",
      "|   2.562626   | 25174.485966 |\n",
      "|   2.582828   | 24588.375064 |\n",
      "|   2.603030   | 24020.318271 |\n",
      "|   2.623232   | 23469.625748 |\n",
      "|   2.643434   | 22935.639050 |\n",
      "|   2.663636   | 22417.729464 |\n",
      "|   2.683838   | 21915.296460 |\n",
      "|   2.704040   | 21427.766226 |\n",
      "|   2.724242   | 20954.590291 |\n",
      "|   2.744444   | 20495.244231 |\n",
      "|   2.764646   | 20049.226444 |\n",
      "|   2.784848   | 19616.057003 |\n",
      "|   2.805051   | 19195.276571 |\n",
      "|   2.825253   | 18786.445376 |\n",
      "|   2.845455   | 18389.142246 |\n",
      "|   2.865657   | 18002.963700 |\n",
      "|   2.885859   | 17627.523083 |\n",
      "|   2.906061   | 17262.449755 |\n",
      "|   2.926263   | 16907.388326 |\n",
      "|   2.946465   | 16561.997922 |\n",
      "|   2.966667   | 16225.951504 |\n",
      "|   2.986869   | 15898.935212 |\n",
      "|   3.007071   | 15580.647756 |\n",
      "|   3.027273   | 15270.799827 |\n",
      "|   3.047475   | 14969.113546 |\n",
      "|   3.067677   | 14675.321942 |\n",
      "|   3.087879   | 14389.168457 |\n",
      "|   3.108081   | 14110.406472 |\n",
      "|   3.128283   | 13838.798860 |\n",
      "|   3.148485   | 13574.117567 |\n",
      "|   3.168687   | 13316.143207 |\n",
      "|   3.188889   | 13064.664680 |\n",
      "|   3.209091   | 12819.478807 |\n",
      "|   3.229293   | 12580.389990 |\n",
      "|   3.249495   | 12347.209882 |\n",
      "|   3.269697   | 12119.757073 |\n",
      "|   3.289899   | 11897.856799 |\n",
      "|   3.310101   | 11681.340652 |\n",
      "|   3.330303   | 11470.046321 |\n",
      "|   3.350505   | 11263.817328 |\n",
      "|   3.370707   | 11062.502790 |\n",
      "|   3.390909   | 10865.957185 |\n",
      "|   3.411111   | 10674.040131 |\n",
      "|   3.431313   | 10486.616177 |\n",
      "|   3.451515   | 10303.554599 |\n",
      "|   3.471717   | 10124.729213 |\n",
      "|   3.491919   | 9950.018187 |\n",
      "|   3.512121   | 9779.303872 |\n",
      "|   3.532323   | 9612.472631 |\n",
      "|   3.552525   | 9449.414684 |\n",
      "|   3.572727   | 9290.023953 |\n",
      "|   3.592929   | 9134.197919 |\n",
      "|   3.613131   | 8981.837484 |\n",
      "|   3.633333   | 8832.846836 |\n",
      "|   3.653535   | 8687.133326 |\n",
      "|   3.673737   | 8544.607343 |\n",
      "|   3.693939   | 8405.182201 |\n",
      "|   3.714141   | 8268.774029 |\n",
      "|   3.734343   | 8135.301662 |\n",
      "|   3.754545   | 8004.686542 |\n",
      "|   3.774747   | 7876.852619 |\n",
      "|   3.794949   | 7751.726262 |\n",
      "|   3.815152   | 7629.236163 |\n",
      "|   3.835354   | 7509.313259 |\n",
      "|   3.855556   | 7391.890645 |\n",
      "|   3.875758   | 7276.903498 |\n",
      "|   3.895960   | 7164.289001 |\n",
      "|   3.916162   | 7053.986272 |\n",
      "|   3.936364   | 6945.936295 |\n",
      "|   3.956566   | 6840.081849 |\n",
      "|   3.976768   | 6736.367452 |\n",
      "|   3.996970   | 6634.739295 |\n",
      "|   4.017172   | 6535.145184 |\n",
      "|   4.037374   | 6437.534483 |\n",
      "|   4.057576   | 6341.858065 |\n",
      "|   4.077778   | 6248.068251 |\n",
      "|   4.097980   | 6156.118770 |\n",
      "|   4.118182   | 6065.964702 |\n",
      "|   4.138384   | 5977.562440 |\n",
      "|   4.158586   | 5890.869639 |\n",
      "|   4.178788   | 5805.845178 |\n",
      "|   4.198990   | 5722.449117 |\n",
      "|   4.219192   | 5640.642657 |\n",
      "|   4.239394   | 5560.388104 |\n",
      "|   4.259596   | 5481.648832 |\n",
      "|   4.279798   | 5404.389247 |\n",
      "|   4.300000   | 5328.574752 |\n"
     ]
    }
   ],
   "source": [
    "print \"|     x/cm     |     B/uT     |\\n|--------------|--------------|\"\n",
    "for i in range (len(B100)):\n",
    "    print \"|   %f   | %f |\"%(xr100[i],B100[i])"
   ]
  },
  {
   "cell_type": "code",
   "execution_count": 15,
   "metadata": {
    "collapsed": false
   },
   "outputs": [],
   "source": [
    "plt.plot(xr100,B100,color='blue', label='fit')\n",
    "plt.scatter(xr,B,color='red', label='real')\n",
    "plt.legend()\n",
    "plt.xlabel(\"x(cm)\")\n",
    "plt.ylabel(r\"B($\\mu$T)\")\n",
    "plt.title(\"Campo magnetico respecto a la distancia del dipolo\")\n",
    "#plt.text(2.2,5000,\"El coeficiente de correlacion del ajuste es: %f\"%(np.mean(np.corrcoef(B,B100))))\n",
    "plt.savefig(\"campoB.png\")\n",
    "plt.show()"
   ]
  },
  {
   "cell_type": "code",
   "execution_count": 21,
   "metadata": {
    "collapsed": false
   },
   "outputs": [
    {
     "name": "stdout",
     "output_type": "stream",
     "text": [
      "Momento magnetico = 674274.228895\n"
     ]
    }
   ],
   "source": [
    "print \"Momento magnetico = %f\"%(fitpars*10**(-6)/(2*np.pi*10**(-7)))"
   ]
  },
  {
   "cell_type": "code",
   "execution_count": null,
   "metadata": {
    "collapsed": true
   },
   "outputs": [],
   "source": []
  }
 ],
 "metadata": {
  "kernelspec": {
   "display_name": "Python 2",
   "language": "python",
   "name": "python2"
  },
  "language_info": {
   "codemirror_mode": {
    "name": "ipython",
    "version": 2
   },
   "file_extension": ".py",
   "mimetype": "text/x-python",
   "name": "python",
   "nbconvert_exporter": "python",
   "pygments_lexer": "ipython2",
   "version": "2.7.6"
  }
 },
 "nbformat": 4,
 "nbformat_minor": 0
}
