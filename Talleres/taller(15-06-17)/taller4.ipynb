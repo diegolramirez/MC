{
 "cells": [
  {
   "cell_type": "code",
   "execution_count": 33,
   "metadata": {
    "collapsed": false
   },
   "outputs": [],
   "source": [
    "import numpy as np\n",
    "import matplotlib.pyplot as plt\n",
    "from scipy import interpolate\n",
    "import os"
   ]
  },
  {
   "cell_type": "markdown",
   "metadata": {},
   "source": [
    "1. Del segundo capítulo del [libro de Scherer](http://link.springer.com.ezproxy.uniandes.edu.co:8080/book/10.1007\\%2F978-3-642-13990-1) resuelva los literales c y d del problema 2.1."
   ]
  },
  {
   "cell_type": "markdown",
   "metadata": {},
   "source": [
    "(c) Interpolate the function $f (x) = sin(x)$ at the points $x = 0, \\frac{\\pi}{2}, \\pi, \\frac{3\\pi}{2}, 2\\pi$. Take\n",
    "more sample points and check if the quality of the fit is improved."
   ]
  },
  {
   "cell_type": "code",
   "execution_count": 34,
   "metadata": {
    "collapsed": true
   },
   "outputs": [],
   "source": [
    "# Ejemplo de una función que entrega de regreso una función\n",
    "def lagrangep(absc,j):\n",
    "    pol=np.poly1d([0,1])\n",
    "    k=len(absc)\n",
    "    for m in range(k):\n",
    "        if m!=j:\n",
    "            pol*=1./(absc[j]-absc[m])*np.poly1d([1.,-absc[m]])\n",
    "    return pol \n",
    "\n",
    "def interlagr(absc,orde):\n",
    "    poly=np.poly1d([0])\n",
    "    for i in range(len(absc)):\n",
    "        poly+=orde[i]*lagrangep(absc,i)\n",
    "    return poly"
   ]
  },
  {
   "cell_type": "code",
   "execution_count": 37,
   "metadata": {
    "collapsed": true
   },
   "outputs": [],
   "source": [
    "def interpolacion_seno(numPuntos=4,**kawrgs):\n",
    "    #Datos iniciales e interpolación\n",
    "    x = np.linspace(0,2*np.pi,numPuntos)\n",
    "    y = np.sin(x)\n",
    "    xpol = np.linspace(0,2*np.pi,1000)\n",
    "    pol = interlagr(x,y)\n",
    "    #Gráfica\n",
    "    plt.scatter(x,y,color='red',label='Datos')\n",
    "    plt.plot(xpol,pol(xpol),color='blue',label='Interpolación')\n",
    "    plt.legend()\n",
    "    plt.xlim(-0.3,np.pi*2+0.3)\n",
    "    plt.ylim(-1.5,1.5)\n",
    "    plt.text(4.3,0.7,\"Número de puntos\\niniciales: %d\"%numPuntos)\n",
    "    plt.show()"
   ]
  },
  {
   "cell_type": "code",
   "execution_count": 38,
   "metadata": {
    "collapsed": false
   },
   "outputs": [],
   "source": [
    "interpolacion_seno(numPuntos=7)"
   ]
  },
  {
   "cell_type": "markdown",
   "metadata": {},
   "source": [
    "Investigate the oscillatory behavior for a discontinuous pulse or step function as\n",
    "given by the following data table"
   ]
  },
  {
   "cell_type": "code",
   "execution_count": 39,
   "metadata": {
    "collapsed": true
   },
   "outputs": [],
   "source": [
    "x = np.array([-3,-2,-1,0,1,2,3])\n",
    "xpol = np.linspace(-3,3,1000)\n",
    "ypulse = np.array([0,0,0,1,0,0,0])\n",
    "ystep = np.array([0,0,0,1,1,1,1])"
   ]
  },
  {
   "cell_type": "code",
   "execution_count": 40,
   "metadata": {
    "collapsed": false
   },
   "outputs": [],
   "source": [
    "#Lineales\n",
    "linearpulse = interpolate.interp1d(x,ypulse,kind='linear')\n",
    "linearstep = interpolate.interp1d(x,ystep,kind='linear')\n",
    "#Cúbicas\n",
    "cubicpulse = interpolate.interp1d(x,ypulse,kind='cubic')\n",
    "cubicstep = interpolate.interp1d(x,ystep,kind='cubic')\n",
    "#Polinomial\n",
    "polpulse = interlagr(x,ypulse)\n",
    "polstep = interlagr(x,ystep)"
   ]
  },
  {
   "cell_type": "code",
   "execution_count": 48,
   "metadata": {
    "collapsed": false
   },
   "outputs": [],
   "source": [
    "plt.figure(figsize=(11, 7))\n",
    "plt.subplots_adjust(hspace=0.3, wspace=0.00)\n",
    "#Pulse\n",
    "plt.subplot(2,1,1)\n",
    "plt.scatter(x,ypulse,color='red',label='Datos')\n",
    "plt.plot(xpol,linearpulse(xpol),color='blue',label='Linear')\n",
    "plt.plot(xpol,cubicpulse(xpol),color='green',label='Cubic')\n",
    "plt.plot(xpol,polpulse(xpol),color='black',label='Poli')\n",
    "plt.legend(loc=8,frameon=0)\n",
    "plt.title(\"Pulse\")\n",
    "#Step\n",
    "plt.subplot(2,1,2)\n",
    "plt.scatter(x,ystep,color='red',label='Datos')\n",
    "plt.plot(xpol,linearstep(xpol),color='blue',label='Linear')\n",
    "plt.plot(xpol,cubicstep(xpol),color='green',label='Cubic')\n",
    "plt.plot(xpol,polstep(xpol),color='black',label='Poli')\n",
    "plt.legend(loc=4,frameon=0)\n",
    "plt.title(\"Step\")\n",
    "\n",
    "plt.show()"
   ]
  },
  {
   "cell_type": "markdown",
   "metadata": {},
   "source": [
    "3. La implementación de cierto algoritmo necesita puntos uniformemente muestreados pero los datos que se tienen son los mostrados en la tabla de abajo. Produzca una nueva tabla con el mismo número de líneas pero con muestreo uniforme usando un *cubic spline* ."
   ]
  },
  {
   "cell_type": "code",
   "execution_count": 53,
   "metadata": {
    "collapsed": false
   },
   "outputs": [
    {
     "data": {
      "text/plain": [
       "0"
      ]
     },
     "execution_count": 53,
     "metadata": {},
     "output_type": "execute_result"
    }
   ],
   "source": [
    "#Descargo los datos y los formateo a un .csv\n",
    "os.system(\"curl -s https://raw.githubusercontent.com/ComputoCienciasUniandes/MetodosComputacionalesLaboratorio/master/2015-V/actividades/talleres/Taller4/Taller4.md > datos3.txt\")\n",
    "os.system(\"sed -i '1,/3\\.\\ La/d' datos3.txt\")\n",
    "os.system(\"sed -i '/Al\\ terminar\\ la/,$d' datos3.txt\")\n",
    "os.system(\"sed -i 's/^\\s//g' datos3.txt\")\n",
    "os.system(\"sed -i '/^ *$/d' datos3.txt\")\n",
    "os.system(\"sed -i 's/^|//g' datos3.txt\")\n",
    "os.system(\"sed -i 's/|$//g' datos3.txt\")\n",
    "os.system(\"sed -i 's/|/,/g' datos3.txt\")\n",
    "os.system(\"sed -i '/--/d' datos3.txt\")\n",
    "os.system(\"sed -i 's/\\s//g' datos3.txt\")\n",
    "os.system(\"mv datos3.txt datos3.csv\")"
   ]
  },
  {
   "cell_type": "code",
   "execution_count": 54,
   "metadata": {
    "collapsed": false,
    "scrolled": true
   },
   "outputs": [],
   "source": [
    "datos3 = np.genfromtxt(\"datos3.csv\",delimiter=\",\",names=True)"
   ]
  },
  {
   "cell_type": "code",
   "execution_count": 55,
   "metadata": {
    "collapsed": true
   },
   "outputs": [],
   "source": [
    "xinterpol = np.linspace(datos3[\"x\"][0],datos3[\"x\"][len(datos3[\"x\"])-1],1000)"
   ]
  },
  {
   "cell_type": "code",
   "execution_count": 56,
   "metadata": {
    "collapsed": false,
    "scrolled": false
   },
   "outputs": [],
   "source": [
    "cubicInterpolation = interpolate.interp1d(datos3[\"x\"],datos3[\"y\"],kind='cubic')"
   ]
  },
  {
   "cell_type": "code",
   "execution_count": 57,
   "metadata": {
    "collapsed": false
   },
   "outputs": [],
   "source": [
    "plt.scatter(datos3[\"x\"],datos3[\"y\"],color='red',label='Datos',linestyle='--')\n",
    "plt.plot(xinterpol,cubicInterpolation(xinterpol),color='blue',label='CubicFit')\n",
    "plt.legend(loc=4)\n",
    "plt.title(\"Interpolación con datos no uniformemente espaciados\")\n",
    "plt.show()"
   ]
  },
  {
   "cell_type": "code",
   "execution_count": 58,
   "metadata": {
    "collapsed": false
   },
   "outputs": [],
   "source": [
    "xespaciado = np.linspace(datos3[\"x\"][0],datos3[\"x\"][len(datos3[\"x\"])-1],len(datos3[\"x\"]))\n",
    "yespaciado = cubicInterpolation(xespaciado)"
   ]
  },
  {
   "cell_type": "code",
   "execution_count": 60,
   "metadata": {
    "collapsed": false
   },
   "outputs": [],
   "source": [
    "plt.scatter(xespaciado,yespaciado,color='blue',label='DatosUniformes')\n",
    "plt.plot(xinterpol,cubicInterpolation(xinterpol),color='red',label='CubicFit')\n",
    "plt.legend()\n",
    "plt.title(\"Interpolación con datos uniformemente espaciados\")\n",
    "plt.show()"
   ]
  },
  {
   "cell_type": "code",
   "execution_count": 63,
   "metadata": {
    "collapsed": false
   },
   "outputs": [
    {
     "name": "stdout",
     "output_type": "stream",
     "text": [
      "|  x  |  y  |\n",
      "|-----|-----|\n",
      "|0.138490669327|2.300601615470|\n",
      "|0.326226647315|2.135579838040|\n",
      "|0.513962625304|1.397198817495|\n",
      "|0.701698603292|0.417206585909|\n",
      "|0.889434581281|-0.508199547139|\n",
      "|1.077170559269|-1.198528080330|\n",
      "|1.264906537257|-1.473608280296|\n",
      "|1.452642515246|-1.188336200060|\n",
      "|1.640378493234|-0.556525044030|\n",
      "|1.828114471223|0.171218763615|\n",
      "|2.015850449211|0.779865462088|\n",
      "|2.203586427199|1.184524223958|\n",
      "|2.391322405188|1.373142088461|\n",
      "|2.579058383176|1.414481494494|\n",
      "|2.766794361164|1.411761131732|\n",
      "|2.954530339153|1.388267057527|\n",
      "|3.142266317141|1.284266761179|\n",
      "|3.330002295130|1.116160416788|\n",
      "|3.517738273118|0.902468822016|\n",
      "|3.705474251106|0.661712774524|\n",
      "|3.893210229095|0.412413071971|\n",
      "|4.080946207083|0.173090512018|\n",
      "|4.268682185072|-0.034950112880|\n",
      "|4.456418163060|-0.070408754834|\n"
     ]
    }
   ],
   "source": [
    "print (\"|  x  |  y  |\\n|-----|-----|\")\n",
    "for i in range(len(xespaciado)):\n",
    "    print (\"|%.12f|%.12f|\"%(xespaciado[i],yespaciado[i]))"
   ]
  },
  {
   "cell_type": "code",
   "execution_count": null,
   "metadata": {
    "collapsed": true
   },
   "outputs": [],
   "source": []
  }
 ],
 "metadata": {
  "kernelspec": {
   "display_name": "Python 3",
   "language": "python",
   "name": "python3"
  },
  "language_info": {
   "codemirror_mode": {
    "name": "ipython",
    "version": 3
   },
   "file_extension": ".py",
   "mimetype": "text/x-python",
   "name": "python",
   "nbconvert_exporter": "python",
   "pygments_lexer": "ipython3",
   "version": "3.4.0"
  }
 },
 "nbformat": 4,
 "nbformat_minor": 0
}
