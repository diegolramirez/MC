{
 "cells": [
  {
   "cell_type": "code",
   "execution_count": 1,
   "metadata": {
    "collapsed": false
   },
   "outputs": [],
   "source": [
    "import matplotlib.pyplot as plt\n",
    "import numpy as np"
   ]
  },
  {
   "cell_type": "code",
   "execution_count": 2,
   "metadata": {
    "collapsed": false
   },
   "outputs": [],
   "source": [
    "#Definición de la función de onda cuadrada por fuerza bruta de iteraciones\n",
    "def wilbrahamgibbs(x,termino):\n",
    "    resultado = 0\n",
    "    for i in range(0,termino+1,1):\n",
    "        resultado+=((1/(2*i + 1))*np.sin(((2*i + 1))*x))\n",
    "    return (resultado)"
   ]
  },
  {
   "cell_type": "code",
   "execution_count": 3,
   "metadata": {
    "collapsed": false
   },
   "outputs": [],
   "source": [
    "x=np.linspace(0,2*np.pi,1000)"
   ]
  },
  {
   "cell_type": "code",
   "execution_count": 5,
   "metadata": {
    "collapsed": false
   },
   "outputs": [],
   "source": [
    "#Probando que sirva la función con un número alto de términos\n",
    "plt.plot(x,wilbrahamgibbs(x,1000))\n",
    "plt.show()"
   ]
  },
  {
   "cell_type": "code",
   "execution_count": 6,
   "metadata": {
    "collapsed": false
   },
   "outputs": [],
   "source": [
    "#Definición de onda cuadrada para comparar con la función generada\n",
    "def ondacuadrada(x):\n",
    "    resultado = []\n",
    "    for i in range(len(x)):\n",
    "        if(x[i] <= np.pi):\n",
    "            resultado.append(np.pi/4)\n",
    "        elif(x[i] > np.pi and x[i] <= 2*np.pi):\n",
    "            resultado.append(-np.pi/4)\n",
    "    return (np.array(resultado))"
   ]
  },
  {
   "cell_type": "code",
   "execution_count": 8,
   "metadata": {
    "collapsed": false
   },
   "outputs": [],
   "source": [
    "#Probando que sirva la función de onda cuadrada\n",
    "plt.plot(x,ondacuadrada(x))\n",
    "plt.show()"
   ]
  },
  {
   "cell_type": "code",
   "execution_count": 61,
   "metadata": {
    "collapsed": true
   },
   "outputs": [],
   "source": [
    "#Comparando función generadora(varias iteraciones) con la onda cuadrada\n",
    "plt.plot(x,wilbrahamgibbs(x,2))\n",
    "plt.plot(x,wilbrahamgibbs(x,4))\n",
    "plt.plot(x,wilbrahamgibbs(x,6))\n",
    "plt.plot(x,wilbrahamgibbs(x,8))\n",
    "plt.plot(x,wilbrahamgibbs(x,10))\n",
    "plt.plot(x,ondacuadrada(x))\n",
    "plt.show()"
   ]
  },
  {
   "cell_type": "code",
   "execution_count": 63,
   "metadata": {
    "collapsed": true
   },
   "outputs": [],
   "source": [
    "#La constante es la diferencia entre el máximo y el mínimo de la función generadora, obtengo este\n",
    "#dato a partir de varias iteraciones\n",
    "def constantewg(x,termino):\n",
    "    constantewg = []\n",
    "    np.array(constantewg)\n",
    "    for i in range(2,termino,2):\n",
    "        constantewg.append(np.amax(wilbrahamgibbs(x,i)) -  np.amin(wilbrahamgibbs(x,i)))\n",
    "    return (np.array(constantewg))"
   ]
  },
  {
   "cell_type": "code",
   "execution_count": 67,
   "metadata": {
    "collapsed": false
   },
   "outputs": [],
   "source": [
    "#Genero la constante por 30 iteraciones\n",
    "constante= constantewg(x,30)\n",
    "n = np.linspace(2,30,14)"
   ]
  },
  {
   "cell_type": "code",
   "execution_count": 68,
   "metadata": {
    "collapsed": false
   },
   "outputs": [],
   "source": [
    "plt.scatter(n,constante)\n",
    "plt.plot(n,constante)\n",
    "plt.show()"
   ]
  },
  {
   "cell_type": "code",
   "execution_count": 75,
   "metadata": {
    "collapsed": false
   },
   "outputs": [],
   "source": [
    "#Guardo la imagen\n",
    "plt.scatter(n,(constante - np.pi/2)/np.pi)\n",
    "plt.plot(n,(constante - np.pi/2)/np.pi)\n",
    "plt.title(\"Constante de Gibbs\")\n",
    "plt.xlabel(\"N\")\n",
    "plt.ylabel(r'$(G - \\pi /2)/\\pi$')\n",
    "plt.xlim(0,30)\n",
    "plt.ylim(0.088,0.102)\n",
    "plt.savefig(\"gibbs.png\")\n",
    "plt.show()"
   ]
  },
  {
   "cell_type": "code",
   "execution_count": null,
   "metadata": {
    "collapsed": true
   },
   "outputs": [],
   "source": []
  }
 ],
 "metadata": {
  "kernelspec": {
   "display_name": "Python 3",
   "language": "python",
   "name": "python3"
  },
  "language_info": {
   "codemirror_mode": {
    "name": "ipython",
    "version": 3
   },
   "file_extension": ".py",
   "mimetype": "text/x-python",
   "name": "python",
   "nbconvert_exporter": "python",
   "pygments_lexer": "ipython3",
   "version": "3.4.0"
  }
 },
 "nbformat": 4,
 "nbformat_minor": 0
}
