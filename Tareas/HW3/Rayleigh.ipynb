{
 "cells": [
  {
   "cell_type": "markdown",
   "metadata": {
    "collapsed": false
   },
   "source": [
    "#Experimento 1\n",
    "#Distribución de velocidades de MAxwell-Boltzmann 2D\n",
    "--------------------\n",
    "###Introducción\n",
    "El objetivo de esta práctica de laboratorio es estudiar la distribución de probabilidad de las las rapideces de las partículas de un gas. Para poder llevar a cabo el experimento se hará uso de diferentes herramientas computacionales que han sido aprendidas en el curso. La práctica se divide en tres partes: \n",
    "+ La primera parte consiste en descargar un [software de simulación](http://www.ph.biu.ac.il/~rapaport/mdbook/) que ayudará a modelar el comportamiento del gas. A este programa se le deben realizar diversos ajustes de acuerdo con las condiciones iniciales del experimento establecidas en la guia. \n",
    "+ La segunda parte consiste en correr el programa en **C** para la obtención de los datos.\n",
    "+ La tercera parte consiste en el análisis de los datos arrojados por la simulación, trabajo el cual se relizó en **Python**.\n",
    "\n",
    "##Marco teórico\n",
    "La simulación que se busca hacer es la de un gas que se comporta de acuerdo al potencial de *Lennard-Jones* truncado, este modelo prepresenta el comportamiento de dos átomos o moleculas que están sujetos a la fuerza de Van Der Waals (A grandes distancias) y una fuerza de repulsion a distancias cortas. El potencial truncado permite calcular y modelar este comportamiento poniendo un límite de distancia, el cual se modela con la siguiente ecuacion $V(r) = 4a[(b/r)^{12} - (b/r)^6] $.\n",
    "Y se presenta con la siguiente gŕafica:\n",
    "\n",
    "![alt text](https://raw.githubusercontent.com/Axpero/MC/master/MC/Talleres/Experimento1/lennard.png \"Lennard\")\n",
    "\n",
    "Como se estudiará la distribución de velocidades es necesario saber un poco del comportamiento de los gases, así que se sabe que las velocidades iniciales tienen un distribución uniforme y que las velocidades de las particulas cuando estan cerca del equilibrio se comportan de acuerdo a la distribución de Rayleigh.\n",
    "\n",
    "Al realizar el análisis de datos es importante tener claro cómo es la distribución de Rayleigh, ya que se implementará dicha funcion para realizar un ajuste con la herramienta *curve_fit* de **Python**.\n",
    "\n",
    "La distribución de Rayleigh se define con una función de probabilidad  que depende de $\\sigma$, la cual representa qué tan dispersa es la distribución. La función es:\n",
    "\n",
    "$$f(x,\\sigma )= \\frac{x}{\\sigma^2} e^{\\frac{-x^2}{2\\sigma^2}}$$\n",
    "\n",
    "Y se comportan del siguiente modo:\n",
    "\n",
    "![alt text](https://upload.wikimedia.org/wikipedia/commons/6/6a/Rayleigh_distributionPDF.png \"Rayleigh\")\n",
    "\n",
    "La imagen anterior fue tomada de Wikipedia y es visible en el siguiente [link](https://es.wikipedia.org/wiki/Distribuci%C3%B3n_de_Rayleigh).\n",
    "\n",
    "Ahora, teniendo en cuenta cómo funciona el potencial y cómo van cambiando las condiciones del gas se inció el análisis con los metodos computacionales mencionados.\n",
    "\n",
    "##Procedimiento\n",
    "\n",
    "Para la obtención de los datos se corrió el software de simulacion, como se indica en la [guía](https://github.com/ComputoCienciasUniandes/MetodosComputacionalesLaboratorio/blob/master/2015-V/actividades/experimentos/Exp1/Exp1.md), y se realizaron los correspondientes cambios en los scripts del software que son explicados en la guía. Luego se aplicaron los cambios en las condiciones experimentales.\n",
    "\n",
    "| Condición | Valor |\n",
    "|:---------:|:-----:|\n",
    "|deltaT|0.005|\n",
    "|density|0.3|\n",
    "|initUcell|40x40|\n",
    "|stepAvg|2|\n",
    "|stepEquil|0|\n",
    "|stepLimit|500|\n",
    "|temperature|1.|\n",
    "\n",
    "\n",
    "Con lo anterior se obtienen los [datos experimentales](https://raw.githubusercontent.com/diegolramirez/MC/master/Tareas/HW3/Rayleigh.csv).\n",
    "\n",
    "##Analisis de resultados\n",
    "\n",
    "Para el analisis de resultados se utilizó **Python** y se realizó utilizando el código a continuación:"
   ]
  },
  {
   "cell_type": "code",
   "execution_count": 18,
   "metadata": {
    "collapsed": false
   },
   "outputs": [],
   "source": [
    "import numpy as np\n",
    "import matplotlib.pyplot as plt\n",
    "from scipy.optimize import curve_fit\n",
    "import os"
   ]
  },
  {
   "cell_type": "code",
   "execution_count": 19,
   "metadata": {
    "collapsed": false
   },
   "outputs": [],
   "source": [
    "#Importación de datos\n",
    "datos=np.genfromtxt('Rayleigh.csv',delimiter=\",\",names=True)\n",
    "#Definición de la rapidez\n",
    "v = np.sqrt((datos['vx'])**2 + (datos['vy'])**2)"
   ]
  },
  {
   "cell_type": "code",
   "execution_count": 20,
   "metadata": {
    "collapsed": true
   },
   "outputs": [],
   "source": [
    "#Definición de la distribución de Rayleigh\n",
    "def distribucion_rayleigh(x,sigma):\n",
    "    return (x/sigma)*(np.exp((-x**2)/(2*sigma)))"
   ]
  },
  {
   "cell_type": "code",
   "execution_count": 21,
   "metadata": {
    "collapsed": false
   },
   "outputs": [],
   "source": [
    "#Se itera para recorrer cada uno de  los 250 pasos\n",
    "for i in range(1600,len(v),1600):\n",
    "    #Se crea la imagen y se da nombre a la mismay a los ejes\n",
    "    fig = plt.figure(figsize=(10, 6))\n",
    "    plt.title(\"Distribución de probabilidad de velocidades del gas (cuadro %d)\"%(i/1600))\n",
    "    plt.xlabel(\"Probabilidad\")\n",
    "    plt.ylabel(\"Rapidez promedio\")\n",
    "    #Se crea el histograma\n",
    "    histograma = plt.hist(v[(i-1600):i],bins=40,label='Intervalos de frecuencia de rapidez',color='red',normed=True)\n",
    "    #Se toman los valores x,y del histograma para hacer el ajuste a la distribución de Rayleigh\n",
    "    x= histograma[1]\n",
    "    y= histograma[0]\n",
    "    #Se hace el ajuste a la distribución de Rayleigh y se grafica\n",
    "    fitpars,covmat= curve_fit(distribucion_rayleigh,x[:-1],y)\n",
    "    plt.plot(x,distribucion_rayleigh(x,*fitpars),label = \"Distribución de Ryleigh\",color=\"blue\",linewidth=4)\n",
    "    #Se encuentra el coeficiente de correlación entre los datos y la distribución\n",
    "    r_actual=np.mean(np.corrcoef(y,distribucion_rayleigh(x[:-1],*fitpars)))\n",
    "    plt.figtext(0.2,.02,\"Coeficiente de correlación entre velocidades y distribución rayleigh \"+str(r_actual))\n",
    "    plt.legend(loc=0)\n",
    "    plt.savefig(\"rayleigh%d.png\"%(i/1600))\n",
    "    plt.cla()\n",
    "    plt.close()"
   ]
  },
  {
   "cell_type": "code",
   "execution_count": 22,
   "metadata": {
    "collapsed": false
   },
   "outputs": [
    {
     "data": {
      "text/plain": [
       "0"
      ]
     },
     "execution_count": 22,
     "metadata": {},
     "output_type": "execute_result"
    }
   ],
   "source": [
    "#Se crea un .gif que contiene cada etapa del experimento\n",
    "os.system(\"convert -delay 20 -loop 0 $(ls *.png | sort -V) rayleigh.gif\")\n",
    "os.system(\"rm *.png\")"
   ]
  },
  {
   "cell_type": "markdown",
   "metadata": {},
   "source": [
    "Con esto se llega a una animación que describe paso por paso toda la simulación (puede ser encontrada en el siguiente [enlace](https://raw.githubusercontent.com/diegolramirez/MC/master/Tareas/HW3/rayleigh.gif)).\n",
    "\n",
    "En cada paso de la simulación se grafica la distribución de la rapidez contra una regresión que sigue a la distribución de Rayleigh. Adicional a esto se presenta el coeficiente de relación entre los datos y la regresión para ver qué tanto estos se ajustan a la distribución.\n",
    "\n",
    "De las velocidades se puede decir que la suposición de que el modelo tiende a comportarse como la distribución de Rayleigh es correto, aunque no es 100% preciso, ya que al analizar los scripts se pudo notar que el coeficiente de correlación solo llega hasta el 97% al final de la simulación. Sin embargo, este valor es suficientemente alto como para determinar la tendencia de comportamiento.\n",
    "\n",
    "##Conclusiones\n",
    "+ Se utilizaron satisfactoriamente herramientas computacionales para resolver un problema físico.\n",
    "+ Se pudo determinar que el comportamiento de las particulas de un gas tienden a la distribución de Rayleigh en el equilibrio."
   ]
  },
  {
   "cell_type": "code",
   "execution_count": null,
   "metadata": {
    "collapsed": true
   },
   "outputs": [],
   "source": []
  }
 ],
 "metadata": {
  "kernelspec": {
   "display_name": "Python 3",
   "language": "python",
   "name": "python3"
  },
  "language_info": {
   "codemirror_mode": {
    "name": "ipython",
    "version": 3
   },
   "file_extension": ".py",
   "mimetype": "text/x-python",
   "name": "python",
   "nbconvert_exporter": "python",
   "pygments_lexer": "ipython3",
   "version": "3.4.0"
  }
 },
 "nbformat": 4,
 "nbformat_minor": 0
}
