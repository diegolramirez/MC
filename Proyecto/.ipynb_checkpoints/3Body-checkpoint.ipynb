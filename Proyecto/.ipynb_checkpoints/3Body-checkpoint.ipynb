{
 "cells": [
  {
   "cell_type": "code",
   "execution_count": 1,
   "metadata": {
    "collapsed": false
   },
   "outputs": [
    {
     "name": "stdout",
     "output_type": "stream",
     "text": [
      "Populating the interactive namespace from numpy and matplotlib\n"
     ]
    }
   ],
   "source": [
    "%pylab inline"
   ]
  },
  {
   "cell_type": "code",
   "execution_count": 2,
   "metadata": {
    "collapsed": false
   },
   "outputs": [
    {
     "name": "stdout",
     "output_type": "stream",
     "text": [
      "[622080.0, 2431296.0, 7915104.0, 5377536.0, 3371846.4, 22135679.999999996, 1464134.4000000001]\n"
     ]
    }
   ],
   "source": [
    "#r3/t2=G/4*pi2*M radio medio de la orbita\n",
    "T = [7.2*24*60*60,28.14*24*3600,91.61*24*3600,62.24*24*3600,39.026*24*3600,256.2*24*3600,16.946*24*3600]\n",
    "print T"
   ]
  },
  {
   "cell_type": "code",
   "execution_count": 3,
   "metadata": {
    "collapsed": false
   },
   "outputs": [
    {
     "name": "stdout",
     "output_type": "stream",
     "text": [
      "7544428777.65\n",
      "18719206164.4\n",
      "41118123578.9\n",
      "31777355656.5\n",
      "23279522009.0\n",
      "81618908443.9\n",
      "13349023576.0\n"
     ]
    }
   ],
   "source": [
    "r3 = []\n",
    "for i in range(len(T)):\n",
    "    r = (((T[i]*T[i]*((6.67384*10**-11)/((4*pi**2))*(1.9891*10**30)*(0.33)))))**(1.0/3.0)\n",
    "    print r3"
   ]
  },
  {
   "cell_type": "code",
   "execution_count": 4,
   "metadata": {
    "collapsed": false
   },
   "outputs": [],
   "source": [
    "#Radios de las orbitas de los planetas en m\n",
    "r = [7544428777.65,4032930713.04,8858631182.73,6846223738.38,5015420978.35,17584260771.4,2875959947.01]"
   ]
  },
  {
   "cell_type": "code",
   "execution_count": 5,
   "metadata": {
    "collapsed": false
   },
   "outputs": [
    {
     "name": "stdout",
     "output_type": "stream",
     "text": [
      "5.09371427604e-07\n",
      "6.9668647794e-07\n",
      "4.70072073902e-07\n",
      "5.34714815907e-07\n",
      "6.24732451276e-07\n",
      "3.33645832019e-07\n",
      "8.25004552437e-07\n"
     ]
    }
   ],
   "source": [
    "#Velocidad = (G*M/r)**(1/2) en AU\n",
    "v2 = []\n",
    "for i in range(len(r)):\n",
    "    v2 = sqrt(((6.67384*10**-11*(6.56403*(10**29)))/r[i]))*6.68458712*10**-12\n",
    "    print v2"
   ]
  },
  {
   "cell_type": "code",
   "execution_count": 6,
   "metadata": {
    "collapsed": false
   },
   "outputs": [
    {
     "name": "stdout",
     "output_type": "stream",
     "text": [
      "200.050431391\n",
      "200.026958477\n",
      "200.059216292\n",
      "200.045764179\n",
      "200.033526018\n",
      "200.117543523\n",
      "200.019224605\n"
     ]
    }
   ],
   "source": [
    "#Posiciones iniciales de los planetas en AU en (X,0,0)\n",
    "for i in range(len(r)):\n",
    "    v2i = (r[i]*6.68458712*10**-12)+200\n",
    "    print v2i"
   ]
  },
  {
   "cell_type": "code",
   "execution_count": 7,
   "metadata": {
    "collapsed": false
   },
   "outputs": [
    {
     "name": "stdout",
     "output_type": "stream",
     "text": [
      "5691.14865955\n"
     ]
    }
   ],
   "source": [
    "#Velocidad del sol B la velocidad inicial del sol A es 0 y sus coordenadas son (0,0,0) en AU\n",
    "vB = sqrt(((6.67384*10**-11*((1.9891*10**30)*(0.73)))/20*149597870700))*6.68458712*10**-12\n",
    "print vB"
   ]
  },
  {
   "cell_type": "code",
   "execution_count": 8,
   "metadata": {
    "collapsed": false
   },
   "outputs": [
    {
     "name": "stdout",
     "output_type": "stream",
     "text": [
      "1254.52783933\n"
     ]
    }
   ],
   "source": [
    "#Recalculo velocidad C en AU\n",
    "#Velocidad del sol C\n",
    "RvC = sqrt(((6.67384*10**-11*((1.9891*10**30)*((0.73*0.69)/(0.73+0.69))))/200*149597870700))*6.68458712*10**-12\n",
    "print RvC"
   ]
  },
  {
   "cell_type": "code",
   "execution_count": 32,
   "metadata": {
    "collapsed": false
   },
   "outputs": [],
   "source": [
    "#Toca hallar los radios del los planetas, las velocidades de los soles estan en AU/seg y la de los planetas en AU/s\n",
    "#Objeto,Masa,RadioDeLosCuerpos,x,y,z,vx,vy,vz\n",
    "#Gliese667A,0.73,0.760,0,0,0,\n",
    "#Gliese667B,0.69,0.7,20,0,0,5691.14865955,0,0\n",
    "#Gliese667C,0.33,0.41,200,0,0,1254.52783933,0,0\n",
    "#Gliese667Cb,-,200.050431391,0,0,5.09371427604e-07,0,0\n",
    "#Gliese667Cc,-,200.026958477,0,0,6.9668647794e-07,0,0\n",
    "#Gliese667Cd,-,200.059216292,0,0,4.70072073902e-07,0,0\n",
    "#Gliese667Ce,-,200.045764179,0,0,5.34714815907e-07,0,0\n",
    "#Gliese667Cf,-,200.033526018,0,0,6.24732451276e-07,0,0\n",
    "#Gliese667Cg,-,200.117543523,0,0,3.33645832019e-07,0,0\n",
    "#Gliese667Ch,-,200.019224605,0,0,8.25004552437e-07,0,0"
   ]
  },
  {
   "cell_type": "code",
   "execution_count": null,
   "metadata": {
    "collapsed": false
   },
   "outputs": [],
   "source": []
  }
 ],
 "metadata": {
  "kernelspec": {
   "display_name": "Python 2",
   "language": "python",
   "name": "python2"
  },
  "language_info": {
   "codemirror_mode": {
    "name": "ipython",
    "version": 2
   },
   "file_extension": ".py",
   "mimetype": "text/x-python",
   "name": "python",
   "nbconvert_exporter": "python",
   "pygments_lexer": "ipython2",
   "version": "2.7.6"
  }
 },
 "nbformat": 4,
 "nbformat_minor": 0
}
