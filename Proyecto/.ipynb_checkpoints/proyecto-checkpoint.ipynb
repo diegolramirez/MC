{
 "cells": [
  {
   "cell_type": "code",
   "execution_count": 1,
   "metadata": {
    "collapsed": false
   },
   "outputs": [
    {
     "name": "stderr",
     "output_type": "stream",
     "text": [
      "/usr/lib/python2.7/dist-packages/visual/materials.py:70: FutureWarning: comparison to `None` will result in an elementwise object comparison in the future.\n",
      "  self.__setattr__(key, value)\n"
     ]
    }
   ],
   "source": [
    "#Importo librerías necesarias\n",
    "import numpy as np\n",
    "from numpy.linalg import norm\n",
    "#import matplotlib.pyplot as plt\n",
    "#import matplotlib.cm as cm\n",
    "#%matplotlib inline\n",
    "#import os\n",
    "from visual import *"
   ]
  },
  {
   "cell_type": "code",
   "execution_count": 2,
   "metadata": {
    "collapsed": true
   },
   "outputs": [],
   "source": [
    "#Definición de la constante de gravitación universal\n",
    "G = 2.824381e-7"
   ]
  },
  {
   "cell_type": "code",
   "execution_count": 3,
   "metadata": {
    "collapsed": true
   },
   "outputs": [],
   "source": [
    "def f(Y,M):\n",
    "    global G\n",
    "    info = [] #Toda la información se guarda en esta variable local, que al final del método es retornada.\n",
    "    for i in range(0,len(Y),2): #Este ciclo recorre cada una de las masas.\n",
    "        v = 0\n",
    "        #Este ciclo encuentra la atracción que siente cada una de las masas efectuada por las demás.\n",
    "        for j in range(0,len(Y),2):\n",
    "            if (i != j): #Utilizamos esta condición para evitar calcular la fuerza que una masa ejerce sobre sí misma.\n",
    "                v -= G*(M[int(j/2)])*((Y[i] - Y[j]) / norm(Y[i] - Y[j])**3)\n",
    "        info.extend((Y[i+1],v))\n",
    "    informacion = np.array(info)\n",
    "    return(informacion)"
   ]
  },
  {
   "cell_type": "code",
   "execution_count": 4,
   "metadata": {
    "collapsed": true
   },
   "outputs": [],
   "source": [
    "def runge_kutta_orden4(dt,Y,M):\n",
    "    #Resolvemos las ecuaciones de movimiento con Runge-Kutta orden 4.\n",
    "    K1 = f(Y,M)\n",
    "    K2 = f(Y + dt*(1./2.*K1),M)\n",
    "    K3 = f(Y + dt*(1./2.*K2),M)\n",
    "    K4 = f(Y + dt*K3,M)\n",
    "    #Asignamos los nuevos valores encontrados al vector inicial.\n",
    "    Y+= dt * (1/6.*K1 + 1/3. * K2 + 1/3.*K3 + 1/6.*K4)\n",
    "    return(Y)"
   ]
  },
  {
   "cell_type": "code",
   "execution_count": 14,
   "metadata": {
    "collapsed": true
   },
   "outputs": [],
   "source": [
    "def visualgraph(Y,M,dt):\n",
    "    cuerpos=[]\n",
    "    history=np.array([Y])\n",
    "    for i in range(0,len(Y),2):\n",
    "        if (i <= 4):\n",
    "            cuerpo = sphere(pos=Y[i],vel=Y[i+1],\n",
    "                  mass=M[int(i/2)], color=color.yellow,\n",
    "                  make_trail=True, interval=2, retain=1000,\n",
    "                  radius = 0.5*M[int(i/2)]**(1.0/3.0))\n",
    "        else:\n",
    "            cuerpo = sphere(pos=Y[i],vel=Y[i+1],\n",
    "                  mass=M[int(i/2)], color=color.red,\n",
    "                  make_trail=True, interval=2, retain=1000,\n",
    "                  radius = 0.5*M[int(i/2)]**(1.0/3.0))\n",
    "        cuerpos.append(cuerpo)\n",
    "    while(True):\n",
    "        rate(100)\n",
    "        history=np.append(history,[runge_kutta_orden4(dt,history[-1],M)],axis=0)\n",
    "        for i in range(len(cuerpos)):\n",
    "            cuerpos[i].pos = history[-1][int(i*2)]\n",
    "            cuerpos[i].vel = history[-1][int((i*2)+1)]"
   ]
  },
  {
   "cell_type": "code",
   "execution_count": 6,
   "metadata": {
    "collapsed": true
   },
   "outputs": [],
   "source": [
    "#Calcula la velocidad del centro de masa del sistema.\n",
    "def vcentre(Y,M):\n",
    "    vcentre = 0\n",
    "    mass = 0\n",
    "    for i in range(0,len(Y),2):\n",
    "        vcentre += Y[i+1]*M[int(i/2)]\n",
    "        mass += M[int(i/2)]\n",
    "    return (vcentre/mass)"
   ]
  },
  {
   "cell_type": "code",
   "execution_count": 7,
   "metadata": {
    "collapsed": false
   },
   "outputs": [],
   "source": [
    "#Definimos una función que llama varias veces el método de Runge-Kutta para efectuar la simulación.\n",
    "def simulacion(M,Y,numIter=100,tmax=1,*args):\n",
    "    dt = tmax/numIter #Se cuadra la escala de tiempo para que 1 periodo se ajuste al dt del método.\n",
    "    #dt = 0.1\n",
    "    history=np.array([Y]) #Este array contendrá la información luego de cada iteración con el fin de poder graficar.\n",
    "    for iters in range(numIter):#Se ejecuta el método Runge-Kutta  durante la cantidad de iteraciones propuestas\n",
    "        history=np.append(history,[runge_kutta_orden4(dt,history[-1],M)],axis=0)\n",
    "    return (history)"
   ]
  },
  {
   "cell_type": "code",
   "execution_count": 8,
   "metadata": {
    "collapsed": false
   },
   "outputs": [],
   "source": [
    "#Definimos una función que grafica basados en los datos arrojados por la simulación\n",
    "#Se pasa por parámetro la historia de la simulación y la trayectoria de la masa que se quiere graficar\n",
    "#Si no se pasa ninguna masa por parámetro (o se iguala a 0) muestra la trayectoria de todas las masas\n",
    "def graficador(history,masa=0,**args):\n",
    "    colors = cm.rainbow(np.linspace(0, 1, len(history[0])/2))\n",
    "    if (masa == 0):\n",
    "        plt.figure(figsize=(10,10))\n",
    "        #plt.axis('equal')\n",
    "        for i in range(0,(int(len(history[0]))),2):\n",
    "            plt.scatter(history[:,i][:,0],history[:,i][:,1],s=1)\n",
    "            plt.scatter(history[:,i][:,0][0],history[:,i][:,1][0],s=50,label=\"Inicio\",color=colors[int(i/2)])\n",
    "        plt.legend(loc=0)\n",
    "        plt.xlabel(u'Posición $x$')\n",
    "        plt.ylabel(u'Posición $y$')\n",
    "        plt.title(u'Trayectorias de las masas',fontsize=15)\n",
    "        plt.show()\n",
    "    else:\n",
    "        plt.figure(figsize=(14,4))\n",
    "        plt.axis('equal')\n",
    "        plt.scatter(history[:,int((masa-1)*2)][:,0],history[:,int((masa-1)*2)][:,1],s=1)\n",
    "        plt.scatter(history[:,int((masa-1)*2)][:,0][0],history[:,int((masa-1)*2)][:,1][0],s=50,label=\"Inicio\",color='blue')\n",
    "        plt.scatter(history[:,int((masa-1)*2)][:,0][-1],history[:,int((masa-1)*2)][:,1][-1],s=50,label=\"Fin\",color='red')\n",
    "        plt.legend(loc=0)\n",
    "        plt.xlabel(u'Posición $x$')\n",
    "        plt.ylabel(u'Posición $y$')\n",
    "        plt.title(u'Trayectoria de $m_{%d}$'%masa,fontsize=15)\n",
    "        plt.show()"
   ]
  },
  {
   "cell_type": "code",
   "execution_count": 9,
   "metadata": {
    "collapsed": true
   },
   "outputs": [],
   "source": [
    "#Animador\n",
    "def animador(history):\n",
    "    colors = cm.rainbow(np.linspace(0, 1, len(history[0])/2))\n",
    "    for j in range(0,len(history),20):#Recorre toda la historia para graficar cada paso\n",
    "        plt.figure(figsize=(9,7))\n",
    "        plt.axis('equal')\n",
    "        #plt.plot(history[:,0][:,0],history[:,0][:,1],'--',color='grey')\n",
    "        #xlim = plt.gca().get_xlim()\n",
    "        #ylim = plt.gca().get_ylim()\n",
    "        plt.xlim(-20,20)#xlim)\n",
    "        plt.ylim(-15,20)#ylim)\n",
    "        for i in range(0,(int(len(history[0]))),2):#Grafica todas las masas por cada paso\n",
    "            plt.scatter(history[:,i][:,0][j],history[:,i][:,1][j],s=50,color=colors[int(i/2)])\n",
    "        plt.grid()\n",
    "        plt.xlabel(u'Posición $x$')\n",
    "        plt.ylabel(u'Posición $y$')\n",
    "        plt.title('Gravitational Choreography',fontsize=15)\n",
    "        plt.savefig('anim%d.png'%j)#Guarda las gráficas realizadas\n",
    "        plt.cla()\n",
    "        plt.close()\n",
    "    os.system(\"convert -delay 12 -loop 0 $(ls anim*.png | sort -V) gravchorN%d.gif\"%(int(len(history[0])/2)))\n",
    "    os.system(\"rm anim*.png\")#Toma las gráficas, las convierte en un .gif y las elimina"
   ]
  },
  {
   "cell_type": "code",
   "execution_count": 15,
   "metadata": {
    "collapsed": false
   },
   "outputs": [],
   "source": [
    "#Importación de datos\n",
    "datos = np.genfromtxt('datos.csv',skip_header=1,delimiter=',')\n",
    "InfoInicial = []\n",
    "masas = []\n",
    "for i in range(len(datos)):\n",
    "    r = datos[i][2:5]\n",
    "    v = datos[i][5:8]\n",
    "    m = datos[i][1]\n",
    "    InfoInicial.extend([r,v])\n",
    "    masas.append(m)\n",
    "#InfoInicial guarda la información de posiciones y velocidades iniciales\n",
    "InfoInicial = np.array(InfoInicial)\n",
    "#masas guarda la información de las masas\n",
    "masas = np.array(masas)"
   ]
  },
  {
   "cell_type": "code",
   "execution_count": 16,
   "metadata": {
    "collapsed": false
   },
   "outputs": [
    {
     "name": "stdout",
     "output_type": "stream",
     "text": [
      "Velocidad inicial del centro de masa : [ -2.74603539e-05   1.91775559e-04   0.00000000e+00]\n",
      "Velocidad final del centro de masa : [  5.64404313e-20   1.00758217e-20   0.00000000e+00]\n"
     ]
    }
   ],
   "source": [
    "#Resto la velocidad del centro de masa a todos los cuerpos\n",
    "print\"Velocidad inicial del centro de masa :\",vcentre(InfoInicial,masas)\n",
    "InfoInicial[1::2] -= vcentre(InfoInicial,masas)\n",
    "print\"Velocidad final del centro de masa :\",vcentre(InfoInicial,masas)"
   ]
  },
  {
   "cell_type": "code",
   "execution_count": 18,
   "metadata": {
    "collapsed": false
   },
   "outputs": [
    {
     "ename": "TypeError",
     "evalue": "unsupported operand type(s) for ** or pow(): 'vector' and 'int'",
     "output_type": "error",
     "traceback": [
      "\u001b[1;31m---------------------------------------------------------------------------\u001b[0m",
      "\u001b[1;31mTypeError\u001b[0m                                 Traceback (most recent call last)",
      "\u001b[1;32m<ipython-input-18-8a38e4012eb5>\u001b[0m in \u001b[0;36m<module>\u001b[1;34m()\u001b[0m\n\u001b[1;32m----> 1\u001b[1;33m \u001b[0mvisualgraph\u001b[0m\u001b[1;33m(\u001b[0m\u001b[0mInfoInicial\u001b[0m\u001b[1;33m,\u001b[0m\u001b[0mmasas\u001b[0m\u001b[1;33m,\u001b[0m\u001b[1;36m0.1\u001b[0m\u001b[1;33m)\u001b[0m\u001b[1;33m\u001b[0m\u001b[0m\n\u001b[0m",
      "\u001b[1;32m<ipython-input-14-868089d9f870>\u001b[0m in \u001b[0;36mvisualgraph\u001b[1;34m(Y, M, dt)\u001b[0m\n\u001b[0;32m     16\u001b[0m     \u001b[1;32mwhile\u001b[0m\u001b[1;33m(\u001b[0m\u001b[0mTrue\u001b[0m\u001b[1;33m)\u001b[0m\u001b[1;33m:\u001b[0m\u001b[1;33m\u001b[0m\u001b[0m\n\u001b[0;32m     17\u001b[0m         \u001b[0mrate\u001b[0m\u001b[1;33m(\u001b[0m\u001b[1;36m100\u001b[0m\u001b[1;33m)\u001b[0m\u001b[1;33m\u001b[0m\u001b[0m\n\u001b[1;32m---> 18\u001b[1;33m         \u001b[0mhistory\u001b[0m\u001b[1;33m=\u001b[0m\u001b[0mnp\u001b[0m\u001b[1;33m.\u001b[0m\u001b[0mappend\u001b[0m\u001b[1;33m(\u001b[0m\u001b[0mhistory\u001b[0m\u001b[1;33m,\u001b[0m\u001b[1;33m[\u001b[0m\u001b[0mrunge_kutta_orden4\u001b[0m\u001b[1;33m(\u001b[0m\u001b[0mdt\u001b[0m\u001b[1;33m,\u001b[0m\u001b[0mhistory\u001b[0m\u001b[1;33m[\u001b[0m\u001b[1;33m-\u001b[0m\u001b[1;36m1\u001b[0m\u001b[1;33m]\u001b[0m\u001b[1;33m,\u001b[0m\u001b[0mM\u001b[0m\u001b[1;33m)\u001b[0m\u001b[1;33m]\u001b[0m\u001b[1;33m,\u001b[0m\u001b[0maxis\u001b[0m\u001b[1;33m=\u001b[0m\u001b[1;36m0\u001b[0m\u001b[1;33m)\u001b[0m\u001b[1;33m\u001b[0m\u001b[0m\n\u001b[0m\u001b[0;32m     19\u001b[0m         \u001b[1;32mfor\u001b[0m \u001b[0mi\u001b[0m \u001b[1;32min\u001b[0m \u001b[0mrange\u001b[0m\u001b[1;33m(\u001b[0m\u001b[0mlen\u001b[0m\u001b[1;33m(\u001b[0m\u001b[0mcuerpos\u001b[0m\u001b[1;33m)\u001b[0m\u001b[1;33m)\u001b[0m\u001b[1;33m:\u001b[0m\u001b[1;33m\u001b[0m\u001b[0m\n\u001b[0;32m     20\u001b[0m             \u001b[0mcuerpos\u001b[0m\u001b[1;33m[\u001b[0m\u001b[0mi\u001b[0m\u001b[1;33m]\u001b[0m\u001b[1;33m.\u001b[0m\u001b[0mpos\u001b[0m \u001b[1;33m=\u001b[0m \u001b[0mhistory\u001b[0m\u001b[1;33m[\u001b[0m\u001b[1;33m-\u001b[0m\u001b[1;36m1\u001b[0m\u001b[1;33m]\u001b[0m\u001b[1;33m[\u001b[0m\u001b[0mint\u001b[0m\u001b[1;33m(\u001b[0m\u001b[0mi\u001b[0m\u001b[1;33m*\u001b[0m\u001b[1;36m2\u001b[0m\u001b[1;33m)\u001b[0m\u001b[1;33m]\u001b[0m\u001b[1;33m\u001b[0m\u001b[0m\n",
      "\u001b[1;32m<ipython-input-4-cfd3f49c4b86>\u001b[0m in \u001b[0;36mrunge_kutta_orden4\u001b[1;34m(dt, Y, M)\u001b[0m\n\u001b[0;32m      1\u001b[0m \u001b[1;32mdef\u001b[0m \u001b[0mrunge_kutta_orden4\u001b[0m\u001b[1;33m(\u001b[0m\u001b[0mdt\u001b[0m\u001b[1;33m,\u001b[0m\u001b[0mY\u001b[0m\u001b[1;33m,\u001b[0m\u001b[0mM\u001b[0m\u001b[1;33m)\u001b[0m\u001b[1;33m:\u001b[0m\u001b[1;33m\u001b[0m\u001b[0m\n\u001b[0;32m      2\u001b[0m     \u001b[1;31m#Resolvemos las ecuaciones de movimiento con Runge-Kutta orden 4.\u001b[0m\u001b[1;33m\u001b[0m\u001b[1;33m\u001b[0m\u001b[0m\n\u001b[1;32m----> 3\u001b[1;33m     \u001b[0mK1\u001b[0m \u001b[1;33m=\u001b[0m \u001b[0mf\u001b[0m\u001b[1;33m(\u001b[0m\u001b[0mY\u001b[0m\u001b[1;33m,\u001b[0m\u001b[0mM\u001b[0m\u001b[1;33m)\u001b[0m\u001b[1;33m\u001b[0m\u001b[0m\n\u001b[0m\u001b[0;32m      4\u001b[0m     \u001b[0mK2\u001b[0m \u001b[1;33m=\u001b[0m \u001b[0mf\u001b[0m\u001b[1;33m(\u001b[0m\u001b[0mY\u001b[0m \u001b[1;33m+\u001b[0m \u001b[0mdt\u001b[0m\u001b[1;33m*\u001b[0m\u001b[1;33m(\u001b[0m\u001b[1;36m1.\u001b[0m\u001b[1;33m/\u001b[0m\u001b[1;36m2.\u001b[0m\u001b[1;33m*\u001b[0m\u001b[0mK1\u001b[0m\u001b[1;33m)\u001b[0m\u001b[1;33m,\u001b[0m\u001b[0mM\u001b[0m\u001b[1;33m)\u001b[0m\u001b[1;33m\u001b[0m\u001b[0m\n\u001b[0;32m      5\u001b[0m     \u001b[0mK3\u001b[0m \u001b[1;33m=\u001b[0m \u001b[0mf\u001b[0m\u001b[1;33m(\u001b[0m\u001b[0mY\u001b[0m \u001b[1;33m+\u001b[0m \u001b[0mdt\u001b[0m\u001b[1;33m*\u001b[0m\u001b[1;33m(\u001b[0m\u001b[1;36m1.\u001b[0m\u001b[1;33m/\u001b[0m\u001b[1;36m2.\u001b[0m\u001b[1;33m*\u001b[0m\u001b[0mK2\u001b[0m\u001b[1;33m)\u001b[0m\u001b[1;33m,\u001b[0m\u001b[0mM\u001b[0m\u001b[1;33m)\u001b[0m\u001b[1;33m\u001b[0m\u001b[0m\n",
      "\u001b[1;32m<ipython-input-3-0adae5f4c3f5>\u001b[0m in \u001b[0;36mf\u001b[1;34m(Y, M)\u001b[0m\n\u001b[0;32m      7\u001b[0m         \u001b[1;32mfor\u001b[0m \u001b[0mj\u001b[0m \u001b[1;32min\u001b[0m \u001b[0mrange\u001b[0m\u001b[1;33m(\u001b[0m\u001b[1;36m0\u001b[0m\u001b[1;33m,\u001b[0m\u001b[0mlen\u001b[0m\u001b[1;33m(\u001b[0m\u001b[0mY\u001b[0m\u001b[1;33m)\u001b[0m\u001b[1;33m,\u001b[0m\u001b[1;36m2\u001b[0m\u001b[1;33m)\u001b[0m\u001b[1;33m:\u001b[0m\u001b[1;33m\u001b[0m\u001b[0m\n\u001b[0;32m      8\u001b[0m             \u001b[1;32mif\u001b[0m \u001b[1;33m(\u001b[0m\u001b[0mi\u001b[0m \u001b[1;33m!=\u001b[0m \u001b[0mj\u001b[0m\u001b[1;33m)\u001b[0m\u001b[1;33m:\u001b[0m \u001b[1;31m#Utilizamos esta condición para evitar calcular la fuerza que una masa ejerce sobre sí misma.\u001b[0m\u001b[1;33m\u001b[0m\u001b[0m\n\u001b[1;32m----> 9\u001b[1;33m                 \u001b[0mv\u001b[0m \u001b[1;33m-=\u001b[0m \u001b[0mG\u001b[0m\u001b[1;33m*\u001b[0m\u001b[1;33m(\u001b[0m\u001b[0mM\u001b[0m\u001b[1;33m[\u001b[0m\u001b[0mint\u001b[0m\u001b[1;33m(\u001b[0m\u001b[0mj\u001b[0m\u001b[1;33m/\u001b[0m\u001b[1;36m2\u001b[0m\u001b[1;33m)\u001b[0m\u001b[1;33m]\u001b[0m\u001b[1;33m)\u001b[0m\u001b[1;33m*\u001b[0m\u001b[1;33m(\u001b[0m\u001b[1;33m(\u001b[0m\u001b[0mY\u001b[0m\u001b[1;33m[\u001b[0m\u001b[0mi\u001b[0m\u001b[1;33m]\u001b[0m \u001b[1;33m-\u001b[0m \u001b[0mY\u001b[0m\u001b[1;33m[\u001b[0m\u001b[0mj\u001b[0m\u001b[1;33m]\u001b[0m\u001b[1;33m)\u001b[0m \u001b[1;33m/\u001b[0m \u001b[0mnorm\u001b[0m\u001b[1;33m(\u001b[0m\u001b[0mY\u001b[0m\u001b[1;33m[\u001b[0m\u001b[0mi\u001b[0m\u001b[1;33m]\u001b[0m \u001b[1;33m-\u001b[0m \u001b[0mY\u001b[0m\u001b[1;33m[\u001b[0m\u001b[0mj\u001b[0m\u001b[1;33m]\u001b[0m\u001b[1;33m)\u001b[0m\u001b[1;33m**\u001b[0m\u001b[1;36m3\u001b[0m\u001b[1;33m)\u001b[0m\u001b[1;33m\u001b[0m\u001b[0m\n\u001b[0m\u001b[0;32m     10\u001b[0m         \u001b[0minfo\u001b[0m\u001b[1;33m.\u001b[0m\u001b[0mextend\u001b[0m\u001b[1;33m(\u001b[0m\u001b[1;33m(\u001b[0m\u001b[0mY\u001b[0m\u001b[1;33m[\u001b[0m\u001b[0mi\u001b[0m\u001b[1;33m+\u001b[0m\u001b[1;36m1\u001b[0m\u001b[1;33m]\u001b[0m\u001b[1;33m,\u001b[0m\u001b[0mv\u001b[0m\u001b[1;33m)\u001b[0m\u001b[1;33m)\u001b[0m\u001b[1;33m\u001b[0m\u001b[0m\n\u001b[0;32m     11\u001b[0m     \u001b[0minformacion\u001b[0m \u001b[1;33m=\u001b[0m \u001b[0mnp\u001b[0m\u001b[1;33m.\u001b[0m\u001b[0marray\u001b[0m\u001b[1;33m(\u001b[0m\u001b[0minfo\u001b[0m\u001b[1;33m)\u001b[0m\u001b[1;33m\u001b[0m\u001b[0m\n",
      "\u001b[1;31mTypeError\u001b[0m: unsupported operand type(s) for ** or pow(): 'vector' and 'int'"
     ]
    }
   ],
   "source": [
    "visualgraph(InfoInicial,masas,0.1)"
   ]
  },
  {
   "cell_type": "code",
   "execution_count": null,
   "metadata": {
    "collapsed": true
   },
   "outputs": [],
   "source": [
    "#Corremos la simulación para media unidad de tiempo y graficamos resultados.\n",
    "hist=simulacion(Y=InfoInicial,M=masas,numIter=2000)\n",
    "#graficador(hist,masa=1)\n",
    "#graficador(hist,masa=2)\n",
    "#graficador(hist,masa=3)\n",
    "graficador(hist)"
   ]
  }
 ],
 "metadata": {
  "kernelspec": {
   "display_name": "Python 2",
   "language": "python",
   "name": "python2"
  },
  "language_info": {
   "codemirror_mode": {
    "name": "ipython",
    "version": 2
   },
   "file_extension": ".py",
   "mimetype": "text/x-python",
   "name": "python",
   "nbconvert_exporter": "python",
   "pygments_lexer": "ipython2",
   "version": "2.7.6"
  }
 },
 "nbformat": 4,
 "nbformat_minor": 0
}
