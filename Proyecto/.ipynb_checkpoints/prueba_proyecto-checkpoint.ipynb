{
 "cells": [
  {
   "cell_type": "code",
   "execution_count": 1,
   "metadata": {
    "collapsed": false
   },
   "outputs": [
    {
     "name": "stderr",
     "output_type": "stream",
     "text": [
      "/usr/lib/python2.7/dist-packages/visual/materials.py:70: FutureWarning: comparison to `None` will result in an elementwise object comparison in the future.\n",
      "  self.__setattr__(key, value)\n"
     ]
    }
   ],
   "source": [
    "import visual as v\n",
    "import numpy as np"
   ]
  },
  {
   "cell_type": "code",
   "execution_count": null,
   "metadata": {
    "collapsed": false
   },
   "outputs": [],
   "source": [
    "#v.scene.autoscale=v.true;\n",
    "\n",
    "m1 = v.sphere(pos=np.array([10.,0.,0.]),vel=np.array([0.,0.,0.5]),\n",
    "              mass=10.0, color=v.color.red,\n",
    "              make_trail=True, interval=2, retain=1000)\n",
    "\n",
    "m2 = v.sphere(pos=np.array([-10.,0.,3.]),vel=np.array([0.,-1.,0.5]),\n",
    "              mass=20.0, color=v.color.yellow,\n",
    "              make_trail=True, interval=2, retain=1000)\n",
    "\n",
    "m3 = v.sphere(pos=np.array([0.,0.,0.]),vel=np.array([0.,0.1,0.1]),\n",
    "              mass=5.0, color=v.color.white,\n",
    "              make_trail=True, interval=2, retain=1000)\n",
    "\n",
    "## move to the centre of mass frame and adjust sizes for constant density\n",
    "vcentre=(m1.mass*m1.vel+m2.mass*m2.vel+m3.mass*m3.vel)/(m1.mass+m2.mass+m3.mass)\n",
    "for a in [m1, m2, m3]:\n",
    "  a.vel -= vcentre\n",
    "  a.radius = 0.5*a.mass**(1.0/3.0)\n",
    "\n",
    "def dydt(y):\n",
    "## determine the derivative of the state vector y\n",
    "    deriv = np.zeros((6,3))\n",
    "    r12=y[0]-y[2]; r23=y[2]-y[4]; r31=y[4]-y[0]\n",
    "    r12c=r12/np.linalg.norm(r12)**3; r23c=r23/np.linalg.norm(r23)**3; r31c=r31/np.linalg.norm(r31)**3\n",
    "    deriv[1] = -m2.mass*r12c + m3.mass*r31c\n",
    "    deriv[3] = -m3.mass*r23c + m1.mass*r12c\n",
    "    deriv[5] = -m1.mass*r31c + m2.mass*r23c\n",
    "    deriv[0:5:2] = y[1:6:2] ## just copy the three velocities from y\n",
    "    return deriv\n",
    "\n",
    "dt = 0.1 ## the time step.  Keep this as small as possible.\n",
    "\n",
    "#iteras = 0\n",
    "while True:#(iteras < 100):\n",
    "    v.rate(100)\n",
    "    ## solve using forth-order Runge Kutta.  See CHOPF p62.\n",
    "    y = [m1.pos,m1.vel,m2.pos,m2.vel,m3.pos,m3.vel]\n",
    "    k1 = dt*dydt(y);  k2 = dt*dydt(y+k1/2.0)\n",
    "    k3 = dt*dydt(y+k2/2.0);  k4 = dt*dydt(y+k3)\n",
    "    dy = k1/6.0 + k2/3.0 +k3/3.0 + k4/6.0\n",
    "    ## update the animation\n",
    "    m1.pos += dy[0]; m1.vel += dy[1]\n",
    "    m2.pos += dy[2]; m2.vel += dy[3]\n",
    "    m3.pos += dy[4]; m3.vel += dy[5]\n",
    "    #iteras+=1\n",
    "    #print(iteras)"
   ]
  },
  {
   "cell_type": "code",
   "execution_count": 2,
   "metadata": {
    "collapsed": false
   },
   "outputs": [
    {
     "data": {
      "text/plain": [
       "array([[ 0.,  0.,  0.],\n",
       "       [ 0.,  0.,  0.],\n",
       "       [ 0.,  0.,  0.],\n",
       "       [ 0.,  0.,  0.],\n",
       "       [ 0.,  0.,  0.],\n",
       "       [ 0.,  0.,  0.]])"
      ]
     },
     "execution_count": 2,
     "metadata": {},
     "output_type": "execute_result"
    }
   ],
   "source": [
    "np.zeros((6,3))"
   ]
  },
  {
   "cell_type": "code",
   "execution_count": 4,
   "metadata": {
    "collapsed": false
   },
   "outputs": [
    {
     "data": {
      "text/plain": [
       "array([[0, 0, 0],\n",
       "       [0, 0, 0],\n",
       "       [0, 0, 0],\n",
       "       [0, 0, 0],\n",
       "       [0, 0, 0],\n",
       "       [0, 0, 0]], dtype=object)"
      ]
     },
     "execution_count": 4,
     "metadata": {},
     "output_type": "execute_result"
    }
   ],
   "source": [
    "v.zeros((6,3), dtype=v.vector)"
   ]
  },
  {
   "cell_type": "code",
   "execution_count": 3,
   "metadata": {
    "collapsed": false
   },
   "outputs": [
    {
     "data": {
      "text/plain": [
       "5.0"
      ]
     },
     "execution_count": 3,
     "metadata": {},
     "output_type": "execute_result"
    }
   ],
   "source": [
    "v.mag([3,4])"
   ]
  },
  {
   "cell_type": "code",
   "execution_count": 5,
   "metadata": {
    "collapsed": false
   },
   "outputs": [
    {
     "data": {
      "text/plain": [
       "5.0"
      ]
     },
     "execution_count": 5,
     "metadata": {},
     "output_type": "execute_result"
    }
   ],
   "source": [
    "np.linalg.norm([3,4])"
   ]
  },
  {
   "cell_type": "code",
   "execution_count": null,
   "metadata": {
    "collapsed": true
   },
   "outputs": [],
   "source": []
  }
 ],
 "metadata": {
  "kernelspec": {
   "display_name": "Python 2",
   "language": "python",
   "name": "python2"
  },
  "language_info": {
   "codemirror_mode": {
    "name": "ipython",
    "version": 2
   },
   "file_extension": ".py",
   "mimetype": "text/x-python",
   "name": "python",
   "nbconvert_exporter": "python",
   "pygments_lexer": "ipython2",
   "version": "2.7.6"
  }
 },
 "nbformat": 4,
 "nbformat_minor": 0
}
