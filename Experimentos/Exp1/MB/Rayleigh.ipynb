{
 "cells": [
  {
   "cell_type": "code",
   "execution_count": 2,
   "metadata": {
    "collapsed": false
   },
   "outputs": [],
   "source": [
    "import numpy as np\n",
    "import matplotlib.pyplot as plt"
   ]
  },
  {
   "cell_type": "code",
   "execution_count": 3,
   "metadata": {
    "collapsed": false
   },
   "outputs": [],
   "source": [
    "datos=np.genfromtxt('Rayleigh.csv',delimiter=\",\",names=True)"
   ]
  },
  {
   "cell_type": "code",
   "execution_count": 9,
   "metadata": {
    "collapsed": false
   },
   "outputs": [
    {
     "name": "stdout",
     "output_type": "stream",
     "text": [
      "<type 'numpy.ndarray'>\n"
     ]
    }
   ],
   "source": [
    "print type(datos)"
   ]
  },
  {
   "cell_type": "code",
   "execution_count": 14,
   "metadata": {
    "collapsed": false
   },
   "outputs": [
    {
     "name": "stdout",
     "output_type": "stream",
     "text": [
      "[-35.601966 -33.776224 -31.950483 ...,  34.200534  33.77183  -36.085946]\n",
      "[-35.601966 -35.601966 -35.601966 ...,  35.281403 -36.144943  34.649831]\n",
      "[-0.516736 -1.458269 -0.567062 ...,  0.612699 -1.335435 -0.874573]\n",
      "[-1.319366 -0.22155  -1.301344 ..., -0.373448 -0.491006  0.568588]\n"
     ]
    }
   ],
   "source": [
    "print datos['x']\n",
    "print datos['y']\n",
    "print datos['vx']\n",
    "print datos['vy']"
   ]
  },
  {
   "cell_type": "code",
   "execution_count": 4,
   "metadata": {
    "collapsed": false
   },
   "outputs": [],
   "source": [
    "##Histograma vector velocidad\n",
    "##Graficar distribución de Rayleigh\n",
    "##\n",
    "##\n",
    "##\n",
    "##\n",
    "##\n",
    "##\n",
    "##\n",
    "v = np.sqrt((datos['vx'])**2 + (datos['vy'])**2)"
   ]
  },
  {
   "cell_type": "code",
   "execution_count": 44,
   "metadata": {
    "collapsed": false
   },
   "outputs": [],
   "source": [
    "plt.figure(figsize=(16, 7))\n",
    "plt.subplots_adjust(hspace=0.00, wspace=0.20)\n",
    "plt.subplot(1,2,1)\n",
    "plt.hist((datos['vx']),bins=15,label='vx',color='red')\n",
    "plt.legend()\n",
    "plt.subplot(1,2,2)\n",
    "plt.hist((datos['vy']),bins=15,label='vy')\n",
    "plt.legend()\n",
    "plt.show()"
   ]
  },
  {
   "cell_type": "code",
   "execution_count": 45,
   "metadata": {
    "collapsed": false
   },
   "outputs": [],
   "source": [
    "plt.hist(v,bins=100,label='v',color='red')\n",
    "plt.show()"
   ]
  },
  {
   "cell_type": "code",
   "execution_count": 4,
   "metadata": {
    "collapsed": false
   },
   "outputs": [
    {
     "name": "stdout",
     "output_type": "stream",
     "text": [
      "Help on function cla in module matplotlib.pyplot:\n",
      "\n",
      "cla()\n",
      "    Clear the current axes.\n",
      "\n"
     ]
    }
   ],
   "source": [
    "help(plt.cla)"
   ]
  },
  {
   "cell_type": "code",
   "execution_count": null,
   "metadata": {
    "collapsed": false
   },
   "outputs": [],
   "source": [
    "ini=1600*200\n",
    "step=1600\n",
    "for i in range(200,int(len(v)/1600)):\n",
    "    plt.figure()\n",
    "    plt.hist(v[ini:ini+step],bins=100,label='v',color='red')\n",
    "    ini+=step\n",
    "    plt.show()\n",
    "    plt.close()\n",
    "    #plt.savefig(\"ray%d.png\"%i, format='png',bbox_inches='tight',transparent=False)"
   ]
  },
  {
   "cell_type": "code",
   "execution_count": 52,
   "metadata": {
    "collapsed": false
   },
   "outputs": [
    {
     "data": {
      "text/plain": [
       "251.0"
      ]
     },
     "execution_count": 52,
     "metadata": {},
     "output_type": "execute_result"
    }
   ],
   "source": [
    "len(v)/1600"
   ]
  },
  {
   "cell_type": "code",
   "execution_count": 9,
   "metadata": {
    "collapsed": false
   },
   "outputs": [],
   "source": [
    "plt.hist(v[-3200:],bins=100,label='v',color='red')\n",
    "plt.show()"
   ]
  },
  {
   "cell_type": "code",
   "execution_count": null,
   "metadata": {
    "collapsed": true
   },
   "outputs": [],
   "source": []
  }
 ],
 "metadata": {
  "kernelspec": {
   "display_name": "Python 3",
   "language": "python",
   "name": "python3"
  },
  "language_info": {
   "codemirror_mode": {
    "name": "ipython",
    "version": 3
   },
   "file_extension": ".py",
   "mimetype": "text/x-python",
   "name": "python",
   "nbconvert_exporter": "python",
   "pygments_lexer": "ipython3",
   "version": "3.4.0"
  }
 },
 "nbformat": 4,
 "nbformat_minor": 0
}
